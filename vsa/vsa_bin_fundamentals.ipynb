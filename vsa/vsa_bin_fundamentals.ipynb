{
 "cells": [
  {
   "cell_type": "markdown",
   "id": "0c943662-5b29-4c1c-9306-f0c3eaf65c82",
   "metadata": {},
   "source": [
    "# VSA Binary Fundamentals\n",
    "- Just like the VSA fundamentals, this is just a recreation of some examples and statistical proofs"
   ]
  },
  {
   "cell_type": "markdown",
   "id": "47118661-1a3f-4b4a-b63c-a00abccc16a3",
   "metadata": {},
   "source": [
    "# Importing Functions"
   ]
  },
  {
   "cell_type": "code",
   "execution_count": 2,
   "id": "29c3a000-6066-4da5-b8f7-235e4794d0ef",
   "metadata": {},
   "outputs": [
    {
     "name": "stdout",
     "output_type": "stream",
     "text": [
      "VSA Library: \\\\wsl.localhost\\Ubuntu\\home\\rantonio\\chronomatica\\vsa/../lib/\n"
     ]
    }
   ],
   "source": [
    "# Import library\n",
    "import os\n",
    "import sys\n",
    "\n",
    "# Gets directory where script was launched from\n",
    "script_dir = os.getcwd()  \n",
    "script_dir = script_dir + \"/../lib/\"\n",
    "print(f\"VSA Library: {script_dir}\")\n",
    "\n",
    "# Add the directory to Python's search path\n",
    "sys.path.append(script_dir)  \n",
    "\n",
    "import vsa"
   ]
  },
  {
   "cell_type": "markdown",
   "id": "0dc04e78",
   "metadata": {},
   "source": [
    "# Hypervector Generation"
   ]
  },
  {
   "cell_type": "code",
   "execution_count": 3,
   "id": "efb5f218-0665-4b0e-aa1c-840becb6cbf5",
   "metadata": {},
   "outputs": [
    {
     "name": "stdout",
     "output_type": "stream",
     "text": [
      "Size: 1024, % of ones: 50.88%\n",
      "Size: 2048, % of ones: 50.00%\n",
      "Size: 4096, % of ones: 51.00%\n",
      "Size: 8192, % of ones: 49.37%\n",
      "Size: 16384, % of ones: 50.29%\n"
     ]
    }
   ],
   "source": [
    "size_list = [1024, 2048, 4096, 8192, 16384]\n",
    "\n",
    "for size in size_list:\n",
    "    # Generate a binary HV\n",
    "    A = vsa.gen_hv(size, type='binary')\n",
    "    # Calculate percentage of ones\n",
    "    sum_of_ones = A.sum()\n",
    "    percent_of_ones = (sum_of_ones / size) * 100\n",
    "    print(f\"Size: {size}, % of ones: {percent_of_ones:.2f}%\")"
   ]
  },
  {
   "cell_type": "markdown",
   "id": "59e5cb35",
   "metadata": {},
   "source": [
    "# Hypervector Similarity"
   ]
  },
  {
   "cell_type": "code",
   "execution_count": 4,
   "id": "2b54bd99",
   "metadata": {},
   "outputs": [
    {
     "name": "stdout",
     "output_type": "stream",
     "text": [
      "Size: 1024, d(A,B): 49.51%\n",
      "Size: 2048, d(A,B): 51.51%\n",
      "Size: 4096, d(A,B): 49.83%\n",
      "Size: 8192, d(A,B): 49.85%\n",
      "Size: 16384, d(A,B): 51.03%\n"
     ]
    }
   ],
   "source": [
    "for size in size_list:\n",
    "    # Generate two binary HVs\n",
    "    A = vsa.gen_hv(size, type='binary')\n",
    "    B = vsa.gen_hv(size, type='binary')\n",
    "    # Calculate the Hamming distance\n",
    "    ham_AB = vsa.hv_ham(A, B)*100\n",
    "    print(f\"Size: {size}, d(A,B): {ham_AB:.2f}%\")"
   ]
  },
  {
   "cell_type": "markdown",
   "id": "2c5e692c",
   "metadata": {},
   "source": [
    "# Bundling to Combine HVs and Preserve Similarity"
   ]
  },
  {
   "cell_type": "code",
   "execution_count": 5,
   "id": "920d3b58",
   "metadata": {},
   "outputs": [
    {
     "name": "stdout",
     "output_type": "stream",
     "text": [
      "Size: 1024, d(H,A): 22.46%, d(H,B): 24.12%, d(H,C): 26.27%\n",
      "Size: 2048, d(H,A): 26.27%, d(H,B): 24.07%, d(H,C): 26.12%\n",
      "Size: 4096, d(H,A): 24.29%, d(H,B): 25.85%, d(H,C): 26.12%\n",
      "Size: 8192, d(H,A): 24.39%, d(H,B): 25.44%, d(H,C): 25.40%\n",
      "Size: 16384, d(H,A): 24.65%, d(H,B): 26.02%, d(H,C): 24.58%\n"
     ]
    }
   ],
   "source": [
    "for size in size_list:\n",
    "    # Generate two binary HVs\n",
    "    A = vsa.gen_hv(size, type='binary')\n",
    "    B = vsa.gen_hv(size, type='binary')\n",
    "    C = vsa.gen_hv(size, type='binary')\n",
    "    # Bundlg the HVs\n",
    "    bundle_group = [A, B, C]\n",
    "    H = vsa.hv_add(bundle_group, threshold=1.5)\n",
    "    # Calculate the Hamming distances\n",
    "    ham_HA = vsa.hv_ham(H, A) * 100\n",
    "    ham_HB = vsa.hv_ham(H, B) * 100\n",
    "    ham_HC = vsa.hv_ham(H, C) * 100\n",
    "    print(f\"Size: {size}, d(H,A): {ham_HA:.2f}%, d(H,B): {ham_HB:.2f}%, d(H,C): {ham_HC:.2f}%\")\n"
   ]
  },
  {
   "cell_type": "markdown",
   "id": "7c9e153a",
   "metadata": {},
   "source": [
    "# Binding to Combine HVs and Create NEW HVs"
   ]
  },
  {
   "cell_type": "code",
   "execution_count": 6,
   "id": "73a95239",
   "metadata": {},
   "outputs": [
    {
     "name": "stdout",
     "output_type": "stream",
     "text": [
      "Size: 1024, d(G,A): 49.71%, d(G,B): 50.00%, d(G,C): 51.07%\n",
      "Size: 2048, d(G,A): 50.34%, d(G,B): 49.37%, d(G,C): 50.88%\n",
      "Size: 4096, d(G,A): 49.71%, d(G,B): 50.54%, d(G,C): 48.73%\n",
      "Size: 8192, d(G,A): 49.93%, d(G,B): 50.46%, d(G,C): 50.81%\n",
      "Size: 16384, d(G,A): 49.72%, d(G,B): 49.86%, d(G,C): 49.73%\n"
     ]
    }
   ],
   "source": [
    "for size in size_list:\n",
    "    # Generate two binary HVs\n",
    "    A = vsa.gen_hv(size, type='binary')\n",
    "    B = vsa.gen_hv(size, type='binary')\n",
    "    C = vsa.gen_hv(size, type='binary')\n",
    "    # Bundlg the HVs\n",
    "    bind_group = [A, B, C]\n",
    "    G = vsa.hv_xor_list(bind_group)\n",
    "    # Calculate the Hamming distances\n",
    "    ham_GA = vsa.hv_ham(G, A) * 100\n",
    "    ham_GB = vsa.hv_ham(G, B) * 100\n",
    "    ham_GC = vsa.hv_ham(G, C) * 100\n",
    "    print(f\"Size: {size}, d(G,A): {ham_GA:.2f}%, d(G,B): {ham_GB:.2f}%, d(G,C): {ham_GC:.2f}%\")\n"
   ]
  },
  {
   "cell_type": "markdown",
   "id": "714430ca",
   "metadata": {},
   "source": [
    "# Unbinding to Recall HVs"
   ]
  },
  {
   "cell_type": "code",
   "execution_count": 7,
   "id": "5eebb5e2",
   "metadata": {},
   "outputs": [
    {
     "name": "stdout",
     "output_type": "stream",
     "text": [
      "Size: 1024, d(B_unbound,B): 0.00%\n",
      "Size: 2048, d(B_unbound,B): 0.00%\n",
      "Size: 4096, d(B_unbound,B): 0.00%\n",
      "Size: 8192, d(B_unbound,B): 0.00%\n",
      "Size: 16384, d(B_unbound,B): 0.00%\n"
     ]
    }
   ],
   "source": [
    "for size in size_list:\n",
    "    # Generate two binary HVs\n",
    "    A = vsa.gen_hv(size, type='binary')\n",
    "    B = vsa.gen_hv(size, type='binary')\n",
    "    # Bind the HVs\n",
    "    G = vsa.hv_xor(A, B)\n",
    "    # Unbind A to get B\n",
    "    B_unbound = vsa.hv_xor(G, A)\n",
    "    # Compare if B_unbound is equal to B\n",
    "    ham_B_unbound_B = vsa.hv_ham(B_unbound, B) * 100\n",
    "    print(f\"Size: {size}, d(B_unbound,B): {ham_B_unbound_B:.2f}%\")"
   ]
  },
  {
   "cell_type": "markdown",
   "id": "22f514e6",
   "metadata": {},
   "source": [
    "# Permute to Transform Itself"
   ]
  },
  {
   "cell_type": "code",
   "execution_count": 8,
   "id": "2accd200",
   "metadata": {},
   "outputs": [
    {
     "name": "stdout",
     "output_type": "stream",
     "text": [
      "Size: 1024, d(A,pA): 51.56%, d(A,ppA): 49.61%\n",
      "Size: 2048, d(A,pA): 50.59%, d(A,ppA): 51.37%\n",
      "Size: 4096, d(A,pA): 48.83%, d(A,ppA): 49.80%\n",
      "Size: 8192, d(A,pA): 49.61%, d(A,ppA): 49.73%\n",
      "Size: 16384, d(A,pA): 50.23%, d(A,ppA): 50.38%\n"
     ]
    }
   ],
   "source": [
    "for size in size_list:\n",
    "    # Generate two binary HVs\n",
    "    A = vsa.gen_hv(size, type='binary')\n",
    "    # permute A\n",
    "    pA = vsa.hv_perm(A,1)\n",
    "    ppA = vsa.hv_perm(pA,1)\n",
    "    # Compare if B_unbound is equal to B\n",
    "    ham_ApA = vsa.hv_ham(A, pA) * 100\n",
    "    ham_AppA = vsa.hv_ham(A, ppA) * 100\n",
    "    print(f\"Size: {size}, d(A,pA): {ham_ApA:.2f}%, d(A,ppA): {ham_AppA:.2f}%\")"
   ]
  },
  {
   "cell_type": "markdown",
   "id": "08803973",
   "metadata": {},
   "source": [
    "# Some Exercises"
   ]
  },
  {
   "cell_type": "markdown",
   "id": "b5f63c9e",
   "metadata": {},
   "source": [
    "## Exercise Level 1\n",
    "\n",
    "Suppose we have:\n",
    "\n",
    "$ G = A \\otimes B \\otimes C \\otimes D \\otimes E $\n",
    "\n",
    "What would be the distances for the following?\n",
    "- $d(G,A) = ?$\n",
    "- $d(G,F) = ?$\n",
    "- $d(G,A \\otimes B) = ?$\n",
    "- $d(G,A \\otimes B \\otimes C) = ?$"
   ]
  },
  {
   "cell_type": "code",
   "execution_count": 9,
   "id": "76fa8b6c",
   "metadata": {},
   "outputs": [
    {
     "name": "stdout",
     "output_type": "stream",
     "text": [
      "Size: 10000, d(G,A): 49.77%, d(G,F): 50.17%, d(G,G2): 49.18%, d(G,G3): 50.04%\n"
     ]
    }
   ],
   "source": [
    "# Let's use a size of 10,000 for here\n",
    "hv_dim = 10000\n",
    "\n",
    "# Generate all binary HVs A to F\n",
    "A = vsa.gen_hv(hv_dim, type='binary')\n",
    "B = vsa.gen_hv(hv_dim, type='binary')\n",
    "C = vsa.gen_hv(hv_dim, type='binary')\n",
    "D = vsa.gen_hv(hv_dim, type='binary')\n",
    "E = vsa.gen_hv(hv_dim, type='binary')\n",
    "F = vsa.gen_hv(hv_dim, type='binary')\n",
    "\n",
    "# Make the binded group\n",
    "bind_group = [A, B, C, D, E]\n",
    "G = vsa.hv_xor_list(bind_group)\n",
    "\n",
    "# Other bind combinations\n",
    "bind_group2 = [A, B]\n",
    "bind_group3 = [A, B, C]\n",
    "G2 = vsa.hv_xor_list(bind_group2)\n",
    "G3 = vsa.hv_xor_list(bind_group3)\n",
    "\n",
    "# Get distances of certain combinations\n",
    "ham_GA = vsa.hv_ham(G, A) * 100\n",
    "ham_GB = vsa.hv_ham(G, F) * 100\n",
    "ham_GG2 = vsa.hv_ham(G, G2) * 100\n",
    "ham_GG3 = vsa.hv_ham(G, G3) * 100\n",
    "\n",
    "print(f\"Size: {hv_dim}, d(G,A): {ham_GA:.2f}%, d(G,F): {ham_GB:.2f}%, d(G,G2): {ham_GG2:.2f}%, d(G,G3): {ham_GG3:.2f}%\")"
   ]
  },
  {
   "cell_type": "markdown",
   "id": "713f8b76",
   "metadata": {},
   "source": [
    "Suppose we have HVs A, B, C, and D. True or false?\n",
    "\n",
    "- $\\rho(A) \\otimes \\rho(B) = \\rho(A \\otimes B)$ ?\n",
    "- $\\rho^{-1}(\\rho(A) \\otimes \\rho (B)) = A \\otimes B$ ?\n",
    "- $D \\otimes [A + B + C] = [A \\otimes D + B \\otimes D + C \\otimes D]$ ?"
   ]
  },
  {
   "cell_type": "code",
   "execution_count": 10,
   "id": "f5b509fa",
   "metadata": {},
   "outputs": [
    {
     "name": "stdout",
     "output_type": "stream",
     "text": [
      "Size: 10000, d(pApB,pAB): 0.00%\n",
      "Size: 10000, d(AB, unpAB): 0.00%\n",
      "Size: 10000, d(DH,H2): 0.00%\n"
     ]
    }
   ],
   "source": [
    "# Let's use a size of 10,000 for here\n",
    "hv_dim = 10000\n",
    "\n",
    "# Generate all binary HVs A to F\n",
    "A = vsa.gen_hv(hv_dim, type='binary')\n",
    "B = vsa.gen_hv(hv_dim, type='binary')\n",
    "C = vsa.gen_hv(hv_dim, type='binary')\n",
    "D = vsa.gen_hv(hv_dim, type='binary')\n",
    "\n",
    "# Permutation example 1: -----------------------\n",
    "pA = vsa.hv_perm(A, 1)\n",
    "pB = vsa.hv_perm(B, 1)\n",
    "pApB = vsa.hv_xor(pA, pB)\n",
    "\n",
    "# Permutation of combination\n",
    "AB = vsa.hv_xor(A, B)\n",
    "pAB = vsa.hv_perm(AB, 1)\n",
    "\n",
    "ham_pApBpAB = vsa.hv_ham(pApB, pAB) * 100\n",
    "print(f\"Size: {hv_dim}, d(pApB,pAB): {ham_pApBpAB:.2f}%\")\n",
    "\n",
    "# Permutation example 2: -----------------------\n",
    "unpAB = vsa.hv_perm(pApB, -1)\n",
    "\n",
    "ham_AB = vsa.hv_ham(AB, unpAB) * 100\n",
    "print(f\"Size: {hv_dim}, d(AB, unpAB): {ham_AB:.2f}%\")\n",
    "\n",
    "# Distributive property example: -----------------------\n",
    "bundle_group = [A, B, C]\n",
    "H = vsa.hv_add(bundle_group, threshold=1.5)\n",
    "DH = vsa.hv_xor(D, H)\n",
    "\n",
    "# Per element bind\n",
    "AD = vsa.hv_xor(A, D)\n",
    "BD = vsa.hv_xor(B, D)\n",
    "CD = vsa.hv_xor(C, D)\n",
    "\n",
    "# Bundling the per element binds\n",
    "bundle_group2 = [AD, BD, CD]\n",
    "H2 = vsa.hv_add(bundle_group2, threshold=1.5)\n",
    "\n",
    "# Compare distances\n",
    "ham_DH = vsa.hv_ham(DH, H2) * 100\n",
    "\n",
    "print(f\"Size: {hv_dim}, d(DH,H2): {ham_DH:.2f}%\")"
   ]
  },
  {
   "cell_type": "markdown",
   "id": "92d19925",
   "metadata": {},
   "source": [
    "## Exercise Level 2\n",
    "Suppose we have:\n",
    "$H = [A+B+C+D+E+F]$\n",
    "\n",
    "What would the following be?\n",
    "- $d(H,A)=?$\n",
    "- $d(H,G)=?$\n",
    "- $d(H,A \\otimes B)=?$\n",
    "- $d(H,[A+B+C])=?$\n",
    "- $d(H,[A+B+C+D+E])=?$"
   ]
  },
  {
   "cell_type": "code",
   "execution_count": 44,
   "id": "fb9dd13f",
   "metadata": {},
   "outputs": [
    {
     "name": "stdout",
     "output_type": "stream",
     "text": [
      "Size: 10000, d(H,A): 33.87%, d(H,Z): 49.46%, d(H,AB): 50.27%, d(H,H2): 23.94%, d(H,H3): 15.39%\n"
     ]
    }
   ],
   "source": [
    "# Let's use a size of 10,000 for here\n",
    "hv_dim = 10000\n",
    "\n",
    "# Generate all binary HVs A to F\n",
    "A = vsa.gen_hv(hv_dim, type='binary')\n",
    "B = vsa.gen_hv(hv_dim, type='binary')\n",
    "C = vsa.gen_hv(hv_dim, type='binary')\n",
    "D = vsa.gen_hv(hv_dim, type='binary')\n",
    "E = vsa.gen_hv(hv_dim, type='binary')\n",
    "F = vsa.gen_hv(hv_dim, type='binary')\n",
    "G = vsa.gen_hv(hv_dim, type='binary')\n",
    "Z = vsa.gen_hv(hv_dim, type='binary')\n",
    "\n",
    "# Make the bounded group\n",
    "bundled_group = [A, B, C, D, E, F, G]\n",
    "H = vsa.hv_add(bundled_group, threshold=3.5)\n",
    "\n",
    "# Bind AB\n",
    "AB = vsa.hv_xor(A, B)\n",
    "\n",
    "# Subgroups\n",
    "subgroup1 = [A, B, C]\n",
    "subgroup2 = [A, B, C, D, E]\n",
    "H2 = vsa.hv_add(subgroup1, threshold=1.5)\n",
    "H3 = vsa.hv_add(subgroup2, threshold=2.5)\n",
    "\n",
    "# Calculate distances\n",
    "ham_HA = vsa.hv_ham(H, A) * 100\n",
    "ham_HZ = vsa.hv_ham(H, Z) * 100\n",
    "ham_HAB = vsa.hv_ham(H, AB) * 100\n",
    "ham_HH2 = vsa.hv_ham(H, H2) * 100\n",
    "ham_HH3 = vsa.hv_ham(H, H3) * 100\n",
    "\n",
    "# Print results\n",
    "print(f\"Size: {hv_dim}, d(H,A): {ham_HA:.2f}%, d(H,Z): {ham_HZ:.2f}%, d(H,AB): {ham_HAB:.2f}%, d(H,H2): {ham_HH2:.2f}%, d(H,H3): {ham_HH3:.2f}%\")"
   ]
  },
  {
   "cell_type": "markdown",
   "id": "53e56a82",
   "metadata": {},
   "source": [
    "Suppose:\n",
    "$H = [A \\otimes B + C \\otimes D + E \\otimes F]$\n",
    "\n",
    "What would the following be?\n",
    "- $d(H,A)=?$\n",
    "- $d(H,A \\otimes B)=?$\n",
    "- $d(H,E \\otimes F)=?$"
   ]
  },
  {
   "cell_type": "code",
   "execution_count": 55,
   "id": "fbc03e08",
   "metadata": {},
   "outputs": [
    {
     "name": "stdout",
     "output_type": "stream",
     "text": [
      "Size: 10000, d(H,AC): 49.93%, d(H,AB): 25.68%, d(H,EF): 24.53%\n"
     ]
    }
   ],
   "source": [
    "# Let's use a size of 10,000 for here\n",
    "hv_dim = 10000\n",
    "\n",
    "# Generate all binary HVs A to F\n",
    "A = vsa.gen_hv(hv_dim, type='binary')\n",
    "B = vsa.gen_hv(hv_dim, type='binary')\n",
    "C = vsa.gen_hv(hv_dim, type='binary')\n",
    "D = vsa.gen_hv(hv_dim, type='binary')\n",
    "E = vsa.gen_hv(hv_dim, type='binary')\n",
    "F = vsa.gen_hv(hv_dim, type='binary')\n",
    "\n",
    "# Make composite bindings\n",
    "AB = vsa.hv_xor(A, B)\n",
    "CD = vsa.hv_xor(C, D)\n",
    "EF = vsa.hv_xor(E, F)\n",
    "\n",
    "# Make AC binding\n",
    "AC = vsa.hv_xor(A, C)\n",
    "\n",
    "# Bundlle the composite bindings\n",
    "bundle_group = [AB, CD, EF]\n",
    "H = vsa.hv_add(bundle_group, threshold=1.5)\n",
    "\n",
    "# Get distances\n",
    "ham_HAC = vsa.hv_ham(H, AC) * 100\n",
    "ham_HAB = vsa.hv_ham(H, AB) * 100\n",
    "ham_HEF = vsa.hv_ham(H, EF) * 100\n",
    "\n",
    "# Print results\n",
    "print(f\"Size: {hv_dim}, d(H,AC): {ham_HAC:.2f}%, d(H,AB): {ham_HAB:.2f}%, d(H,EF): {ham_HEF:.2f}%\")"
   ]
  },
  {
   "cell_type": "markdown",
   "id": "e2064f07",
   "metadata": {},
   "source": [
    "# Exercise Level 3\n",
    "Suppose we have:\n",
    "\n",
    "$H = [ABC + DEF +GHI]$\n",
    "\n",
    "note: Dropping the $\\otimes$ for brevity but it should still be inherent that \"multiplication\" is the XOR operator\n",
    "\n",
    "What would the following be?\n",
    "- $H \\otimes C$\n",
    "- $H \\otimes C \\otimes B$\n",
    "- $d(A, H \\otimes C \\otimes B) = ?$\n",
    "- $d(B, H \\otimes C \\otimes B) = ?$"
   ]
  },
  {
   "cell_type": "code",
   "execution_count": 69,
   "id": "f3fc42a6",
   "metadata": {},
   "outputs": [
    {
     "name": "stdout",
     "output_type": "stream",
     "text": [
      "Size: 10000, d(HC,H2): 0.00%, d(HCB,H3): 0.00%, d(A,HCB): 25.13%, d(B,HCB): 49.28%\n"
     ]
    }
   ],
   "source": [
    "# Let's use a size of 10,000 for here\n",
    "hv_dim = 10000\n",
    "\n",
    "# Generate all binary HVs A to F\n",
    "A = vsa.gen_hv(hv_dim, type='binary')\n",
    "B = vsa.gen_hv(hv_dim, type='binary')\n",
    "C = vsa.gen_hv(hv_dim, type='binary')\n",
    "D = vsa.gen_hv(hv_dim, type='binary')\n",
    "E = vsa.gen_hv(hv_dim, type='binary')\n",
    "F = vsa.gen_hv(hv_dim, type='binary')\n",
    "G = vsa.gen_hv(hv_dim, type='binary')\n",
    "I = vsa.gen_hv(hv_dim, type='binary')\n",
    "\n",
    "# Make composite bindings\n",
    "ABC_list = [A, B, C]\n",
    "DEF_list = [D, E, F]\n",
    "GHI_list = [G, H, I]\n",
    "\n",
    "ABC = vsa.hv_xor_list(ABC_list)\n",
    "DEF = vsa.hv_xor_list(DEF_list)\n",
    "GHI = vsa.hv_xor_list(GHI_list)\n",
    "\n",
    "# Bundle the composite bindings\n",
    "bundle_group = [ABC, DEF, GHI]\n",
    "H = vsa.hv_add(bundle_group, threshold=1.5)\n",
    "\n",
    "# Make other bindings\n",
    "HC = vsa.hv_xor(H, C)\n",
    "HCB = vsa.hv_xor(HC, B)\n",
    "\n",
    "# HC sub components\n",
    "AB = vsa.hv_xor(A, B)\n",
    "DEFC = vsa.hv_xor(DEF, C)\n",
    "GHIC = vsa.hv_xor(GHI, C)\n",
    "\n",
    "# HCB sub components\n",
    "DEFCB = vsa.hv_xor(DEFC, B)\n",
    "GHICB = vsa.hv_xor(GHIC, B)\n",
    "\n",
    "# HC = [AB + DEFC + GHIC]\n",
    "HC_bundle = [AB, DEFC, GHIC]\n",
    "H2 = vsa.hv_add(HC_bundle, threshold=1.5)\n",
    "\n",
    "# HCB = [A + DEFCB + GHICB]\n",
    "HCB_bundle = [A, DEFCB, GHICB]\n",
    "H3 = vsa.hv_add(HCB_bundle, threshold=1.5)\n",
    "\n",
    "# Get distances for the following combinations\n",
    "ham_HC_H2 = vsa.hv_ham(HC, H2) * 100\n",
    "ham_HCB_H3 = vsa.hv_ham(HCB, H3) * 100\n",
    "ham_A_HCB = vsa.hv_ham(A, HCB) * 100\n",
    "ham_B_HCB = vsa.hv_ham(B, HCB) * 100\n",
    "\n",
    "# Print results\n",
    "print(f\"Size: {hv_dim}, d(HC,H2): {ham_HC_H2:.2f}%, d(HCB,H3): {ham_HCB_H3:.2f}%, d(A,HCB): {ham_A_HCB:.2f}%, d(B,HCB): {ham_B_HCB:.2f}%\")\n"
   ]
  },
  {
   "cell_type": "markdown",
   "id": "5f6e8589",
   "metadata": {},
   "source": [
    "What would be the equivalent of $G = [A+B+C] \\otimes [D+E+F]$?"
   ]
  },
  {
   "cell_type": "code",
   "execution_count": 74,
   "id": "f039175e",
   "metadata": {},
   "outputs": [
    {
     "name": "stdout",
     "output_type": "stream",
     "text": [
      "Size: 10000, d(H,H3): 0.00%\n"
     ]
    }
   ],
   "source": [
    "# Let's use a size of 10,000 for here\n",
    "hv_dim = 10000\n",
    "\n",
    "# Generate all binary HVs A to F\n",
    "A = vsa.gen_hv(hv_dim, type='binary')\n",
    "B = vsa.gen_hv(hv_dim, type='binary')\n",
    "C = vsa.gen_hv(hv_dim, type='binary')\n",
    "D = vsa.gen_hv(hv_dim, type='binary')\n",
    "E = vsa.gen_hv(hv_dim, type='binary')\n",
    "F = vsa.gen_hv(hv_dim, type='binary')\n",
    "\n",
    "# Make [A+B+C] and [D+E+F] bundles\n",
    "bundle_group1 = [A, B, C]\n",
    "bundle_group2 = [D, E, F]\n",
    "H1 = vsa.hv_add(bundle_group1, threshold=1.5)\n",
    "H2 = vsa.hv_add(bundle_group2, threshold=1.5)\n",
    "\n",
    "# Bind the two bundles\n",
    "H = vsa.hv_xor(H1, H2)\n",
    "\n",
    "# Make binding combinations from bundled elements\n",
    "AD = vsa.hv_xor(A, D)\n",
    "AE = vsa.hv_xor(A, E)\n",
    "AF = vsa.hv_xor(A, F)\n",
    "BD = vsa.hv_xor(B, D)\n",
    "BE = vsa.hv_xor(B, E)\n",
    "BF = vsa.hv_xor(B, F)\n",
    "CD = vsa.hv_xor(C, D)\n",
    "CE = vsa.hv_xor(C, E)\n",
    "CF = vsa.hv_xor(C, F)\n",
    "\n",
    "# Bundle all the sub-bindings\n",
    "sub_bindings = [AD, AE, AF, BD, BE, BF, CD, CE, CF]\n",
    "H3 = vsa.hv_add(sub_bindings, threshold=4.5)\n",
    "\n",
    "# Compare H and H3 ditance\n",
    "ham_H_H3 = vsa.hv_ham(H, H3) * 100\n",
    "\n",
    "# Print results\n",
    "print(f\"Size: {hv_dim}, d(H,H3): {ham_H_H3:.2f}%\")\n"
   ]
  }
 ],
 "metadata": {
  "kernelspec": {
   "display_name": "tensorflow",
   "language": "python",
   "name": "python3"
  },
  "language_info": {
   "codemirror_mode": {
    "name": "ipython",
    "version": 3
   },
   "file_extension": ".py",
   "mimetype": "text/x-python",
   "name": "python",
   "nbconvert_exporter": "python",
   "pygments_lexer": "ipython3",
   "version": "3.9.18"
  }
 },
 "nbformat": 4,
 "nbformat_minor": 5
}

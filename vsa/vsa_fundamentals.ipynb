{
 "cells": [
  {
   "cell_type": "markdown",
   "id": "e90f7b42-23bb-4f75-bc5d-251a825331b4",
   "metadata": {},
   "source": [
    "# VSA Fundamentals\n",
    "\n",
    "Functions to demonstrate VSA fundamental operations."
   ]
  },
  {
   "cell_type": "code",
   "execution_count": 1,
   "id": "878e2367-c5a2-4bdd-8418-91b7560a9509",
   "metadata": {
    "execution": {
     "iopub.execute_input": "2025-04-04T08:10:09.409537Z",
     "iopub.status.busy": "2025-04-04T08:10:09.409039Z",
     "iopub.status.idle": "2025-04-04T08:10:09.734775Z",
     "shell.execute_reply": "2025-04-04T08:10:09.733245Z",
     "shell.execute_reply.started": "2025-04-04T08:10:09.409497Z"
    }
   },
   "outputs": [
    {
     "name": "stdout",
     "output_type": "stream",
     "text": [
      "VSA Library: /users/micas/rantonio/no_backup/kul_main/pytoy/vsa/../lib/\n"
     ]
    }
   ],
   "source": [
    "# Import library\n",
    "import os\n",
    "import sys\n",
    "\n",
    "# Gets directory where script was launched from\n",
    "script_dir = os.getcwd()  \n",
    "script_dir = script_dir + \"/../lib/\"\n",
    "print(f\"VSA Library: {script_dir}\")\n",
    "\n",
    "# Add the directory to Python's search path\n",
    "sys.path.append(script_dir)  \n",
    "\n",
    "import vsa"
   ]
  },
  {
   "cell_type": "markdown",
   "id": "5c6105f3-cd7a-4b67-a9c3-b1ea803fc1b4",
   "metadata": {},
   "source": [
    "# Generating Random Hypervectors\n",
    "\n",
    "- These hypervectors (HV) are naturally dissimilar to each other.\n",
    "- HV lengths need to be consistent all throughout\n",
    "- There are several flavors: bipolar, binary, real, and complex"
   ]
  },
  {
   "cell_type": "code",
   "execution_count": 2,
   "id": "4ab09f3c-c73d-428c-aca0-4a9e608ef57f",
   "metadata": {
    "execution": {
     "iopub.execute_input": "2025-04-04T08:10:09.737559Z",
     "iopub.status.busy": "2025-04-04T08:10:09.736525Z",
     "iopub.status.idle": "2025-04-04T08:10:09.773740Z",
     "shell.execute_reply": "2025-04-04T08:10:09.772258Z",
     "shell.execute_reply.started": "2025-04-04T08:10:09.737487Z"
    }
   },
   "outputs": [
    {
     "name": "stdout",
     "output_type": "stream",
     "text": [
      "HV A: [-1 -1  1 ...  1  1 -1]\n",
      "HV B: [ 1 -1 -1 ...  1 -1 -1]\n",
      "HV C: [-1 -1 -1 ... -1  1 -1]\n",
      "HV D: [ 1  1  1 ...  1 -1 -1]\n",
      "HV E: [-1 -1  1 ...  1  1  1]\n"
     ]
    }
   ],
   "source": [
    "size = 1024\n",
    "\n",
    "A = vsa.gen_hv(size, type='bipolar')\n",
    "B = vsa.gen_hv(size, type='bipolar')\n",
    "C = vsa.gen_hv(size, type='bipolar')\n",
    "D = vsa.gen_hv(size, type='bipolar')\n",
    "E = vsa.gen_hv(size, type='bipolar')\n",
    "\n",
    "print(f'HV A: {A}')\n",
    "print(f'HV B: {B}')\n",
    "print(f'HV C: {C}')\n",
    "print(f'HV D: {D}')\n",
    "print(f'HV E: {E}')"
   ]
  },
  {
   "cell_type": "markdown",
   "id": "c85209bf-427e-4e3b-91aa-e1bc31dca25d",
   "metadata": {},
   "source": [
    "# Similarity Measures\n",
    "\n",
    "- Dot product: $\\sum_i^{N} a_i \\cdot b_i$ dissimilar when dot product is close to 0\n",
    "- Hamming distance: $\\sum_i^{N} a_i \\otimes b_i$ dissimilar when hamming distance is near half of the dimension\n",
    "- Cosine similarity: $\\cos (A,B)$ dissimilar when value is close to 0\n",
    "- Randomly generated HVs are quasi-orthogonal. Meaning they are probabilistically dissimilar to each other."
   ]
  },
  {
   "cell_type": "code",
   "execution_count": 3,
   "id": "1d6106b5-234f-4b21-9a37-d4ecdc64f774",
   "metadata": {
    "execution": {
     "iopub.execute_input": "2025-04-04T08:10:09.776314Z",
     "iopub.status.busy": "2025-04-04T08:10:09.775437Z",
     "iopub.status.idle": "2025-04-04T08:10:09.785422Z",
     "shell.execute_reply": "2025-04-04T08:10:09.784031Z",
     "shell.execute_reply.started": "2025-04-04T08:10:09.776251Z"
    }
   },
   "outputs": [
    {
     "name": "stdout",
     "output_type": "stream",
     "text": [
      "dot(A,B): -74\n",
      "ham(A,B): 549\n",
      "cos(A,B): -0.072265625\n"
     ]
    }
   ],
   "source": [
    "dot_AB = vsa.hv_dot(A,B)\n",
    "ham_AB = vsa.hv_ham(A,B)\n",
    "cos_AB = vsa.hv_cos(A,B)\n",
    "\n",
    "print(f'dot(A,B): {dot_AB}')\n",
    "print(f'ham(A,B): {ham_AB}')\n",
    "print(f'cos(A,B): {cos_AB}')"
   ]
  },
  {
   "cell_type": "markdown",
   "id": "2e77da63-c7ed-469a-926f-e90ef3d07152",
   "metadata": {},
   "source": [
    "# Circular Permutation\n",
    "- Simply shifts left or right the elements.\n",
    "- These are naturally dissimilar to the original HV."
   ]
  },
  {
   "cell_type": "code",
   "execution_count": 4,
   "id": "d8a5bd7f-eb44-4f61-8322-9f86213b8a25",
   "metadata": {
    "execution": {
     "iopub.execute_input": "2025-04-04T08:10:09.788019Z",
     "iopub.status.busy": "2025-04-04T08:10:09.787295Z",
     "iopub.status.idle": "2025-04-04T08:10:09.797674Z",
     "shell.execute_reply": "2025-04-04T08:10:09.796305Z",
     "shell.execute_reply.started": "2025-04-04T08:10:09.787954Z"
    }
   },
   "outputs": [
    {
     "name": "stdout",
     "output_type": "stream",
     "text": [
      "HV A: [-1 -1  1 ...  1  1 -1]\n",
      "HV A permuted once: [-1 -1 -1 ...  1  1  1]\n",
      "dot(A,A_perm_1): 4\n"
     ]
    }
   ],
   "source": [
    "A_perm_1 = vsa.hv_perm(A,1)\n",
    "dot_A_A_perm_1 = vsa.hv_dot(A, A_perm_1)\n",
    "\n",
    "print(f'HV A: {A}')\n",
    "print(f'HV A permuted once: {A_perm_1}')\n",
    "print(f'dot(A,A_perm_1): {dot_A_A_perm_1}')"
   ]
  },
  {
   "cell_type": "markdown",
   "id": "73be12b0-0196-4177-9806-692af13589a8",
   "metadata": {},
   "source": [
    "# Bundling\n",
    "- Bundling is an element-wise addition\n",
    "- We have the 3 options for the result:\n",
    "  - Maintain real or integer values\n",
    "  - Bipolarize: $\\{-1,+1\\}^D$\n",
    "  - Binarize: $\\{1,0\\}^D$\n",
    "- The result is similar to its constituents\n",
    "  - That means similarity values show a significant amount of similarity"
   ]
  },
  {
   "cell_type": "code",
   "execution_count": 7,
   "id": "32723f3d-89ba-4e98-9ec7-f6b8442a8efa",
   "metadata": {
    "execution": {
     "iopub.execute_input": "2025-04-04T08:16:53.013406Z",
     "iopub.status.busy": "2025-04-04T08:16:53.012717Z",
     "iopub.status.idle": "2025-04-04T08:16:53.027170Z",
     "shell.execute_reply": "2025-04-04T08:16:53.026003Z",
     "shell.execute_reply.started": "2025-04-04T08:16:53.013347Z"
    }
   },
   "outputs": [
    {
     "name": "stdout",
     "output_type": "stream",
     "text": [
      "Bundle Group Real: [array([-1, -1,  1, ...,  1,  1, -1]), array([ 1, -1, -1, ...,  1, -1, -1]), array([-1, -1, -1, ..., -1,  1, -1])]\n",
      "Bundle Group Bipolar: [-1 -1 -1 ...  1  1 -1]\n",
      "Bundle Group Binary: [0 0 0 ... 1 1 0]\n",
      "Sim. with A: 488\n",
      "Sim. with B: 462\n",
      "Sim. with B: 522\n",
      "Sim. with A: 0.4765625\n",
      "Sim. with B: 0.451171875\n",
      "Sim. with B: 0.509765625\n"
     ]
    }
   ],
   "source": [
    "# Grouping a bunch of HVs to be added into a list\n",
    "bundle_group = [A, B, C]\n",
    "\n",
    "# Different versions\n",
    "add_group_real = vsa.hv_add(bundle_group)\n",
    "add_group_bip = vsa.hv_add(bundle_group, sign_magnitude=True)\n",
    "add_group_bin = vsa.hv_add(bundle_group, threshold=0)\n",
    "\n",
    "print(f'Bundle Group Real: {bundle_group}')\n",
    "print(f'Bundle Group Bipolar: {add_group_bip}')\n",
    "print(f'Bundle Group Binary: {add_group_bin}')\n",
    "\n",
    "# Checking of similarity\n",
    "sim_group_A = vsa.hv_dot(A,add_group_bip)\n",
    "sim_group_B = vsa.hv_dot(B,add_group_bip)\n",
    "sim_group_C = vsa.hv_dot(C,add_group_bip)\n",
    "\n",
    "print(f'Sim. with A: {sim_group_A}')\n",
    "print(f'Sim. with B: {sim_group_B}')\n",
    "print(f'Sim. with B: {sim_group_C}')\n",
    "\n",
    "sim_group_A = vsa.hv_cos(A,add_group_bip)\n",
    "sim_group_B = vsa.hv_cos(B,add_group_bip)\n",
    "sim_group_C = vsa.hv_cos(C,add_group_bip)\n",
    "\n",
    "print(f'Sim. with A: {sim_group_A}')\n",
    "print(f'Sim. with B: {sim_group_B}')\n",
    "print(f'Sim. with B: {sim_group_C}')"
   ]
  },
  {
   "cell_type": "markdown",
   "id": "51f029ad-326d-4b3e-a0ba-d9c3565014ff",
   "metadata": {},
   "source": [
    "# Binding\n",
    "- Binding is done by element-wise multiplication or element-wise XOR\n",
    "- The result is always dissimilar to its constituents\n",
    "- IN the example below we just do the bipolar multiplication"
   ]
  },
  {
   "cell_type": "code",
   "execution_count": 8,
   "id": "927fefe9-6fc8-46b6-b8b7-bb0d9a1890f9",
   "metadata": {
    "execution": {
     "iopub.execute_input": "2025-04-04T08:20:46.756568Z",
     "iopub.status.busy": "2025-04-04T08:20:46.756082Z",
     "iopub.status.idle": "2025-04-04T08:20:46.766494Z",
     "shell.execute_reply": "2025-04-04T08:20:46.764866Z",
     "shell.execute_reply.started": "2025-04-04T08:20:46.756527Z"
    }
   },
   "outputs": [
    {
     "name": "stdout",
     "output_type": "stream",
     "text": [
      "Sim. with A: -40\n",
      "Sim. with B: -14\n",
      "Sim. with B: -74\n"
     ]
    }
   ],
   "source": [
    "# Grouping a bunch of HVs to be added into a list\n",
    "bind_group = [A, B, C]\n",
    "\n",
    "# Simple multiplication\n",
    "mul_group_bip = vsa.hv_mult_list(bind_group)\n",
    "\n",
    "# Checking of similarity\n",
    "sim_group_A = vsa.hv_dot(A,mul_group_bip)\n",
    "sim_group_B = vsa.hv_dot(B,mul_group_bip)\n",
    "sim_group_C = vsa.hv_dot(C,mul_group_bip)\n",
    "\n",
    "print(f'Sim. with A: {sim_group_A}')\n",
    "print(f'Sim. with B: {sim_group_B}')\n",
    "print(f'Sim. with B: {sim_group_C}')"
   ]
  },
  {
   "cell_type": "code",
   "execution_count": null,
   "id": "ae9c59de-4589-451e-8674-1440ae50e04a",
   "metadata": {},
   "outputs": [],
   "source": []
  },
  {
   "cell_type": "code",
   "execution_count": null,
   "id": "0a3cc9f7-ec0d-4249-8284-b7477d3cab35",
   "metadata": {},
   "outputs": [],
   "source": []
  },
  {
   "cell_type": "code",
   "execution_count": null,
   "id": "b2623da8-6d96-4219-af3c-62c2eca5b243",
   "metadata": {},
   "outputs": [],
   "source": []
  },
  {
   "cell_type": "code",
   "execution_count": null,
   "id": "aea12a0c-9bd3-404f-bf61-61aa7e5e4613",
   "metadata": {},
   "outputs": [],
   "source": []
  },
  {
   "cell_type": "code",
   "execution_count": null,
   "id": "55a4f908-937c-40e3-819a-a50dfd5bdcef",
   "metadata": {},
   "outputs": [],
   "source": []
  },
  {
   "cell_type": "code",
   "execution_count": null,
   "id": "dab4024f-b896-4dee-9d44-366736b4741b",
   "metadata": {},
   "outputs": [],
   "source": []
  },
  {
   "cell_type": "code",
   "execution_count": null,
   "id": "e382ab62-60f3-4c3d-a1e5-fde34d520a70",
   "metadata": {},
   "outputs": [],
   "source": []
  },
  {
   "cell_type": "code",
   "execution_count": null,
   "id": "34bb1d94-b54d-483e-a2cf-2f1761fcbe5a",
   "metadata": {},
   "outputs": [],
   "source": []
  },
  {
   "cell_type": "code",
   "execution_count": null,
   "id": "807e2b8c-2cb9-49f5-8c37-0006e948b398",
   "metadata": {},
   "outputs": [],
   "source": []
  },
  {
   "cell_type": "code",
   "execution_count": null,
   "id": "ef7b0f2e-f528-40fa-8437-29f121f4c0f7",
   "metadata": {},
   "outputs": [],
   "source": []
  },
  {
   "cell_type": "code",
   "execution_count": null,
   "id": "94d60958-6a9e-4277-9c84-3822b84db62b",
   "metadata": {},
   "outputs": [],
   "source": []
  },
  {
   "cell_type": "code",
   "execution_count": null,
   "id": "9daeda1d-9565-4d7c-904c-3de9e2ffa65d",
   "metadata": {},
   "outputs": [],
   "source": []
  },
  {
   "cell_type": "code",
   "execution_count": null,
   "id": "abca3df5-3bb1-4cda-9d6a-39305e6a2133",
   "metadata": {},
   "outputs": [],
   "source": []
  },
  {
   "cell_type": "code",
   "execution_count": null,
   "id": "2048b1f4-1196-44f6-8192-933c3e943315",
   "metadata": {},
   "outputs": [],
   "source": []
  },
  {
   "cell_type": "code",
   "execution_count": null,
   "id": "d842f2c5-b13b-48e4-ae15-805bc963548e",
   "metadata": {},
   "outputs": [],
   "source": []
  },
  {
   "cell_type": "code",
   "execution_count": null,
   "id": "26f30a15-927b-4603-baab-ee3a4f5b5fd7",
   "metadata": {},
   "outputs": [],
   "source": []
  },
  {
   "cell_type": "code",
   "execution_count": null,
   "id": "792e2ccf-31f6-4fc1-8492-177f65a27009",
   "metadata": {},
   "outputs": [],
   "source": []
  },
  {
   "cell_type": "code",
   "execution_count": null,
   "id": "81d9986c-36a4-47fe-a547-f6c74d739c5a",
   "metadata": {},
   "outputs": [],
   "source": []
  },
  {
   "cell_type": "code",
   "execution_count": null,
   "id": "b3bc3795-f393-4831-befe-95112c07edef",
   "metadata": {},
   "outputs": [],
   "source": []
  },
  {
   "cell_type": "code",
   "execution_count": null,
   "id": "4c7ed5e7-83f9-4c8f-8b88-f1201f8d27af",
   "metadata": {},
   "outputs": [],
   "source": []
  },
  {
   "cell_type": "code",
   "execution_count": null,
   "id": "74f2d329-da69-4348-823a-83cbf24699e0",
   "metadata": {},
   "outputs": [],
   "source": []
  },
  {
   "cell_type": "code",
   "execution_count": null,
   "id": "6d60e69c-c72e-47c7-a3b3-f39dababe7d9",
   "metadata": {},
   "outputs": [],
   "source": []
  },
  {
   "cell_type": "code",
   "execution_count": null,
   "id": "18fd4c86-5509-412c-b160-b2cef6da1e82",
   "metadata": {},
   "outputs": [],
   "source": []
  },
  {
   "cell_type": "code",
   "execution_count": null,
   "id": "0ec31352-e159-4d0b-bdc8-ec2c02476f2f",
   "metadata": {},
   "outputs": [],
   "source": []
  },
  {
   "cell_type": "code",
   "execution_count": null,
   "id": "75b38ffb-1399-48e8-a984-318e6769b672",
   "metadata": {},
   "outputs": [],
   "source": []
  },
  {
   "cell_type": "code",
   "execution_count": null,
   "id": "89abf6da-e728-4f5d-bb6b-a17191afad6d",
   "metadata": {},
   "outputs": [],
   "source": []
  },
  {
   "cell_type": "code",
   "execution_count": null,
   "id": "2ef50c69-c068-456c-9098-d67fd289e947",
   "metadata": {},
   "outputs": [],
   "source": []
  },
  {
   "cell_type": "code",
   "execution_count": null,
   "id": "f53eac02-0f71-4f8d-954a-5127fb270f17",
   "metadata": {},
   "outputs": [],
   "source": []
  }
 ],
 "metadata": {
  "kernelspec": {
   "display_name": "Python 3 (ipykernel)",
   "language": "python",
   "name": "python3"
  },
  "language_info": {
   "codemirror_mode": {
    "name": "ipython",
    "version": 3
   },
   "file_extension": ".py",
   "mimetype": "text/x-python",
   "name": "python",
   "nbconvert_exporter": "python",
   "pygments_lexer": "ipython3",
   "version": "3.9.21"
  }
 },
 "nbformat": 4,
 "nbformat_minor": 5
}

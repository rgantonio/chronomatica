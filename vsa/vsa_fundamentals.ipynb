{
 "cells": [
  {
   "cell_type": "markdown",
   "id": "e90f7b42-23bb-4f75-bc5d-251a825331b4",
   "metadata": {},
   "source": [
    "# VSA Fundamentals\n",
    "\n",
    "Functions to demonstrate VSA fundamental operations."
   ]
  },
  {
   "cell_type": "code",
   "execution_count": 1,
   "id": "878e2367-c5a2-4bdd-8418-91b7560a9509",
   "metadata": {
    "execution": {
     "iopub.execute_input": "2025-04-04T08:10:09.409537Z",
     "iopub.status.busy": "2025-04-04T08:10:09.409039Z",
     "iopub.status.idle": "2025-04-04T08:10:09.734775Z",
     "shell.execute_reply": "2025-04-04T08:10:09.733245Z",
     "shell.execute_reply.started": "2025-04-04T08:10:09.409497Z"
    }
   },
   "outputs": [
    {
     "name": "stdout",
     "output_type": "stream",
     "text": [
      "VSA Library: /users/micas/rantonio/no_backup/kul_main/pytoy/vsa/../lib/\n"
     ]
    }
   ],
   "source": [
    "# Import library\n",
    "import os\n",
    "import sys\n",
    "\n",
    "# Gets directory where script was launched from\n",
    "script_dir = os.getcwd()  \n",
    "script_dir = script_dir + \"/../lib/\"\n",
    "print(f\"VSA Library: {script_dir}\")\n",
    "\n",
    "# Add the directory to Python's search path\n",
    "sys.path.append(script_dir)  \n",
    "\n",
    "import vsa"
   ]
  },
  {
   "cell_type": "markdown",
   "id": "5c6105f3-cd7a-4b67-a9c3-b1ea803fc1b4",
   "metadata": {},
   "source": [
    "# Generating Random Hypervectors\n",
    "\n",
    "- These hypervectors (HV) are naturally dissimilar to each other.\n",
    "- HV lengths need to be consistent all throughout\n",
    "- There are several flavors: bipolar, binary, real, and complex"
   ]
  },
  {
   "cell_type": "code",
   "execution_count": 2,
   "id": "4ab09f3c-c73d-428c-aca0-4a9e608ef57f",
   "metadata": {
    "execution": {
     "iopub.execute_input": "2025-04-04T08:10:09.737559Z",
     "iopub.status.busy": "2025-04-04T08:10:09.736525Z",
     "iopub.status.idle": "2025-04-04T08:10:09.773740Z",
     "shell.execute_reply": "2025-04-04T08:10:09.772258Z",
     "shell.execute_reply.started": "2025-04-04T08:10:09.737487Z"
    }
   },
   "outputs": [
    {
     "name": "stdout",
     "output_type": "stream",
     "text": [
      "HV A: [-1 -1  1 ...  1  1 -1]\n",
      "HV B: [ 1 -1 -1 ...  1 -1 -1]\n",
      "HV C: [-1 -1 -1 ... -1  1 -1]\n",
      "HV D: [ 1  1  1 ...  1 -1 -1]\n",
      "HV E: [-1 -1  1 ...  1  1  1]\n"
     ]
    }
   ],
   "source": [
    "size = 1024\n",
    "\n",
    "A = vsa.gen_hv(size, type='bipolar')\n",
    "B = vsa.gen_hv(size, type='bipolar')\n",
    "C = vsa.gen_hv(size, type='bipolar')\n",
    "D = vsa.gen_hv(size, type='bipolar')\n",
    "E = vsa.gen_hv(size, type='bipolar')\n",
    "\n",
    "print(f'HV A: {A}')\n",
    "print(f'HV B: {B}')\n",
    "print(f'HV C: {C}')\n",
    "print(f'HV D: {D}')\n",
    "print(f'HV E: {E}')"
   ]
  },
  {
   "cell_type": "markdown",
   "id": "c85209bf-427e-4e3b-91aa-e1bc31dca25d",
   "metadata": {},
   "source": [
    "# Similarity Measures\n",
    "\n",
    "- Dot product: $\\sum_i^{N} a_i \\cdot b_i$ dissimilar when dot product is close to 0\n",
    "- Hamming distance: $\\sum_i^{N} a_i \\otimes b_i$ dissimilar when hamming distance is near half of the dimension\n",
    "- Cosine similarity: $\\cos (A,B)$ dissimilar when value is close to 0\n",
    "- Randomly generated HVs are quasi-orthogonal. Meaning they are probabilistically dissimilar to each other."
   ]
  },
  {
   "cell_type": "code",
   "execution_count": 3,
   "id": "1d6106b5-234f-4b21-9a37-d4ecdc64f774",
   "metadata": {
    "execution": {
     "iopub.execute_input": "2025-04-04T08:10:09.776314Z",
     "iopub.status.busy": "2025-04-04T08:10:09.775437Z",
     "iopub.status.idle": "2025-04-04T08:10:09.785422Z",
     "shell.execute_reply": "2025-04-04T08:10:09.784031Z",
     "shell.execute_reply.started": "2025-04-04T08:10:09.776251Z"
    }
   },
   "outputs": [
    {
     "name": "stdout",
     "output_type": "stream",
     "text": [
      "dot(A,B): -74\n",
      "ham(A,B): 549\n",
      "cos(A,B): -0.072265625\n"
     ]
    }
   ],
   "source": [
    "dot_AB = vsa.hv_dot(A,B)\n",
    "ham_AB = vsa.hv_ham(A,B)\n",
    "cos_AB = vsa.hv_cos(A,B)\n",
    "\n",
    "print(f'dot(A,B): {dot_AB}')\n",
    "print(f'ham(A,B): {ham_AB}')\n",
    "print(f'cos(A,B): {cos_AB}')"
   ]
  },
  {
   "cell_type": "markdown",
   "id": "2e77da63-c7ed-469a-926f-e90ef3d07152",
   "metadata": {},
   "source": [
    "# Circular Permutation\n",
    "- Simply shifts left or right the elements.\n",
    "- These are naturally dissimilar to the original HV."
   ]
  },
  {
   "cell_type": "code",
   "execution_count": 4,
   "id": "d8a5bd7f-eb44-4f61-8322-9f86213b8a25",
   "metadata": {
    "execution": {
     "iopub.execute_input": "2025-04-04T08:10:09.788019Z",
     "iopub.status.busy": "2025-04-04T08:10:09.787295Z",
     "iopub.status.idle": "2025-04-04T08:10:09.797674Z",
     "shell.execute_reply": "2025-04-04T08:10:09.796305Z",
     "shell.execute_reply.started": "2025-04-04T08:10:09.787954Z"
    }
   },
   "outputs": [
    {
     "name": "stdout",
     "output_type": "stream",
     "text": [
      "HV A: [-1 -1  1 ...  1  1 -1]\n",
      "HV A permuted once: [-1 -1 -1 ...  1  1  1]\n",
      "dot(A,A_perm_1): 4\n"
     ]
    }
   ],
   "source": [
    "A_perm_1 = vsa.hv_perm(A,1)\n",
    "dot_A_A_perm_1 = vsa.hv_dot(A, A_perm_1)\n",
    "\n",
    "print(f'HV A: {A}')\n",
    "print(f'HV A permuted once: {A_perm_1}')\n",
    "print(f'dot(A,A_perm_1): {dot_A_A_perm_1}')"
   ]
  },
  {
   "cell_type": "markdown",
   "id": "73be12b0-0196-4177-9806-692af13589a8",
   "metadata": {},
   "source": [
    "# Bundling\n",
    "- Bundling is an element-wise addition\n",
    "- We have the 3 options for the result:\n",
    "  - Maintain real or integer values\n",
    "  - Bipolarize: $\\{-1,+1\\}^D$\n",
    "  - Binarize: $\\{1,0\\}^D$\n",
    "- The result is similar to its constituents\n",
    "  - That means similarity values show a significant amount of similarity"
   ]
  },
  {
   "cell_type": "code",
   "execution_count": 7,
   "id": "32723f3d-89ba-4e98-9ec7-f6b8442a8efa",
   "metadata": {
    "execution": {
     "iopub.execute_input": "2025-04-04T08:16:53.013406Z",
     "iopub.status.busy": "2025-04-04T08:16:53.012717Z",
     "iopub.status.idle": "2025-04-04T08:16:53.027170Z",
     "shell.execute_reply": "2025-04-04T08:16:53.026003Z",
     "shell.execute_reply.started": "2025-04-04T08:16:53.013347Z"
    }
   },
   "outputs": [
    {
     "name": "stdout",
     "output_type": "stream",
     "text": [
      "Bundle Group Real: [array([-1, -1,  1, ...,  1,  1, -1]), array([ 1, -1, -1, ...,  1, -1, -1]), array([-1, -1, -1, ..., -1,  1, -1])]\n",
      "Bundle Group Bipolar: [-1 -1 -1 ...  1  1 -1]\n",
      "Bundle Group Binary: [0 0 0 ... 1 1 0]\n",
      "Sim. with A: 488\n",
      "Sim. with B: 462\n",
      "Sim. with B: 522\n",
      "Sim. with A: 0.4765625\n",
      "Sim. with B: 0.451171875\n",
      "Sim. with B: 0.509765625\n"
     ]
    }
   ],
   "source": [
    "# Grouping a bunch of HVs to be added into a list\n",
    "bundle_group = [A, B, C]\n",
    "\n",
    "# Different versions\n",
    "add_group_real = vsa.hv_add(bundle_group)\n",
    "add_group_bip = vsa.hv_add(bundle_group, sign_magnitude=True)\n",
    "add_group_bin = vsa.hv_add(bundle_group, threshold=0)\n",
    "\n",
    "print(f'Bundle Group Real: {bundle_group}')\n",
    "print(f'Bundle Group Bipolar: {add_group_bip}')\n",
    "print(f'Bundle Group Binary: {add_group_bin}')\n",
    "\n",
    "# Checking of similarity\n",
    "sim_group_A = vsa.hv_dot(A,add_group_bip)\n",
    "sim_group_B = vsa.hv_dot(B,add_group_bip)\n",
    "sim_group_C = vsa.hv_dot(C,add_group_bip)\n",
    "\n",
    "print(f'Sim. with A: {sim_group_A}')\n",
    "print(f'Sim. with B: {sim_group_B}')\n",
    "print(f'Sim. with B: {sim_group_C}')\n",
    "\n",
    "sim_group_A = vsa.hv_cos(A,add_group_bip)\n",
    "sim_group_B = vsa.hv_cos(B,add_group_bip)\n",
    "sim_group_C = vsa.hv_cos(C,add_group_bip)\n",
    "\n",
    "print(f'Sim. with A: {sim_group_A}')\n",
    "print(f'Sim. with B: {sim_group_B}')\n",
    "print(f'Sim. with B: {sim_group_C}')"
   ]
  },
  {
   "cell_type": "markdown",
   "id": "51f029ad-326d-4b3e-a0ba-d9c3565014ff",
   "metadata": {},
   "source": [
    "# Binding\n",
    "- Binding is done by element-wise multiplication or element-wise XOR\n",
    "- The result is always dissimilar to its constituents\n",
    "- IN the example below we just do the bipolar multiplication"
   ]
  },
  {
   "cell_type": "code",
   "execution_count": 8,
   "id": "927fefe9-6fc8-46b6-b8b7-bb0d9a1890f9",
   "metadata": {
    "execution": {
     "iopub.execute_input": "2025-04-04T08:20:46.756568Z",
     "iopub.status.busy": "2025-04-04T08:20:46.756082Z",
     "iopub.status.idle": "2025-04-04T08:20:46.766494Z",
     "shell.execute_reply": "2025-04-04T08:20:46.764866Z",
     "shell.execute_reply.started": "2025-04-04T08:20:46.756527Z"
    }
   },
   "outputs": [
    {
     "name": "stdout",
     "output_type": "stream",
     "text": [
      "Sim. with A: -40\n",
      "Sim. with B: -14\n",
      "Sim. with B: -74\n"
     ]
    }
   ],
   "source": [
    "# Grouping a bunch of HVs to be added into a list\n",
    "bind_group = [A, B, C]\n",
    "\n",
    "# Simple multiplication\n",
    "mul_group_bip = vsa.hv_mult_list(bind_group)\n",
    "\n",
    "# Checking of similarity\n",
    "sim_group_A = vsa.hv_dot(A,mul_group_bip)\n",
    "sim_group_B = vsa.hv_dot(B,mul_group_bip)\n",
    "sim_group_C = vsa.hv_dot(C,mul_group_bip)\n",
    "\n",
    "print(f'Sim. with A: {sim_group_A}')\n",
    "print(f'Sim. with B: {sim_group_B}')\n",
    "print(f'Sim. with B: {sim_group_C}')"
   ]
  }
 ],
 "metadata": {
  "kernelspec": {
   "display_name": "Python 3 (ipykernel)",
   "language": "python",
   "name": "python3"
  },
  "language_info": {
   "codemirror_mode": {
    "name": "ipython",
    "version": 3
   },
   "file_extension": ".py",
   "mimetype": "text/x-python",
   "name": "python",
   "nbconvert_exporter": "python",
   "pygments_lexer": "ipython3",
   "version": "3.9.21"
  }
 },
 "nbformat": 4,
 "nbformat_minor": 5
}

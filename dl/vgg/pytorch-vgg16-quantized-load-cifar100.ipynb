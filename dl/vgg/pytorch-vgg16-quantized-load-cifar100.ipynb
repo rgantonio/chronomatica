{
 "cells": [
  {
   "cell_type": "markdown",
   "id": "ee4e5e39-19a3-440f-8cdd-25ab1db916e1",
   "metadata": {},
   "source": [
    "# Loading Packages"
   ]
  },
  {
   "cell_type": "code",
   "execution_count": 12,
   "id": "8b1d3d0a-7088-41c5-bc77-e02286143374",
   "metadata": {
    "execution": {
     "iopub.execute_input": "2025-05-28T07:32:32.463340Z",
     "iopub.status.busy": "2025-05-28T07:32:32.462874Z",
     "iopub.status.idle": "2025-05-28T07:32:32.476907Z",
     "shell.execute_reply": "2025-05-28T07:32:32.476164Z",
     "shell.execute_reply.started": "2025-05-28T07:32:32.463306Z"
    }
   },
   "outputs": [],
   "source": [
    "import torch\n",
    "import torch.nn as nn\n",
    "import torchvision\n",
    "import torchvision.transforms as transforms\n",
    "from torchvision.models import vgg16\n",
    "from torch.quantization import QuantStub, DeQuantStub\n",
    "import torch.quantization\n",
    "import torch.optim as optim\n",
    "from torchinfo import summary\n",
    "from tqdm import tqdm\n",
    "from vgg_models import QuantizableVGG16"
   ]
  },
  {
   "cell_type": "markdown",
   "id": "24a1d28b-5b8f-42a6-8258-604647ce7bc4",
   "metadata": {},
   "source": [
    "# Load the Model\n",
    "- Then make sure to wrap it around the nn.DataParallel because the model was saved previously"
   ]
  },
  {
   "cell_type": "code",
   "execution_count": 21,
   "id": "e0964d87-202a-4075-84b3-6f10987e9e28",
   "metadata": {
    "execution": {
     "iopub.execute_input": "2025-05-28T07:41:52.828725Z",
     "iopub.status.busy": "2025-05-28T07:41:52.828309Z",
     "iopub.status.idle": "2025-05-28T07:41:58.189303Z",
     "shell.execute_reply": "2025-05-28T07:41:58.188314Z",
     "shell.execute_reply.started": "2025-05-28T07:41:52.828688Z"
    }
   },
   "outputs": [],
   "source": [
    "# Load model\n",
    "model = QuantizableVGG16(num_classes=100)\n",
    "\n",
    "# Prepare for quantized loading\n",
    "model.eval()  # Important for quantization\n",
    "model.fuse_model()\n",
    "model.qconfig = torch.quantization.get_default_qconfig(\"fbgemm\")\n",
    "torch.quantization.prepare(model, inplace=True)\n",
    "torch.quantization.convert(model, inplace=True)\n",
    "\n",
    "# Wrap in DataParallel to match saved state dict\n",
    "model = torch.nn.DataParallel(model)"
   ]
  },
  {
   "cell_type": "markdown",
   "id": "7a22d46d-7552-448a-acac-3b039a4e147f",
   "metadata": {},
   "source": [
    "# Load the Quantized Weights\n",
    "- A successful load should say that all keys matched"
   ]
  },
  {
   "cell_type": "code",
   "execution_count": 14,
   "id": "8634dbfa-3950-4f9c-b3a2-0e73e105663b",
   "metadata": {
    "execution": {
     "iopub.execute_input": "2025-05-28T07:32:38.233305Z",
     "iopub.status.busy": "2025-05-28T07:32:38.232899Z",
     "iopub.status.idle": "2025-05-28T07:32:39.321653Z",
     "shell.execute_reply": "2025-05-28T07:32:39.320971Z",
     "shell.execute_reply.started": "2025-05-28T07:32:38.233272Z"
    }
   },
   "outputs": [
    {
     "data": {
      "text/plain": [
       "<All keys matched successfully>"
      ]
     },
     "execution_count": 14,
     "metadata": {},
     "output_type": "execute_result"
    }
   ],
   "source": [
    "# Load quantized state_dict\n",
    "state_dict = torch.load(\"quantized_vgg16_cifar100.pth\", map_location='cpu')\n",
    "model.load_state_dict(state_dict)"
   ]
  },
  {
   "cell_type": "markdown",
   "id": "482980e6-9d03-4431-b187-fed234df1cf3",
   "metadata": {},
   "source": [
    "# Download the Data"
   ]
  },
  {
   "cell_type": "code",
   "execution_count": 16,
   "id": "1c024dc7-8da0-4075-bc59-7a42f25496e8",
   "metadata": {
    "execution": {
     "iopub.execute_input": "2025-05-28T07:32:43.408748Z",
     "iopub.status.busy": "2025-05-28T07:32:43.408284Z",
     "iopub.status.idle": "2025-05-28T07:32:45.335715Z",
     "shell.execute_reply": "2025-05-28T07:32:45.334952Z",
     "shell.execute_reply.started": "2025-05-28T07:32:43.408714Z"
    }
   },
   "outputs": [],
   "source": [
    "transform_train = transforms.Compose([\n",
    "    transforms.Resize(224),\n",
    "    transforms.RandomHorizontalFlip(),\n",
    "    transforms.ToTensor(),\n",
    "    transforms.Normalize(mean=[0.5071, 0.4865, 0.4409],\n",
    "                         std=[0.2673, 0.2564, 0.2762])\n",
    "])\n",
    "\n",
    "transform_test = transforms.Compose([\n",
    "    transforms.Resize(224),\n",
    "    transforms.ToTensor(),\n",
    "    transforms.Normalize(mean=[0.5071, 0.4865, 0.4409],\n",
    "                         std=[0.2673, 0.2564, 0.2762])\n",
    "])\n",
    "\n",
    "trainset = torchvision.datasets.CIFAR100(root='./data', train=True,\n",
    "                                         download=True, transform=transform_train)\n",
    "trainloader = torch.utils.data.DataLoader(trainset, batch_size=128,\n",
    "                                          shuffle=True, num_workers=4)\n",
    "\n",
    "testset = torchvision.datasets.CIFAR100(root='./data', train=False,\n",
    "                                        download=True, transform=transform_test)\n",
    "testloader = torch.utils.data.DataLoader(testset, batch_size=128,\n",
    "                                         shuffle=False, num_workers=4)"
   ]
  },
  {
   "cell_type": "markdown",
   "id": "b198b696-e968-4422-934e-e4d013e38e56",
   "metadata": {},
   "source": [
    "# Convert the Quantized Model"
   ]
  },
  {
   "cell_type": "code",
   "execution_count": 19,
   "id": "4842453f-5398-4b85-871b-b7745aa97da7",
   "metadata": {
    "execution": {
     "iopub.execute_input": "2025-05-28T07:34:17.144917Z",
     "iopub.status.busy": "2025-05-28T07:34:17.144463Z",
     "iopub.status.idle": "2025-05-28T07:34:19.849284Z",
     "shell.execute_reply": "2025-05-28T07:34:19.848330Z",
     "shell.execute_reply.started": "2025-05-28T07:34:17.144885Z"
    }
   },
   "outputs": [
    {
     "data": {
      "text/plain": [
       "QuantizableVGG16(\n",
       "  (quant): Quantize(scale=tensor([0.0309]), zero_point=tensor([61]), dtype=torch.quint8)\n",
       "  (dequant): DeQuantize()\n",
       "  (features): Sequential(\n",
       "    (0): QuantizedConvReLU2d(3, 64, kernel_size=(3, 3), stride=(1, 1), scale=0.0859326645731926, zero_point=0, padding=(1, 1))\n",
       "    (1): Identity()\n",
       "    (2): QuantizedConvReLU2d(64, 64, kernel_size=(3, 3), stride=(1, 1), scale=0.14404772222042084, zero_point=0, padding=(1, 1))\n",
       "    (3): Identity()\n",
       "    (4): MaxPool2d(kernel_size=2, stride=2, padding=0, dilation=1, ceil_mode=False)\n",
       "    (5): QuantizedConvReLU2d(64, 128, kernel_size=(3, 3), stride=(1, 1), scale=0.23559726774692535, zero_point=0, padding=(1, 1))\n",
       "    (6): Identity()\n",
       "    (7): QuantizedConvReLU2d(128, 128, kernel_size=(3, 3), stride=(1, 1), scale=0.3782609701156616, zero_point=0, padding=(1, 1))\n",
       "    (8): Identity()\n",
       "    (9): MaxPool2d(kernel_size=2, stride=2, padding=0, dilation=1, ceil_mode=False)\n",
       "    (10): QuantizedConvReLU2d(128, 256, kernel_size=(3, 3), stride=(1, 1), scale=0.40806472301483154, zero_point=0, padding=(1, 1))\n",
       "    (11): Identity()\n",
       "    (12): QuantizedConvReLU2d(256, 256, kernel_size=(3, 3), stride=(1, 1), scale=0.48023858666419983, zero_point=0, padding=(1, 1))\n",
       "    (13): Identity()\n",
       "    (14): QuantizedConvReLU2d(256, 256, kernel_size=(3, 3), stride=(1, 1), scale=0.6935874819755554, zero_point=0, padding=(1, 1))\n",
       "    (15): Identity()\n",
       "    (16): MaxPool2d(kernel_size=2, stride=2, padding=0, dilation=1, ceil_mode=False)\n",
       "    (17): QuantizedConvReLU2d(256, 512, kernel_size=(3, 3), stride=(1, 1), scale=0.6415135264396667, zero_point=0, padding=(1, 1))\n",
       "    (18): Identity()\n",
       "    (19): QuantizedConvReLU2d(512, 512, kernel_size=(3, 3), stride=(1, 1), scale=0.5167954564094543, zero_point=0, padding=(1, 1))\n",
       "    (20): Identity()\n",
       "    (21): QuantizedConvReLU2d(512, 512, kernel_size=(3, 3), stride=(1, 1), scale=0.4827077090740204, zero_point=0, padding=(1, 1))\n",
       "    (22): Identity()\n",
       "    (23): MaxPool2d(kernel_size=2, stride=2, padding=0, dilation=1, ceil_mode=False)\n",
       "    (24): QuantizedConvReLU2d(512, 512, kernel_size=(3, 3), stride=(1, 1), scale=0.39359724521636963, zero_point=0, padding=(1, 1))\n",
       "    (25): Identity()\n",
       "    (26): QuantizedConvReLU2d(512, 512, kernel_size=(3, 3), stride=(1, 1), scale=0.3256794214248657, zero_point=0, padding=(1, 1))\n",
       "    (27): Identity()\n",
       "    (28): QuantizedConvReLU2d(512, 512, kernel_size=(3, 3), stride=(1, 1), scale=0.3113672435283661, zero_point=0, padding=(1, 1))\n",
       "    (29): Identity()\n",
       "    (30): MaxPool2d(kernel_size=2, stride=2, padding=0, dilation=1, ceil_mode=False)\n",
       "  )\n",
       "  (avgpool): AdaptiveAvgPool2d(output_size=(7, 7))\n",
       "  (classifier): Sequential(\n",
       "    (0): QuantizedLinearReLU(in_features=25088, out_features=4096, scale=0.0880572646856308, zero_point=0, qscheme=torch.per_channel_affine)\n",
       "    (1): Identity()\n",
       "    (2): QuantizedDropout(p=0.5, inplace=False)\n",
       "    (3): QuantizedLinearReLU(in_features=4096, out_features=4096, scale=0.04885133355855942, zero_point=0, qscheme=torch.per_channel_affine)\n",
       "    (4): Identity()\n",
       "    (5): QuantizedDropout(p=0.5, inplace=False)\n",
       "    (6): QuantizedLinear(in_features=4096, out_features=100, scale=0.3745822608470917, zero_point=38, qscheme=torch.per_channel_affine)\n",
       "  )\n",
       ")"
      ]
     },
     "execution_count": 19,
     "metadata": {},
     "output_type": "execute_result"
    }
   ],
   "source": [
    "quantized_model = torch.quantization.convert(model, inplace=False)\n",
    "quantized_model = quantized_model.module  # unwrap from DataParallel\n",
    "quantized_model.eval()\n",
    "quantized_model.to('cpu')  # <--- this fixes the RuntimeError"
   ]
  },
  {
   "cell_type": "markdown",
   "id": "908fe990-8349-4d89-b091-01208d0947a6",
   "metadata": {},
   "source": [
    "# Evaluation"
   ]
  },
  {
   "cell_type": "code",
   "execution_count": 20,
   "id": "2bbebc93-85ec-4412-a2f0-c31445455dd4",
   "metadata": {
    "execution": {
     "iopub.execute_input": "2025-05-28T07:34:23.001607Z",
     "iopub.status.busy": "2025-05-28T07:34:23.001132Z",
     "iopub.status.idle": "2025-05-28T07:41:52.826572Z",
     "shell.execute_reply": "2025-05-28T07:41:52.824768Z",
     "shell.execute_reply.started": "2025-05-28T07:34:23.001567Z"
    }
   },
   "outputs": [
    {
     "name": "stderr",
     "output_type": "stream",
     "text": [
      "Evaluating: 100%|█████████████████████████████████████████████████████████████████████████████████████████████████████████████████████████████████████████████████████████████████████████████████████████████████████████████████████████████████████████| 79/79 [07:29<00:00,  5.69s/it]"
     ]
    },
    {
     "name": "stdout",
     "output_type": "stream",
     "text": [
      "Accuracy of the quantized model: 69.33%\n"
     ]
    },
    {
     "name": "stderr",
     "output_type": "stream",
     "text": [
      "\n"
     ]
    },
    {
     "data": {
      "text/plain": [
       "69.33"
      ]
     },
     "execution_count": 20,
     "metadata": {},
     "output_type": "execute_result"
    }
   ],
   "source": [
    "def evaluate(model, dataloader):\n",
    "    model.eval()\n",
    "    model.to('cpu')  # ensure model is on CPU\n",
    "\n",
    "    correct = 0\n",
    "    total = 0\n",
    "\n",
    "    with torch.no_grad():\n",
    "        for inputs, labels in tqdm(dataloader, desc=\"Evaluating\"):\n",
    "            inputs = inputs.cpu()\n",
    "            labels = labels.cpu()\n",
    "\n",
    "            outputs = model(inputs)\n",
    "            _, predicted = torch.max(outputs.data, 1)\n",
    "            total += labels.size(0)\n",
    "            correct += (predicted == labels).sum().item()\n",
    "\n",
    "    acc = 100 * correct / total\n",
    "    print(f\"Accuracy of the quantized model: {acc:.2f}%\")\n",
    "    return acc\n",
    "\n",
    "\n",
    "evaluate(quantized_model, testloader)"
   ]
  }
 ],
 "metadata": {
  "kernelspec": {
   "display_name": "Python 3 (ipykernel)",
   "language": "python",
   "name": "python3"
  },
  "language_info": {
   "codemirror_mode": {
    "name": "ipython",
    "version": 3
   },
   "file_extension": ".py",
   "mimetype": "text/x-python",
   "name": "python",
   "nbconvert_exporter": "python",
   "pygments_lexer": "ipython3",
   "version": "3.10.16"
  }
 },
 "nbformat": 4,
 "nbformat_minor": 5
}

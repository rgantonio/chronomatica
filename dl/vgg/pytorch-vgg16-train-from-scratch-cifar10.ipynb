{
 "cells": [
  {
   "cell_type": "markdown",
   "id": "4a61f53f-a540-4780-87f2-9379c906b2ff",
   "metadata": {},
   "source": [
    "# VGG16 Training from Scratch with CIFAR10\n",
    "- Just to make comparisons against a merely fine-tuned model\n",
    "- The problem is, is that the input to the VGG16 that is pretrained expects a $(3,224,224)$ input due to ImageNet\n",
    "- We need to customize also the final layer instead of 1,000 classes but 10"
   ]
  },
  {
   "cell_type": "markdown",
   "id": "bd9e3091-4acc-41fa-8366-0efdd11bc0fe",
   "metadata": {},
   "source": [
    "# Importing Packages and Setting of CUDA"
   ]
  },
  {
   "cell_type": "code",
   "execution_count": 1,
   "id": "898c110b-2889-425c-b478-ae70d9a9f924",
   "metadata": {
    "execution": {
     "iopub.execute_input": "2025-05-22T12:07:55.467839Z",
     "iopub.status.busy": "2025-05-22T12:07:55.467224Z",
     "iopub.status.idle": "2025-05-22T12:08:00.582384Z",
     "shell.execute_reply": "2025-05-22T12:08:00.581685Z",
     "shell.execute_reply.started": "2025-05-22T12:07:55.467811Z"
    }
   },
   "outputs": [
    {
     "name": "stdout",
     "output_type": "stream",
     "text": [
      "3\n",
      "NVIDIA GeForce RTX 2080 Ti\n",
      "NVIDIA GeForce RTX 2080 Ti\n",
      "NVIDIA GeForce RTX 2080 Ti\n",
      "Main Compute: cuda:0\n"
     ]
    }
   ],
   "source": [
    "# This is to manually control which GPUs to use\n",
    "# In the laboratory we have a server with 4 GPUs\n",
    "import os\n",
    "os.environ[\"CUDA_DEVICE_ORDER\"] = \"PCI_BUS_ID\"\n",
    "os.environ[\"CUDA_VISIBLE_DEVICES\"] = \"1,2,3\"\n",
    "\n",
    "import torch\n",
    "\n",
    "print(torch.cuda.device_count())  # Should output 3\n",
    "print(torch.cuda.get_device_name(0))  # Should correspond to GPU 2\n",
    "print(torch.cuda.get_device_name(1))  # Should correspond to GPU 3\n",
    "print(torch.cuda.get_device_name(2))  # Should correspond to GPU 3\n",
    "\n",
    "import torch.nn as nn\n",
    "import torch.optim as optim\n",
    "import torchvision\n",
    "import torchvision.transforms as transforms\n",
    "from torchvision import models\n",
    "from tqdm import tqdm\n",
    "\n",
    "# Set device\n",
    "device = torch.device('cuda:0' if torch.cuda.is_available() else 'cpu')\n",
    "print(f\"Main Compute: {device}\")"
   ]
  },
  {
   "cell_type": "markdown",
   "id": "6f94f466-006f-45de-a5f3-d6829c49908e",
   "metadata": {},
   "source": [
    "# Downloading Dataset"
   ]
  },
  {
   "cell_type": "code",
   "execution_count": 2,
   "id": "30faf589-8b5b-4b98-a43c-7d3da33d3868",
   "metadata": {
    "execution": {
     "iopub.execute_input": "2025-05-22T12:08:00.583846Z",
     "iopub.status.busy": "2025-05-22T12:08:00.583476Z",
     "iopub.status.idle": "2025-05-22T12:08:02.416469Z",
     "shell.execute_reply": "2025-05-22T12:08:02.415756Z",
     "shell.execute_reply.started": "2025-05-22T12:08:00.583821Z"
    }
   },
   "outputs": [],
   "source": [
    "# Define transformations\n",
    "transform_train = transforms.Compose([\n",
    "    transforms.RandomHorizontalFlip(),\n",
    "    transforms.RandomCrop(32, padding=4),\n",
    "    transforms.ToTensor(),\n",
    "    transforms.Normalize((0.4914, 0.4822, 0.4465), \n",
    "                         (0.2023, 0.1994, 0.2010)),\n",
    "])\n",
    "\n",
    "transform_test = transforms.Compose([\n",
    "    transforms.ToTensor(),\n",
    "    transforms.Normalize((0.4914, 0.4822, 0.4465), \n",
    "                         (0.2023, 0.1994, 0.2010)),\n",
    "])\n",
    "\n",
    "# Load datasets\n",
    "train_dataset = torchvision.datasets.CIFAR10(root='./data', train=True,\n",
    "                                             download=True, transform=transform_train)\n",
    "test_dataset = torchvision.datasets.CIFAR10(root='./data', train=False,\n",
    "                                            download=True, transform=transform_test)\n",
    "\n",
    "# Create data loaders\n",
    "train_loader = torch.utils.data.DataLoader(train_dataset, batch_size=128,\n",
    "                                           shuffle=True, num_workers=2)\n",
    "test_loader = torch.utils.data.DataLoader(test_dataset, batch_size=100,\n",
    "                                          shuffle=False, num_workers=2)"
   ]
  },
  {
   "cell_type": "markdown",
   "id": "9ff0a184-bb6d-4467-8beb-52f680a33b26",
   "metadata": {},
   "source": [
    "# Re-defining the VGG16 Model\n",
    "- Observe that the final linear layer is by default for 10 classes."
   ]
  },
  {
   "cell_type": "code",
   "execution_count": 3,
   "id": "c5d4196c-2ea7-4ab3-9b65-16f21c6e4e9e",
   "metadata": {
    "execution": {
     "iopub.execute_input": "2025-05-22T12:08:02.417947Z",
     "iopub.status.busy": "2025-05-22T12:08:02.417651Z",
     "iopub.status.idle": "2025-05-22T12:08:02.429528Z",
     "shell.execute_reply": "2025-05-22T12:08:02.428923Z",
     "shell.execute_reply.started": "2025-05-22T12:08:02.417914Z"
    }
   },
   "outputs": [],
   "source": [
    "class VGG16(nn.Module):\n",
    "    def __init__(self, num_classes=10):\n",
    "        super(VGG16, self).__init__()\n",
    "        self.features = nn.Sequential(\n",
    "            # Block 1\n",
    "            nn.Conv2d(3, 64, kernel_size=3, padding=1),\n",
    "            nn.ReLU(inplace=True),\n",
    "            nn.Conv2d(64, 64, kernel_size=3, padding=1),\n",
    "            nn.ReLU(inplace=True),\n",
    "            nn.MaxPool2d(kernel_size=2, stride=2),\n",
    "            # Block 2\n",
    "            nn.Conv2d(64, 128, kernel_size=3, padding=1),\n",
    "            nn.ReLU(inplace=True),\n",
    "            nn.Conv2d(128, 128, kernel_size=3, padding=1),\n",
    "            nn.ReLU(inplace=True),\n",
    "            nn.MaxPool2d(kernel_size=2, stride=2),\n",
    "            # Block 3\n",
    "            nn.Conv2d(128, 256, kernel_size=3, padding=1),\n",
    "            nn.ReLU(inplace=True),\n",
    "            nn.Conv2d(256, 256, kernel_size=3, padding=1),\n",
    "            nn.ReLU(inplace=True),\n",
    "            nn.Conv2d(256, 256, kernel_size=3, padding=1),\n",
    "            nn.ReLU(inplace=True),\n",
    "            nn.MaxPool2d(kernel_size=2, stride=2),\n",
    "            # Block 4\n",
    "            nn.Conv2d(256, 512, kernel_size=3, padding=1),\n",
    "            nn.ReLU(inplace=True),\n",
    "            nn.Conv2d(512, 512, kernel_size=3, padding=1),\n",
    "            nn.ReLU(inplace=True),\n",
    "            nn.Conv2d(512, 512, kernel_size=3, padding=1),\n",
    "            nn.ReLU(inplace=True),\n",
    "            nn.MaxPool2d(kernel_size=2, stride=2),\n",
    "            # Block 5\n",
    "            nn.Conv2d(512, 512, kernel_size=3, padding=1),\n",
    "            nn.ReLU(inplace=True),\n",
    "            nn.Conv2d(512, 512, kernel_size=3, padding=1),\n",
    "            nn.ReLU(inplace=True),\n",
    "            nn.Conv2d(512, 512, kernel_size=3, padding=1),\n",
    "            nn.ReLU(inplace=True),\n",
    "            nn.AdaptiveAvgPool2d((1, 1))\n",
    "        )\n",
    "        self.classifier = nn.Sequential(\n",
    "            nn.Linear(512, 4096),\n",
    "            nn.ReLU(True),\n",
    "            nn.Dropout(),\n",
    "            nn.Linear(4096, 4096),\n",
    "            nn.ReLU(True),\n",
    "            nn.Dropout(),\n",
    "            nn.Linear(4096, num_classes),\n",
    "        )\n",
    "\n",
    "    def forward(self, x):\n",
    "        x = self.features(x)\n",
    "        x = torch.flatten(x, 1)\n",
    "        x = self.classifier(x)\n",
    "        return x"
   ]
  },
  {
   "cell_type": "markdown",
   "id": "50ab1f71-b87f-435c-897e-e4d17a222bac",
   "metadata": {},
   "source": [
    "# Setting the Device"
   ]
  },
  {
   "cell_type": "code",
   "execution_count": 4,
   "id": "714e598a-3e6d-49ba-997f-a7369d857205",
   "metadata": {
    "execution": {
     "iopub.execute_input": "2025-05-22T12:08:02.431470Z",
     "iopub.status.busy": "2025-05-22T12:08:02.430858Z",
     "iopub.status.idle": "2025-05-22T12:08:02.918830Z",
     "shell.execute_reply": "2025-05-22T12:08:02.918162Z",
     "shell.execute_reply.started": "2025-05-22T12:08:02.431444Z"
    }
   },
   "outputs": [
    {
     "data": {
      "text/plain": [
       "DataParallel(\n",
       "  (module): VGG16(\n",
       "    (features): Sequential(\n",
       "      (0): Conv2d(3, 64, kernel_size=(3, 3), stride=(1, 1), padding=(1, 1))\n",
       "      (1): ReLU(inplace=True)\n",
       "      (2): Conv2d(64, 64, kernel_size=(3, 3), stride=(1, 1), padding=(1, 1))\n",
       "      (3): ReLU(inplace=True)\n",
       "      (4): MaxPool2d(kernel_size=2, stride=2, padding=0, dilation=1, ceil_mode=False)\n",
       "      (5): Conv2d(64, 128, kernel_size=(3, 3), stride=(1, 1), padding=(1, 1))\n",
       "      (6): ReLU(inplace=True)\n",
       "      (7): Conv2d(128, 128, kernel_size=(3, 3), stride=(1, 1), padding=(1, 1))\n",
       "      (8): ReLU(inplace=True)\n",
       "      (9): MaxPool2d(kernel_size=2, stride=2, padding=0, dilation=1, ceil_mode=False)\n",
       "      (10): Conv2d(128, 256, kernel_size=(3, 3), stride=(1, 1), padding=(1, 1))\n",
       "      (11): ReLU(inplace=True)\n",
       "      (12): Conv2d(256, 256, kernel_size=(3, 3), stride=(1, 1), padding=(1, 1))\n",
       "      (13): ReLU(inplace=True)\n",
       "      (14): Conv2d(256, 256, kernel_size=(3, 3), stride=(1, 1), padding=(1, 1))\n",
       "      (15): ReLU(inplace=True)\n",
       "      (16): MaxPool2d(kernel_size=2, stride=2, padding=0, dilation=1, ceil_mode=False)\n",
       "      (17): Conv2d(256, 512, kernel_size=(3, 3), stride=(1, 1), padding=(1, 1))\n",
       "      (18): ReLU(inplace=True)\n",
       "      (19): Conv2d(512, 512, kernel_size=(3, 3), stride=(1, 1), padding=(1, 1))\n",
       "      (20): ReLU(inplace=True)\n",
       "      (21): Conv2d(512, 512, kernel_size=(3, 3), stride=(1, 1), padding=(1, 1))\n",
       "      (22): ReLU(inplace=True)\n",
       "      (23): MaxPool2d(kernel_size=2, stride=2, padding=0, dilation=1, ceil_mode=False)\n",
       "      (24): Conv2d(512, 512, kernel_size=(3, 3), stride=(1, 1), padding=(1, 1))\n",
       "      (25): ReLU(inplace=True)\n",
       "      (26): Conv2d(512, 512, kernel_size=(3, 3), stride=(1, 1), padding=(1, 1))\n",
       "      (27): ReLU(inplace=True)\n",
       "      (28): Conv2d(512, 512, kernel_size=(3, 3), stride=(1, 1), padding=(1, 1))\n",
       "      (29): ReLU(inplace=True)\n",
       "      (30): AdaptiveAvgPool2d(output_size=(1, 1))\n",
       "    )\n",
       "    (classifier): Sequential(\n",
       "      (0): Linear(in_features=512, out_features=4096, bias=True)\n",
       "      (1): ReLU(inplace=True)\n",
       "      (2): Dropout(p=0.5, inplace=False)\n",
       "      (3): Linear(in_features=4096, out_features=4096, bias=True)\n",
       "      (4): ReLU(inplace=True)\n",
       "      (5): Dropout(p=0.5, inplace=False)\n",
       "      (6): Linear(in_features=4096, out_features=10, bias=True)\n",
       "    )\n",
       "  )\n",
       ")"
      ]
     },
     "execution_count": 4,
     "metadata": {},
     "output_type": "execute_result"
    }
   ],
   "source": [
    "model = VGG16(num_classes=10)\n",
    "model = torch.nn.DataParallel(model)\n",
    "model.to(device)"
   ]
  },
  {
   "cell_type": "markdown",
   "id": "15bc3a3d-d0a5-46cc-8bb2-97bbd830c12a",
   "metadata": {},
   "source": [
    "# Optimization parameters"
   ]
  },
  {
   "cell_type": "code",
   "execution_count": 5,
   "id": "1bea77b1-0fae-4442-9418-3eac3517d23c",
   "metadata": {
    "execution": {
     "iopub.execute_input": "2025-05-22T12:08:02.920174Z",
     "iopub.status.busy": "2025-05-22T12:08:02.919928Z",
     "iopub.status.idle": "2025-05-22T12:08:02.924504Z",
     "shell.execute_reply": "2025-05-22T12:08:02.923894Z",
     "shell.execute_reply.started": "2025-05-22T12:08:02.920151Z"
    }
   },
   "outputs": [],
   "source": [
    "criterion = nn.CrossEntropyLoss()\n",
    "#optimizer = optim.SGD(model.parameters(), lr=0.05, momentum=0.9, weight_decay=5e-4)\n",
    "optimizer = optim.Adam(model.module.classifier.parameters(), lr=0.001)\n",
    "scheduler = optim.lr_scheduler.StepLR(optimizer, step_size=30, gamma=0.1)"
   ]
  },
  {
   "cell_type": "markdown",
   "id": "e8b813e4-42ea-4b07-bcad-a5c71927c14e",
   "metadata": {},
   "source": [
    "# Train the Model from Scratch\n",
    "- Observe that we  use more epochs here"
   ]
  },
  {
   "cell_type": "code",
   "execution_count": null,
   "id": "cc9391d9-5eea-4d6b-b786-6aeaefd19b34",
   "metadata": {},
   "outputs": [],
   "source": [
    "num_epochs = 100\n",
    "\n",
    "for epoch in range(num_epochs):\n",
    "    model.train()\n",
    "    running_loss = 0.0\n",
    "    correct = 0\n",
    "    total = 0\n",
    "    loop = tqdm(train_loader, desc=f'Epoch [{epoch+1}/{num_epochs}]')\n",
    "    for images, labels in loop:\n",
    "        images, labels = images.to(device), labels.to(device)\n",
    "\n",
    "        optimizer.zero_grad()\n",
    "        outputs = model(images)\n",
    "        loss = criterion(outputs, labels)\n",
    "        loss.backward()\n",
    "        optimizer.step()\n",
    "\n",
    "        running_loss += loss.item()\n",
    "        _, predicted = outputs.max(1)\n",
    "        total += labels.size(0)\n",
    "        correct += predicted.eq(labels).sum().item()\n",
    "\n",
    "        loop.set_postfix(loss=running_loss/(total/labels.size(0)), accuracy=100.*correct/total)\n",
    "    scheduler.step()"
   ]
  },
  {
   "cell_type": "markdown",
   "id": "e134ae7c-c54b-4dce-b7d9-10684ee1c95c",
   "metadata": {},
   "source": [
    "# Evaluating the Model\n",
    "- Note that fine-tuning the pretrained model is better than having to train from scratch\n",
    "- The accuracy is just 10% and it's not really good at all\n",
    "- Either, we will have to process the CIFAR-10 with the fine-tuned version at the cost of larger processing time\n",
    "- Moreover, the training accuracy never converges above 10%"
   ]
  },
  {
   "cell_type": "code",
   "execution_count": 7,
   "id": "f8d0a5c4-99ec-46b2-ba73-aa05fa08932f",
   "metadata": {
    "execution": {
     "iopub.execute_input": "2025-05-22T12:53:46.347124Z",
     "iopub.status.busy": "2025-05-22T12:53:46.346571Z",
     "iopub.status.idle": "2025-05-22T12:53:49.684566Z",
     "shell.execute_reply": "2025-05-22T12:53:49.683079Z",
     "shell.execute_reply.started": "2025-05-22T12:53:46.347078Z"
    }
   },
   "outputs": [
    {
     "name": "stdout",
     "output_type": "stream",
     "text": [
      "Accuracy on CIFAR-10 test images: 10.00%\n"
     ]
    }
   ],
   "source": [
    "model.eval()\n",
    "correct = 0\n",
    "total = 0\n",
    "with torch.no_grad():\n",
    "    for images, labels in test_loader:\n",
    "        images, labels = images.to(device), labels.to(device)\n",
    "        outputs = model(images)\n",
    "        _, predicted = outputs.max(1)\n",
    "        total += labels.size(0)\n",
    "        correct += predicted.eq(labels).sum().item()\n",
    "\n",
    "print(f'Accuracy on CIFAR-10 test images: {100 * correct / total:.2f}%')"
   ]
  }
 ],
 "metadata": {
  "kernelspec": {
   "display_name": "Python 3 (ipykernel)",
   "language": "python",
   "name": "python3"
  },
  "language_info": {
   "codemirror_mode": {
    "name": "ipython",
    "version": 3
   },
   "file_extension": ".py",
   "mimetype": "text/x-python",
   "name": "python",
   "nbconvert_exporter": "python",
   "pygments_lexer": "ipython3",
   "version": "3.9.21"
  }
 },
 "nbformat": 4,
 "nbformat_minor": 5
}

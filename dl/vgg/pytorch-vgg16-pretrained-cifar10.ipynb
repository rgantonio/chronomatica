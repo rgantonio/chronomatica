{
 "cells": [
  {
   "cell_type": "markdown",
   "id": "80c9fc7e-691d-4b4d-9a5e-3ce05c0910b4",
   "metadata": {},
   "source": [
    "# Model Extraction for VGG16 for CIFAR10\n",
    "- This is just an extraction model for VGG16 for CIFAR10\n",
    "- Also a bit of analysis on what the model contains"
   ]
  },
  {
   "cell_type": "markdown",
   "id": "aeefeefa-7be0-4bbf-9672-a44d9027a4d2",
   "metadata": {},
   "source": [
    "# Import Packages"
   ]
  },
  {
   "cell_type": "code",
   "execution_count": 2,
   "id": "b25e68f9-3fb4-4d6e-9de5-5b015f11fa59",
   "metadata": {
    "execution": {
     "iopub.execute_input": "2025-05-22T09:16:37.868026Z",
     "iopub.status.busy": "2025-05-22T09:16:37.867348Z",
     "iopub.status.idle": "2025-05-22T09:16:37.872212Z",
     "shell.execute_reply": "2025-05-22T09:16:37.871556Z",
     "shell.execute_reply.started": "2025-05-22T09:16:37.867987Z"
    }
   },
   "outputs": [],
   "source": [
    "import torch\n",
    "import torch.nn as nn\n",
    "import torchvision\n",
    "import torchvision.transforms as transforms\n",
    "from tqdm import tqdm\n"
   ]
  },
  {
   "cell_type": "markdown",
   "id": "8c7a3781-a79a-4792-b175-ee793618de0f",
   "metadata": {},
   "source": [
    "# Load Pretrained Model"
   ]
  },
  {
   "cell_type": "code",
   "execution_count": 3,
   "id": "42d9a66d-75d9-4fed-8b91-d4ee0a17e840",
   "metadata": {
    "execution": {
     "iopub.execute_input": "2025-05-22T09:16:39.305600Z",
     "iopub.status.busy": "2025-05-22T09:16:39.304920Z",
     "iopub.status.idle": "2025-05-22T09:16:40.596473Z",
     "shell.execute_reply": "2025-05-22T09:16:40.595455Z",
     "shell.execute_reply.started": "2025-05-22T09:16:39.305564Z"
    }
   },
   "outputs": [
    {
     "name": "stderr",
     "output_type": "stream",
     "text": [
      "/users/micas/rantonio/anaconda3/envs/tensorx/lib/python3.9/site-packages/torchvision/models/_utils.py:208: UserWarning: The parameter 'pretrained' is deprecated since 0.13 and may be removed in the future, please use 'weights' instead.\n",
      "  warnings.warn(\n",
      "/users/micas/rantonio/anaconda3/envs/tensorx/lib/python3.9/site-packages/torchvision/models/_utils.py:223: UserWarning: Arguments other than a weight enum or `None` for 'weights' are deprecated since 0.13 and may be removed in the future. The current behavior is equivalent to passing `weights=VGG16_Weights.IMAGENET1K_V1`. You can also use `weights=VGG16_Weights.DEFAULT` to get the most up-to-date weights.\n",
      "  warnings.warn(msg)\n"
     ]
    }
   ],
   "source": [
    "# Load the pretrained VGG16 model\n",
    "model = torchvision.models.vgg16(pretrained=True)\n",
    "\n",
    "# Modify the classifier to match CIFAR-10 classes\n",
    "model.classifier[6] = nn.Linear(4096, 10)"
   ]
  },
  {
   "cell_type": "markdown",
   "id": "54f4ef2d-bc52-444f-8f0b-6499a94bcc97",
   "metadata": {},
   "source": [
    "# Download CIFAR-10 Dataset"
   ]
  },
  {
   "cell_type": "code",
   "execution_count": 4,
   "id": "915810cd-52c1-4505-a72b-c73099acc588",
   "metadata": {
    "execution": {
     "iopub.execute_input": "2025-05-22T09:16:40.620286Z",
     "iopub.status.busy": "2025-05-22T09:16:40.619858Z",
     "iopub.status.idle": "2025-05-22T09:16:41.425405Z",
     "shell.execute_reply": "2025-05-22T09:16:41.423986Z",
     "shell.execute_reply.started": "2025-05-22T09:16:40.620257Z"
    }
   },
   "outputs": [],
   "source": [
    "# Define the transformation\n",
    "transform = transforms.Compose([\n",
    "    transforms.Resize(224),  # Resize images to match VGG16 input size\n",
    "    transforms.ToTensor(),\n",
    "    transforms.Normalize(mean=[0.485, 0.456, 0.406],  # ImageNet mean\n",
    "                         std=[0.229, 0.224, 0.225])   # ImageNet std\n",
    "])\n",
    "\n",
    "# Load the CIFAR-10 test dataset\n",
    "test_dataset = torchvision.datasets.CIFAR10(root='./data', train=False,\n",
    "                                            download=True, transform=transform)\n",
    "test_loader = torch.utils.data.DataLoader(test_dataset, batch_size=64,\n",
    "                                          shuffle=False, num_workers=2)"
   ]
  },
  {
   "cell_type": "markdown",
   "id": "c9d68bd7-d4a3-40e5-8819-19b695355a68",
   "metadata": {},
   "source": [
    "# Evaluate the Model"
   ]
  },
  {
   "cell_type": "code",
   "execution_count": 5,
   "id": "47f0e637-ef70-4bbe-9a39-cf032ea27faf",
   "metadata": {
    "execution": {
     "iopub.execute_input": "2025-05-22T09:16:56.008461Z",
     "iopub.status.busy": "2025-05-22T09:16:56.007989Z",
     "iopub.status.idle": "2025-05-22T09:16:56.543963Z",
     "shell.execute_reply": "2025-05-22T09:16:56.543115Z",
     "shell.execute_reply.started": "2025-05-22T09:16:56.008430Z"
    }
   },
   "outputs": [
    {
     "data": {
      "text/plain": [
       "VGG(\n",
       "  (features): Sequential(\n",
       "    (0): Conv2d(3, 64, kernel_size=(3, 3), stride=(1, 1), padding=(1, 1))\n",
       "    (1): ReLU(inplace=True)\n",
       "    (2): Conv2d(64, 64, kernel_size=(3, 3), stride=(1, 1), padding=(1, 1))\n",
       "    (3): ReLU(inplace=True)\n",
       "    (4): MaxPool2d(kernel_size=2, stride=2, padding=0, dilation=1, ceil_mode=False)\n",
       "    (5): Conv2d(64, 128, kernel_size=(3, 3), stride=(1, 1), padding=(1, 1))\n",
       "    (6): ReLU(inplace=True)\n",
       "    (7): Conv2d(128, 128, kernel_size=(3, 3), stride=(1, 1), padding=(1, 1))\n",
       "    (8): ReLU(inplace=True)\n",
       "    (9): MaxPool2d(kernel_size=2, stride=2, padding=0, dilation=1, ceil_mode=False)\n",
       "    (10): Conv2d(128, 256, kernel_size=(3, 3), stride=(1, 1), padding=(1, 1))\n",
       "    (11): ReLU(inplace=True)\n",
       "    (12): Conv2d(256, 256, kernel_size=(3, 3), stride=(1, 1), padding=(1, 1))\n",
       "    (13): ReLU(inplace=True)\n",
       "    (14): Conv2d(256, 256, kernel_size=(3, 3), stride=(1, 1), padding=(1, 1))\n",
       "    (15): ReLU(inplace=True)\n",
       "    (16): MaxPool2d(kernel_size=2, stride=2, padding=0, dilation=1, ceil_mode=False)\n",
       "    (17): Conv2d(256, 512, kernel_size=(3, 3), stride=(1, 1), padding=(1, 1))\n",
       "    (18): ReLU(inplace=True)\n",
       "    (19): Conv2d(512, 512, kernel_size=(3, 3), stride=(1, 1), padding=(1, 1))\n",
       "    (20): ReLU(inplace=True)\n",
       "    (21): Conv2d(512, 512, kernel_size=(3, 3), stride=(1, 1), padding=(1, 1))\n",
       "    (22): ReLU(inplace=True)\n",
       "    (23): MaxPool2d(kernel_size=2, stride=2, padding=0, dilation=1, ceil_mode=False)\n",
       "    (24): Conv2d(512, 512, kernel_size=(3, 3), stride=(1, 1), padding=(1, 1))\n",
       "    (25): ReLU(inplace=True)\n",
       "    (26): Conv2d(512, 512, kernel_size=(3, 3), stride=(1, 1), padding=(1, 1))\n",
       "    (27): ReLU(inplace=True)\n",
       "    (28): Conv2d(512, 512, kernel_size=(3, 3), stride=(1, 1), padding=(1, 1))\n",
       "    (29): ReLU(inplace=True)\n",
       "    (30): MaxPool2d(kernel_size=2, stride=2, padding=0, dilation=1, ceil_mode=False)\n",
       "  )\n",
       "  (avgpool): AdaptiveAvgPool2d(output_size=(7, 7))\n",
       "  (classifier): Sequential(\n",
       "    (0): Linear(in_features=25088, out_features=4096, bias=True)\n",
       "    (1): ReLU(inplace=True)\n",
       "    (2): Dropout(p=0.5, inplace=False)\n",
       "    (3): Linear(in_features=4096, out_features=4096, bias=True)\n",
       "    (4): ReLU(inplace=True)\n",
       "    (5): Dropout(p=0.5, inplace=False)\n",
       "    (6): Linear(in_features=4096, out_features=10, bias=True)\n",
       "  )\n",
       ")"
      ]
     },
     "execution_count": 5,
     "metadata": {},
     "output_type": "execute_result"
    }
   ],
   "source": [
    "# Set the device\n",
    "device = torch.device('cuda' if torch.cuda.is_available() else 'cpu')\n",
    "model = model.to(device)\n",
    "model.eval()"
   ]
  },
  {
   "cell_type": "code",
   "execution_count": 6,
   "id": "44cc2b00-607c-4ce0-bfab-266dcb2191ef",
   "metadata": {
    "execution": {
     "iopub.execute_input": "2025-05-22T09:17:07.976656Z",
     "iopub.status.busy": "2025-05-22T09:17:07.976191Z",
     "iopub.status.idle": "2025-05-22T09:17:32.400502Z",
     "shell.execute_reply": "2025-05-22T09:17:32.399507Z",
     "shell.execute_reply.started": "2025-05-22T09:17:07.976624Z"
    }
   },
   "outputs": [
    {
     "name": "stderr",
     "output_type": "stream",
     "text": [
      "Evaluating: 100%|████████████████████████████████████████████████████████████████████████████████████████████████████████████████████████████████████████████████████████████████████████████████████████████████████████████████████████████████████| 157/157 [00:24<00:00,  6.43batch/s]"
     ]
    },
    {
     "name": "stdout",
     "output_type": "stream",
     "text": [
      "Accuracy on CIFAR-100 test images: 11.26%\n"
     ]
    },
    {
     "name": "stderr",
     "output_type": "stream",
     "text": [
      "\n"
     ]
    }
   ],
   "source": [
    "# Evaluation loop with progress bar\n",
    "correct = 0\n",
    "total = 0\n",
    "with torch.no_grad():\n",
    "    for images, labels in tqdm(test_loader, desc=\"Evaluating\", unit=\"batch\"):\n",
    "        images = images.to(device)\n",
    "        labels = labels.to(device)\n",
    "        outputs = model(images)\n",
    "        _, predicted = torch.max(outputs.data, 1)\n",
    "        total += labels.size(0)\n",
    "        correct += (predicted == labels).sum().item()\n",
    "\n",
    "print(f'Accuracy on CIFAR-10 test images: {100 * correct / total:.2f}%')"
   ]
  },
  {
   "cell_type": "markdown",
   "id": "cfc3d9a7-c5e8-45fc-9e03-dc05266683b4",
   "metadata": {},
   "source": [
    "# Conclusion\n",
    "- The VGG16 for CIFAR-10 has very bad accuracy\n",
    "- This is because the pretrained VGG16 was made for ImageNet and not CIFAR-10 data set\n",
    "- To circumvent this, maybe we retrain the VGG16"
   ]
  },
  {
   "cell_type": "code",
   "execution_count": null,
   "id": "f8187a1c-bc4a-4522-93fe-1f9c367c5df2",
   "metadata": {},
   "outputs": [],
   "source": []
  },
  {
   "cell_type": "markdown",
   "id": "46acfb7a-add5-4477-a366-fe6a9723cded",
   "metadata": {},
   "source": []
  }
 ],
 "metadata": {
  "kernelspec": {
   "display_name": "Python 3 (ipykernel)",
   "language": "python",
   "name": "python3"
  },
  "language_info": {
   "codemirror_mode": {
    "name": "ipython",
    "version": 3
   },
   "file_extension": ".py",
   "mimetype": "text/x-python",
   "name": "python",
   "nbconvert_exporter": "python",
   "pygments_lexer": "ipython3",
   "version": "3.9.21"
  }
 },
 "nbformat": 4,
 "nbformat_minor": 5
}

{
 "cells": [
  {
   "cell_type": "markdown",
   "id": "77fefd10",
   "metadata": {},
   "source": [
    "# Basic Convolution\n",
    "\n",
    "Convolution is a means to compress information or data across a window of data. It can be in 1D or 2D. Here we demonstrate through simple code how the convolution works and how we would code it in vanilla element-wise operations."
   ]
  },
  {
   "cell_type": "code",
   "execution_count": 5,
   "id": "86ead330",
   "metadata": {},
   "outputs": [],
   "source": [
    "import numpy as np\n",
    "import torch\n",
    "import torch.nn as nn"
   ]
  },
  {
   "cell_type": "markdown",
   "id": "1f945b90",
   "metadata": {},
   "source": [
    "## Mathematics\n",
    "\n",
    "For 1D convolution:\n",
    "\n",
    "$$ y[n] = \\sum_{k=0}^{M-1} h[k] \\cdot x[n-k]$$\n",
    "\n",
    "Where $M$ shows that the $h$ filter is bounded. \n",
    "\n",
    "\n",
    "For 2D convolution:\n",
    "\n",
    "$$ Y[i,j] = \\sum_{m=0}^{K-1}\\sum_{n=0}^{K-1} H[m,n] \\cdot X[i-m,j-n]$$\n",
    "\n",
    "$X$ or $x$ are padded when they are out of bounds."
   ]
  },
  {
   "cell_type": "markdown",
   "id": "158572e3",
   "metadata": {},
   "source": [
    "## Code\n",
    "\n",
    "For 1D Convolution:"
   ]
  },
  {
   "cell_type": "code",
   "execution_count": 17,
   "id": "903f42d2",
   "metadata": {},
   "outputs": [
    {
     "name": "stdout",
     "output_type": "stream",
     "text": [
      "Convolution output: tensor([ 2.,  2.,  2.,  2.,  2.,  2.,  2.,  2.,  2., -9.])\n"
     ]
    }
   ],
   "source": [
    "# Setup for simple 1D convolution\n",
    "\n",
    "# Simple vector for 1D convolution\n",
    "# Padded on 2 ends\n",
    "vector_x = torch.tensor([0.0, 1.0, 2.0, 3.0, 4.0, 5.0, 6.0, 7.0, 8.0, 9.0, 10.0, 0.0])\n",
    "\n",
    "# Simple 1x3 kernel\n",
    "kernel = torch.tensor([-1.0, 0.0, 1.0])\n",
    "\n",
    "# Simple convolution function\n",
    "def conv1d(x, k):\n",
    "    # Get the length of the input and kernel\n",
    "    x_len = len(x)\n",
    "    k_len = len(k)\n",
    "\n",
    "    # Calculate the length of the output\n",
    "    out_len = x_len - k_len + 1\n",
    "\n",
    "    # Initialize the output tensor\n",
    "    out = torch.zeros(out_len)\n",
    "\n",
    "    # Perform the convolution operation\n",
    "    for i in range(out_len):\n",
    "        for j in range(k_len):\n",
    "            out[i] += x[i + j] * k[j]\n",
    "    return out\n",
    "\n",
    "# Perform the convolution\n",
    "out = conv1d(vector_x, kernel)\n",
    "print(\"Convolution output:\", out)"
   ]
  },
  {
   "cell_type": "code",
   "execution_count": null,
   "id": "51ba32fa",
   "metadata": {},
   "outputs": [
    {
     "name": "stdout",
     "output_type": "stream",
     "text": [
      "PyTorch 1D output: tensor([[[ 2.,  2.,  2.,  2.,  2.,  2.,  2.,  2.,  2., -9.]]],\n",
      "       grad_fn=<ConvolutionBackward0>)\n",
      "PyTorch 1D size: torch.Size([1, 1, 10])\n"
     ]
    }
   ],
   "source": [
    "# 1D Convolution using PyTorch\n",
    "vector_x = torch.tensor([[0.0, 1.0, 2.0, 3.0, 4.0, 5.0, 6.0, 7.0, 8.0, 9.0, 10.0, 0.0]])\n",
    "vector_x = vector_x.unsqueeze(0) # Add batch and channel dimensions\n",
    "\n",
    "# Reshape kernel to match PyTorch's expected input\n",
    "kernel = torch.tensor([[[-1.0, 0.0, 1.0]]])  # (out_channels=1, in_channels=1, kernel_size=3)\n",
    "\n",
    "conv1d = nn.Conv1d(in_channels=1, out_channels=1, kernel_size=3, bias=False)\n",
    "conv1d.weight.data = kernel\n",
    "pytorch_1d = conv1d(vector_x)\n",
    "\n",
    "print(\"PyTorch 1D output:\", pytorch_1d)\n",
    "print(\"PyTorch 1D size:\", pytorch_1d.size())\n",
    "\n",
    "# Size is batch x output_channels x length"
   ]
  },
  {
   "cell_type": "markdown",
   "id": "4d95df94",
   "metadata": {},
   "source": [
    "For 2D Convolution:"
   ]
  },
  {
   "cell_type": "code",
   "execution_count": 20,
   "id": "dd6d539d",
   "metadata": {},
   "outputs": [
    {
     "name": "stdout",
     "output_type": "stream",
     "text": [
      "2D Convolution Output:\n",
      " tensor([[  9.,   6.,  -9.],\n",
      "        [ 20.,   8., -20.],\n",
      "        [ 21.,   6., -21.]])\n"
     ]
    }
   ],
   "source": [
    "# Simple 2D matrix with zero-padding already applied\n",
    "matrix_x = torch.tensor([\n",
    "    [0.0,  0.0,  0.0,  0.0, 0.0],\n",
    "    [0.0,  1.0,  2.0,  3.0, 0.0],\n",
    "    [0.0,  4.0,  5.0,  6.0, 0.0],\n",
    "    [0.0,  7.0,  8.0,  9.0, 0.0],\n",
    "    [0.0,  0.0,  0.0,  0.0, 0.0]\n",
    "])\n",
    "\n",
    "# Simple 3x3 kernel (e.g., Sobel-like edge detector)\n",
    "kernel_2d = torch.tensor([\n",
    "    [-1.0, 0.0, 1.0],\n",
    "    [-2.0, 0.0, 2.0],\n",
    "    [-1.0, 0.0, 1.0]\n",
    "])\n",
    "\n",
    "# 2D convolution function (no batch or channels)\n",
    "def conv2d(x, k):\n",
    "    IX, IY = x.shape\n",
    "    KX, KY = k.shape\n",
    "    OX = IX - KX + 1\n",
    "    OY = IY - KY + 1\n",
    "\n",
    "    out = torch.zeros((OX, OY))\n",
    "\n",
    "    for ox in range(OX):\n",
    "        for oy in range(OY):\n",
    "            for kx in range(KX):\n",
    "                for ky in range(KY):\n",
    "                    out[ox, oy] += x[ox + kx, oy + ky] * k[kx, ky]\n",
    "    return out\n",
    "\n",
    "# Perform 2D convolution\n",
    "output_2d = conv2d(matrix_x, kernel_2d)\n",
    "\n",
    "print(\"2D Convolution Output:\\n\", output_2d)"
   ]
  },
  {
   "cell_type": "code",
   "execution_count": 21,
   "id": "651d024f",
   "metadata": {},
   "outputs": [
    {
     "name": "stdout",
     "output_type": "stream",
     "text": [
      "PyTorch 2D output:\n",
      " tensor([[[[  9.,   6.,  -9.],\n",
      "          [ 20.,   8., -20.],\n",
      "          [ 21.,   6., -21.]]]], grad_fn=<ConvolutionBackward0>)\n",
      "PyTorch 2D size: torch.Size([1, 1, 3, 3])\n"
     ]
    }
   ],
   "source": [
    "# Input 2D matrix with padding already applied\n",
    "matrix_x = torch.tensor([\n",
    "    [0.0,  0.0,  0.0,  0.0, 0.0],\n",
    "    [0.0,  1.0,  2.0,  3.0, 0.0],\n",
    "    [0.0,  4.0,  5.0,  6.0, 0.0],\n",
    "    [0.0,  7.0,  8.0,  9.0, 0.0],\n",
    "    [0.0,  0.0,  0.0,  0.0, 0.0]\n",
    "])\n",
    "\n",
    "# Reshape input to match PyTorch's 2D conv format: (batch, channels, height, width)\n",
    "matrix_x = matrix_x.unsqueeze(0).unsqueeze(0)  # shape: (1, 1, 5, 5)\n",
    "\n",
    "# Define a 3x3 kernel, same as in the manual version\n",
    "kernel_2d = torch.tensor([[[[-1.0, 0.0, 1.0],\n",
    "                            [-2.0, 0.0, 2.0],\n",
    "                            [-1.0, 0.0, 1.0]]]])  # shape: (out_channels=1, in_channels=1, 3, 3)\n",
    "\n",
    "# Set up Conv2d layer\n",
    "conv2d = nn.Conv2d(in_channels=1, out_channels=1, kernel_size=3, bias=False)\n",
    "conv2d.weight.data = kernel_2d  # manually set the weights\n",
    "\n",
    "# Perform the convolution\n",
    "pytorch_2d = conv2d(matrix_x)\n",
    "\n",
    "print(\"PyTorch 2D output:\\n\", pytorch_2d)\n",
    "print(\"PyTorch 2D size:\", pytorch_2d.size())  # should be (1, 1, H_out, W_out)"
   ]
  }
 ],
 "metadata": {
  "kernelspec": {
   "display_name": "tensorx",
   "language": "python",
   "name": "python3"
  },
  "language_info": {
   "codemirror_mode": {
    "name": "ipython",
    "version": 3
   },
   "file_extension": ".py",
   "mimetype": "text/x-python",
   "name": "python",
   "nbconvert_exporter": "python",
   "pygments_lexer": "ipython3",
   "version": "3.9.21"
  }
 },
 "nbformat": 4,
 "nbformat_minor": 5
}

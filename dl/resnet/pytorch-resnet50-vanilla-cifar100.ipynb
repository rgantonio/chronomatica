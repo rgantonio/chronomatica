{
 "cells": [
  {
   "cell_type": "markdown",
   "id": "157b33c6-4835-4d96-b60c-0bc28e0fd403",
   "metadata": {},
   "source": [
    "# Importing Modules"
   ]
  },
  {
   "cell_type": "code",
   "execution_count": 3,
   "id": "48464b48-8604-490f-a3c5-7752e7b50a10",
   "metadata": {
    "execution": {
     "iopub.execute_input": "2025-05-30T09:19:29.583536Z",
     "iopub.status.busy": "2025-05-30T09:19:29.582860Z",
     "iopub.status.idle": "2025-05-30T09:19:29.591852Z",
     "shell.execute_reply": "2025-05-30T09:19:29.590609Z",
     "shell.execute_reply.started": "2025-05-30T09:19:29.583472Z"
    }
   },
   "outputs": [],
   "source": [
    "import torch\n",
    "import torch.nn as nn\n",
    "import torchvision\n",
    "import torchvision.transforms as transforms\n",
    "from torchvision.models.resnet import ResNet, Bottleneck\n",
    "from torch.quantization import QuantStub, DeQuantStub\n",
    "import torch.quantization\n",
    "import torch.optim as optim\n",
    "from torchinfo import summary\n",
    "from tqdm import tqdm"
   ]
  },
  {
   "cell_type": "markdown",
   "id": "aa6344dc-4570-4172-8820-27554e0e5246",
   "metadata": {},
   "source": [
    "# Downloading Data"
   ]
  },
  {
   "cell_type": "code",
   "execution_count": 2,
   "id": "5d82cabf-e915-4e0f-9d0e-b17438805c5d",
   "metadata": {
    "execution": {
     "iopub.execute_input": "2025-05-30T09:18:22.290786Z",
     "iopub.status.busy": "2025-05-30T09:18:22.290014Z",
     "iopub.status.idle": "2025-05-30T09:18:26.493660Z",
     "shell.execute_reply": "2025-05-30T09:18:26.491905Z",
     "shell.execute_reply.started": "2025-05-30T09:18:22.290737Z"
    }
   },
   "outputs": [],
   "source": [
    "transform_train = transforms.Compose([\n",
    "    transforms.RandomCrop(32, padding=4),\n",
    "    transforms.RandomHorizontalFlip(),\n",
    "    transforms.ToTensor(),\n",
    "])\n",
    "\n",
    "transform_test = transforms.Compose([\n",
    "    transforms.ToTensor(),\n",
    "])\n",
    "\n",
    "trainset = torchvision.datasets.CIFAR100(root='./data', train=True, download=True, transform=transform_train)\n",
    "trainloader = torch.utils.data.DataLoader(trainset, batch_size=128, shuffle=True, num_workers=4)\n",
    "\n",
    "testset = torchvision.datasets.CIFAR100(root='./data', train=False, download=True, transform=transform_test)\n",
    "testloader = torch.utils.data.DataLoader(testset, batch_size=100, shuffle=False, num_workers=4)\n"
   ]
  },
  {
   "cell_type": "markdown",
   "id": "d05a88eb-3d4b-4b5c-a0cb-c250d0be72c6",
   "metadata": {},
   "source": [
    "# Create ResNet Model"
   ]
  },
  {
   "cell_type": "code",
   "execution_count": 4,
   "id": "86cc02eb-f41b-4c70-a933-597eed7ea39f",
   "metadata": {
    "execution": {
     "iopub.execute_input": "2025-05-30T09:19:38.985770Z",
     "iopub.status.busy": "2025-05-30T09:19:38.985077Z",
     "iopub.status.idle": "2025-05-30T09:19:38.996347Z",
     "shell.execute_reply": "2025-05-30T09:19:38.995284Z",
     "shell.execute_reply.started": "2025-05-30T09:19:38.985712Z"
    }
   },
   "outputs": [],
   "source": [
    "class QuantizableResNet50(ResNet):\n",
    "    def __init__(self):\n",
    "        super().__init__(block=Bottleneck, layers=[3, 4, 6, 3], num_classes=100)\n",
    "        # Override the first conv layer for 32x32\n",
    "        self.conv1 = nn.Conv2d(3, 64, kernel_size=3, stride=1, padding=1, bias=False)\n",
    "        self.maxpool = nn.Identity()  # Remove maxpool for CIFAR\n",
    "        \n",
    "        # Add quant/dequant stubs\n",
    "        self.quant = QuantStub()\n",
    "        self.dequant = DeQuantStub()\n",
    "\n",
    "    def forward(self, x):\n",
    "        x = self.quant(x)\n",
    "        x = super()._forward_impl(x)\n",
    "        x = self.dequant(x)\n",
    "        return x"
   ]
  },
  {
   "cell_type": "markdown",
   "id": "d55ed23d-5188-479d-b8a4-8d92c36c46a6",
   "metadata": {},
   "source": [
    "# GPU if Available"
   ]
  },
  {
   "cell_type": "code",
   "execution_count": 7,
   "id": "f781142c-861f-43e9-8369-9ed29bd1ab06",
   "metadata": {
    "execution": {
     "iopub.execute_input": "2025-05-30T09:21:02.278514Z",
     "iopub.status.busy": "2025-05-30T09:21:02.278077Z",
     "iopub.status.idle": "2025-05-30T09:21:02.818822Z",
     "shell.execute_reply": "2025-05-30T09:21:02.817836Z",
     "shell.execute_reply.started": "2025-05-30T09:21:02.278483Z"
    }
   },
   "outputs": [
    {
     "name": "stdout",
     "output_type": "stream",
     "text": [
      "Using 4 GPUs\n"
     ]
    }
   ],
   "source": [
    "device = 'cuda' if torch.cuda.is_available() else 'cpu'\n",
    "model = QuantizableResNet50()\n",
    "\n",
    "if torch.cuda.device_count() > 1:\n",
    "    print(f'Using {torch.cuda.device_count()} GPUs')\n",
    "    model = nn.DataParallel(model)\n",
    "\n",
    "model = model.to(device)"
   ]
  },
  {
   "cell_type": "markdown",
   "id": "de383b42-14bf-40eb-aed0-0832c0df2166",
   "metadata": {},
   "source": [
    "# Training Parameters"
   ]
  },
  {
   "cell_type": "code",
   "execution_count": 8,
   "id": "bcccfd27-3010-40d1-b71d-4b27abf4f641",
   "metadata": {
    "execution": {
     "iopub.execute_input": "2025-05-30T09:21:10.227359Z",
     "iopub.status.busy": "2025-05-30T09:21:10.226857Z",
     "iopub.status.idle": "2025-05-30T09:21:10.233354Z",
     "shell.execute_reply": "2025-05-30T09:21:10.232559Z",
     "shell.execute_reply.started": "2025-05-30T09:21:10.227322Z"
    }
   },
   "outputs": [],
   "source": [
    "criterion = nn.CrossEntropyLoss()\n",
    "optimizer = optim.SGD(model.parameters(), lr=0.1, momentum=0.9, weight_decay=5e-4)\n",
    "scheduler = optim.lr_scheduler.StepLR(optimizer, step_size=30, gamma=0.1)"
   ]
  },
  {
   "cell_type": "markdown",
   "id": "74834a47-33df-4147-b806-152cbb725a63",
   "metadata": {},
   "source": [
    "# Training and Testing Functions"
   ]
  },
  {
   "cell_type": "code",
   "execution_count": 12,
   "id": "29cb978c-c296-4914-b134-fdc44cd5a202",
   "metadata": {
    "execution": {
     "iopub.execute_input": "2025-05-30T09:25:10.939035Z",
     "iopub.status.busy": "2025-05-30T09:25:10.938492Z",
     "iopub.status.idle": "2025-05-30T09:25:10.950002Z",
     "shell.execute_reply": "2025-05-30T09:25:10.949228Z",
     "shell.execute_reply.started": "2025-05-30T09:25:10.938977Z"
    }
   },
   "outputs": [],
   "source": [
    "def train(model, dataloader, criterion, optimizer, device, epoch, total_epochs):\n",
    "    model.train()\n",
    "    running_loss = 0.0\n",
    "    correct = 0\n",
    "    total = 0\n",
    "\n",
    "    epoch_bar = tqdm(dataloader, desc=f\"🟢 Epoch [{epoch}/{total_epochs}] Training\", leave=False)\n",
    "\n",
    "    for inputs, targets in epoch_bar:\n",
    "        inputs, targets = inputs.to(device), targets.to(device)\n",
    "        optimizer.zero_grad()\n",
    "\n",
    "        outputs = model(inputs)\n",
    "        loss = criterion(outputs, targets)\n",
    "        loss.backward()\n",
    "        optimizer.step()\n",
    "\n",
    "        running_loss += loss.item() * inputs.size(0)\n",
    "        _, predicted = outputs.max(1)\n",
    "        total += targets.size(0)\n",
    "        correct += predicted.eq(targets).sum().item()\n",
    "\n",
    "        acc = 100. * correct / total\n",
    "        avg_loss = running_loss / total\n",
    "        epoch_bar.set_postfix({'Loss': f'{avg_loss:.4f}', 'Acc': f'{acc:.2f}%'})\n",
    "\n",
    "    print(f\"✅ Epoch [{epoch}/{total_epochs}] Done | Train Loss: {avg_loss:.4f} | Train Acc: {acc:.2f}%\")\n",
    "\n",
    "def test(model, dataloader, criterion, device):\n",
    "    model.eval()\n",
    "    correct = 0\n",
    "    total = 0\n",
    "    running_loss = 0.0\n",
    "\n",
    "    with torch.no_grad():\n",
    "        test_bar = tqdm(dataloader, desc=\"🔵 Evaluating\", leave=False)\n",
    "        for inputs, targets in test_bar:\n",
    "            inputs, targets = inputs.to(device), targets.to(device)\n",
    "            outputs = model(inputs)\n",
    "            loss = criterion(outputs, targets)\n",
    "\n",
    "            running_loss += loss.item() * inputs.size(0)\n",
    "            _, predicted = outputs.max(1)\n",
    "            total += targets.size(0)\n",
    "            correct += predicted.eq(targets).sum().item()\n",
    "\n",
    "            acc = 100. * correct / total\n",
    "            avg_loss = running_loss / total\n",
    "            test_bar.set_postfix({'Loss': f'{avg_loss:.4f}', 'Acc': f'{acc:.2f}%'})\n",
    "\n",
    "    print(f\"🧪 Test Loss: {avg_loss:.4f} | Test Acc: {acc:.2f}%\")"
   ]
  },
  {
   "cell_type": "markdown",
   "id": "82607707-84e6-43d0-b0e9-5b1bfd5256d2",
   "metadata": {},
   "source": [
    "# Training\n",
    "- If trained up to 91 epcohs, you get roughly 99% training accuracy.\n",
    "- You get 80% accuracy after 33 epochs"
   ]
  },
  {
   "cell_type": "code",
   "execution_count": null,
   "id": "a0f73680-8716-40a3-9826-269a821b586c",
   "metadata": {
    "scrolled": true
   },
   "outputs": [],
   "source": [
    "total_epochs = 90\n",
    "for epoch in range(1, total_epochs + 1):\n",
    "    train(model, trainloader, criterion, optimizer, device, epoch, total_epochs)\n",
    "    #test(model, testloader, criterion, device)\n",
    "    scheduler.step()"
   ]
  },
  {
   "cell_type": "markdown",
   "id": "39820202-46eb-4e2d-beae-7a72cc296b1c",
   "metadata": {},
   "source": [
    "# Testing\n",
    "- Note that testing tests unforseen data hence the loss in accuracy"
   ]
  },
  {
   "cell_type": "code",
   "execution_count": 15,
   "id": "47671725-c3f4-46a8-b312-78f8eb743a3b",
   "metadata": {
    "execution": {
     "iopub.execute_input": "2025-05-30T12:21:45.828685Z",
     "iopub.status.busy": "2025-05-30T12:21:45.827644Z",
     "iopub.status.idle": "2025-05-30T12:21:56.936616Z",
     "shell.execute_reply": "2025-05-30T12:21:56.935535Z",
     "shell.execute_reply.started": "2025-05-30T12:21:45.828622Z"
    },
    "scrolled": true
   },
   "outputs": [
    {
     "name": "stderr",
     "output_type": "stream",
     "text": [
      "                                                                                                                                                                                                                                                                                          "
     ]
    },
    {
     "name": "stdout",
     "output_type": "stream",
     "text": [
      "🧪 Test Loss: 1.0303 | Test Acc: 76.56%\n"
     ]
    },
    {
     "name": "stderr",
     "output_type": "stream",
     "text": []
    }
   ],
   "source": [
    "test(model, testloader, criterion, device)"
   ]
  },
  {
   "cell_type": "markdown",
   "id": "e235c65a-96cf-46ad-8446-8f09550d2942",
   "metadata": {},
   "source": [
    "# Saving Unquantized Model"
   ]
  },
  {
   "cell_type": "code",
   "execution_count": 16,
   "id": "f8fbac6c-5739-4a3a-86b5-a363204e3a01",
   "metadata": {
    "execution": {
     "iopub.execute_input": "2025-05-30T12:39:37.228036Z",
     "iopub.status.busy": "2025-05-30T12:39:37.226979Z",
     "iopub.status.idle": "2025-05-30T12:39:38.255621Z",
     "shell.execute_reply": "2025-05-30T12:39:38.254782Z",
     "shell.execute_reply.started": "2025-05-30T12:39:37.227937Z"
    }
   },
   "outputs": [],
   "source": [
    "torch.save(model.state_dict(), 'vanilla_resnet50_cifar100.pth')"
   ]
  },
  {
   "cell_type": "markdown",
   "id": "3b91bcdc-ddc8-42c0-8bc9-2561e86628ce",
   "metadata": {},
   "source": [
    "# Quantizing the Model\n",
    "- In here we need to redo some fine-tuning training for the quantized version."
   ]
  },
  {
   "cell_type": "code",
   "execution_count": null,
   "id": "24b0473c-15b6-409d-ba2d-97194ccff8b7",
   "metadata": {
    "scrolled": true
   },
   "outputs": [],
   "source": [
    "model.to(\"cuda\")\n",
    "model.train()\n",
    "model.qconfig = torch.quantization.get_default_qat_qconfig('fbgemm')\n",
    "torch.quantization.prepare_qat(model, inplace=True)"
   ]
  },
  {
   "cell_type": "code",
   "execution_count": 27,
   "id": "34f74906-076c-4a2b-af48-a4ca9b15be22",
   "metadata": {
    "execution": {
     "iopub.execute_input": "2025-06-02T08:03:05.282846Z",
     "iopub.status.busy": "2025-06-02T08:03:05.282329Z",
     "iopub.status.idle": "2025-06-02T08:03:05.291054Z",
     "shell.execute_reply": "2025-06-02T08:03:05.290119Z",
     "shell.execute_reply.started": "2025-06-02T08:03:05.282785Z"
    }
   },
   "outputs": [],
   "source": [
    "criterion = nn.CrossEntropyLoss()\n",
    "optimizer = optim.SGD(model.parameters(), lr=0.1, momentum=0.9, weight_decay=5e-4)\n",
    "scheduler = optim.lr_scheduler.StepLR(optimizer, step_size=30, gamma=0.1)"
   ]
  },
  {
   "cell_type": "code",
   "execution_count": null,
   "id": "c707c044-3311-4298-90ea-d309ad7355e8",
   "metadata": {},
   "outputs": [],
   "source": [
    "total_epochs = 5\n",
    "for epoch in range(1, total_epochs + 1):\n",
    "    train(model, trainloader, criterion, optimizer, device, epoch, total_epochs)\n",
    "    #test(model, testloader, criterion, device)\n",
    "    scheduler.step()"
   ]
  },
  {
   "cell_type": "code",
   "execution_count": 34,
   "id": "712f9a65-7acd-49bd-b3fc-4f016f163f52",
   "metadata": {
    "execution": {
     "iopub.execute_input": "2025-06-02T09:23:16.415851Z",
     "iopub.status.busy": "2025-06-02T09:23:16.415403Z",
     "iopub.status.idle": "2025-06-02T09:23:17.308217Z",
     "shell.execute_reply": "2025-06-02T09:23:17.307415Z",
     "shell.execute_reply.started": "2025-06-02T09:23:16.415820Z"
    }
   },
   "outputs": [],
   "source": [
    "model.eval()\n",
    "model.cpu()\n",
    "quantized_model = torch.quantization.convert(model, inplace=False)"
   ]
  },
  {
   "cell_type": "code",
   "execution_count": null,
   "id": "d9fb8f85-a980-436f-9dcb-e43f7b5b95b0",
   "metadata": {
    "scrolled": true
   },
   "outputs": [],
   "source": [
    "quantized_model = quantized_model.module  # unwrap from DataParallel\n",
    "quantized_model.to('cpu')  # <--- this fixes the RuntimeError\n",
    "quantized_model.eval()"
   ]
  },
  {
   "cell_type": "code",
   "execution_count": 39,
   "id": "9a443a50-c50d-4be8-a05c-e3c06f83e885",
   "metadata": {
    "execution": {
     "iopub.execute_input": "2025-06-02T09:27:04.094909Z",
     "iopub.status.busy": "2025-06-02T09:27:04.094459Z",
     "iopub.status.idle": "2025-06-02T09:27:04.099544Z",
     "shell.execute_reply": "2025-06-02T09:27:04.098672Z",
     "shell.execute_reply.started": "2025-06-02T09:27:04.094879Z"
    }
   },
   "outputs": [
    {
     "name": "stdout",
     "output_type": "stream",
     "text": [
      "<class '__main__.QuantizableResNet50'>\n"
     ]
    }
   ],
   "source": [
    "print(type(quantized_model)) "
   ]
  },
  {
   "cell_type": "code",
   "execution_count": null,
   "id": "e0dc3c54-1c7d-4edb-840b-d8034df7842e",
   "metadata": {},
   "outputs": [],
   "source": [
    "with torch.no_grad():\n",
    "    for images, labels in testloader:\n",
    "        images, labels = images.to(\"cpu\"), labels.to(\"cpu\")\n",
    "        outputs = quantized_model(images)"
   ]
  },
  {
   "cell_type": "code",
   "execution_count": null,
   "id": "3fbdcd14-db0c-45f4-b197-9a5819bf62f9",
   "metadata": {},
   "outputs": [],
   "source": [
    "torch.save(quantized_model.state_dict(), 'quantized_resnet50_cifar100.pth')"
   ]
  },
  {
   "cell_type": "markdown",
   "id": "7f4af288-9b53-431b-b64b-ee5460ad13ba",
   "metadata": {},
   "source": [
    "# Some Notes\n",
    "- TODO: Need to rework the quantization of the model soon."
   ]
  },
  {
   "cell_type": "code",
   "execution_count": null,
   "id": "840844df-ce4d-4ab7-8cdc-8e58e2d33a61",
   "metadata": {},
   "outputs": [],
   "source": []
  }
 ],
 "metadata": {
  "kernelspec": {
   "display_name": "Python 3 (ipykernel)",
   "language": "python",
   "name": "python3"
  },
  "language_info": {
   "codemirror_mode": {
    "name": "ipython",
    "version": 3
   },
   "file_extension": ".py",
   "mimetype": "text/x-python",
   "name": "python",
   "nbconvert_exporter": "python",
   "pygments_lexer": "ipython3",
   "version": "3.10.16"
  }
 },
 "nbformat": 4,
 "nbformat_minor": 5
}

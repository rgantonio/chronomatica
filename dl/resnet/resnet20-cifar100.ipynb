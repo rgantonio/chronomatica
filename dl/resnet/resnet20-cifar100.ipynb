{
 "cells": [
  {
   "cell_type": "markdown",
   "id": "690cdf87-01f8-4f8e-8de5-0d4143fa7e08",
   "metadata": {},
   "source": [
    "# ResNet20 with CIFAR100\n",
    "- This is just to extract ResNet20 and test to see how it performs on CIFAR100"
   ]
  },
  {
   "cell_type": "markdown",
   "id": "3dbefccc-d42e-4a6c-beaf-e1a86e2aeaf2",
   "metadata": {},
   "source": [
    "# Import Packages"
   ]
  },
  {
   "cell_type": "code",
   "execution_count": 1,
   "id": "f635c694-a42f-43ed-9e7d-1512f33ff998",
   "metadata": {
    "execution": {
     "iopub.execute_input": "2025-05-22T08:21:40.372335Z",
     "iopub.status.busy": "2025-05-22T08:21:40.371271Z",
     "iopub.status.idle": "2025-05-22T08:21:46.372240Z",
     "shell.execute_reply": "2025-05-22T08:21:46.371133Z",
     "shell.execute_reply.started": "2025-05-22T08:21:40.372279Z"
    }
   },
   "outputs": [],
   "source": [
    "import torch\n",
    "import torchvision\n",
    "import torchvision.transforms as transforms\n",
    "import torch.nn as nn"
   ]
  },
  {
   "cell_type": "markdown",
   "id": "10bf4a38-4e87-408e-92a3-60b871fc30c1",
   "metadata": {},
   "source": [
    "# Download the Model"
   ]
  },
  {
   "cell_type": "code",
   "execution_count": 2,
   "id": "7798a46a-055f-4994-b0b5-844924d98f04",
   "metadata": {
    "execution": {
     "iopub.execute_input": "2025-05-22T08:21:46.390425Z",
     "iopub.status.busy": "2025-05-22T08:21:46.390192Z",
     "iopub.status.idle": "2025-05-22T08:21:46.522904Z",
     "shell.execute_reply": "2025-05-22T08:21:46.521558Z",
     "shell.execute_reply.started": "2025-05-22T08:21:46.390402Z"
    }
   },
   "outputs": [
    {
     "name": "stderr",
     "output_type": "stream",
     "text": [
      "Using cache found in /users/micas/rantonio/.cache/torch/hub/chenyaofo_pytorch-cifar-models_master\n"
     ]
    }
   ],
   "source": [
    "# Override the validation function to bypass the rate limit error\n",
    "torch.hub._validate_not_a_forked_repo = lambda a, b, c: True\n",
    "\n",
    "# Load the pretrained ResNet-20 model for CIFAR-100\n",
    "model = torch.hub.load('chenyaofo/pytorch-cifar-models', 'cifar100_resnet20', pretrained=True)"
   ]
  },
  {
   "cell_type": "markdown",
   "id": "22a14780-a708-4e45-ba85-fa3eb12a6897",
   "metadata": {},
   "source": [
    "# Download Dataset"
   ]
  },
  {
   "cell_type": "code",
   "execution_count": 3,
   "id": "fceafea7-05d9-4f39-b220-5035ed084fcb",
   "metadata": {
    "execution": {
     "iopub.execute_input": "2025-05-22T08:21:46.524611Z",
     "iopub.status.busy": "2025-05-22T08:21:46.524319Z",
     "iopub.status.idle": "2025-05-22T08:21:47.220952Z",
     "shell.execute_reply": "2025-05-22T08:21:47.219585Z",
     "shell.execute_reply.started": "2025-05-22T08:21:46.524578Z"
    }
   },
   "outputs": [],
   "source": [
    "# Define the transformation for the test dataset\n",
    "transform = transforms.Compose([\n",
    "    transforms.ToTensor(),\n",
    "    transforms.Normalize((0.5071, 0.4867, 0.4408), (0.2675, 0.2565, 0.2761))\n",
    "])\n",
    "\n",
    "# Load the CIFAR-100 test dataset\n",
    "test_dataset = torchvision.datasets.CIFAR100(root='./data', train=False, download=True, transform=transform)\n",
    "test_loader = torch.utils.data.DataLoader(test_dataset, batch_size=100, shuffle=False, num_workers=2)"
   ]
  },
  {
   "cell_type": "markdown",
   "id": "be409b9e-a3f1-470d-be7d-d9dd9d33cb80",
   "metadata": {},
   "source": [
    "# Evaluation Function"
   ]
  },
  {
   "cell_type": "code",
   "execution_count": 4,
   "id": "b5049b5e-948b-4fff-874b-c2b215c4ce01",
   "metadata": {
    "execution": {
     "iopub.execute_input": "2025-05-22T08:21:47.222387Z",
     "iopub.status.busy": "2025-05-22T08:21:47.222123Z",
     "iopub.status.idle": "2025-05-22T08:21:47.229715Z",
     "shell.execute_reply": "2025-05-22T08:21:47.228524Z",
     "shell.execute_reply.started": "2025-05-22T08:21:47.222364Z"
    }
   },
   "outputs": [],
   "source": [
    "def evaluate(model, dataloader, device):\n",
    "    model.eval()\n",
    "    correct = 0\n",
    "    total = 0\n",
    "    with torch.no_grad():\n",
    "        for images, labels in dataloader:\n",
    "            images, labels = images.to(device), labels.to(device)\n",
    "            outputs = model(images)\n",
    "            _, predicted = torch.max(outputs.data, 1)\n",
    "            total += labels.size(0)\n",
    "            correct += (predicted == labels).sum().item()\n",
    "    accuracy = 100 * correct / total\n",
    "    return accuracy"
   ]
  },
  {
   "cell_type": "markdown",
   "id": "febcc5fc-daf3-4a42-9625-9a7dd0e0c178",
   "metadata": {},
   "source": [
    "# Evaluate the Model"
   ]
  },
  {
   "cell_type": "code",
   "execution_count": 5,
   "id": "f0da21bd-3079-46fb-ad8d-d7e32840c2e2",
   "metadata": {
    "execution": {
     "iopub.execute_input": "2025-05-22T08:21:47.234375Z",
     "iopub.status.busy": "2025-05-22T08:21:47.234144Z",
     "iopub.status.idle": "2025-05-22T08:21:53.796320Z",
     "shell.execute_reply": "2025-05-22T08:21:53.794955Z",
     "shell.execute_reply.started": "2025-05-22T08:21:47.234352Z"
    }
   },
   "outputs": [
    {
     "name": "stdout",
     "output_type": "stream",
     "text": [
      "Accuracy of the pretrained ResNet-20 on CIFAR-100 test images: 68.83%\n"
     ]
    }
   ],
   "source": [
    "# Set the device to GPU if available\n",
    "device = torch.device('cuda' if torch.cuda.is_available() else 'cpu')\n",
    "model.to(device)\n",
    "\n",
    "# Evaluate the model\n",
    "accuracy = evaluate(model, test_loader, device)\n",
    "print(f'Accuracy of the pretrained ResNet-20 on CIFAR-100 test images: {accuracy:.2f}%')"
   ]
  },
  {
   "cell_type": "markdown",
   "id": "fc8c6f3c-7517-4bd1-ae4a-8fb67b3f898f",
   "metadata": {},
   "source": [
    "# Conclusion\n",
    "- It appears that ResNet20 is not so good for CIFAR100"
   ]
  }
 ],
 "metadata": {
  "kernelspec": {
   "display_name": "Python 3 (ipykernel)",
   "language": "python",
   "name": "python3"
  },
  "language_info": {
   "codemirror_mode": {
    "name": "ipython",
    "version": 3
   },
   "file_extension": ".py",
   "mimetype": "text/x-python",
   "name": "python",
   "nbconvert_exporter": "python",
   "pygments_lexer": "ipython3",
   "version": "3.9.21"
  }
 },
 "nbformat": 4,
 "nbformat_minor": 5
}

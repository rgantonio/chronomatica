{
 "cells": [
  {
   "cell_type": "markdown",
   "id": "5b6461a1-207c-4b56-8b69-27c95dbed0c4",
   "metadata": {},
   "source": [
    "# ResNet20 Study\n",
    "- This notebook simply downloads and breaks down a ResNet20 model\n",
    "- The purpose of this study is just to see how it can be used\n",
    "- The model can be best seen in this link: https://github.com/akamaster/pytorch_resnet_cifar10/blob/master/resnet.py"
   ]
  },
  {
   "cell_type": "markdown",
   "id": "767d7116-c5fd-4e25-980c-9930382dd5c8",
   "metadata": {},
   "source": [
    "## Load Packages"
   ]
  },
  {
   "cell_type": "code",
   "execution_count": 1,
   "id": "5c6bb42c-1e2d-49aa-94b0-8edb5abdceab",
   "metadata": {
    "execution": {
     "iopub.execute_input": "2025-05-22T06:11:44.430485Z",
     "iopub.status.busy": "2025-05-22T06:11:44.428863Z",
     "iopub.status.idle": "2025-05-22T06:11:51.190548Z",
     "shell.execute_reply": "2025-05-22T06:11:51.189534Z",
     "shell.execute_reply.started": "2025-05-22T06:11:44.430407Z"
    }
   },
   "outputs": [],
   "source": [
    "import torch\n",
    "import torchvision\n",
    "import torchvision.transforms as transforms\n",
    "import matplotlib.pyplot as plt"
   ]
  },
  {
   "cell_type": "markdown",
   "id": "b6d947ec-267e-4ee1-b36a-2bdf731e4191",
   "metadata": {},
   "source": [
    "## Downloading the model\n",
    "- The override command is because github limits the download rate. This overrides it."
   ]
  },
  {
   "cell_type": "code",
   "execution_count": 2,
   "id": "42ffe5c4-d3c9-41cd-abbb-41c6d7f300da",
   "metadata": {
    "execution": {
     "iopub.execute_input": "2025-05-22T06:11:51.192006Z",
     "iopub.status.busy": "2025-05-22T06:11:51.191705Z",
     "iopub.status.idle": "2025-05-22T06:11:51.531787Z",
     "shell.execute_reply": "2025-05-22T06:11:51.530828Z",
     "shell.execute_reply.started": "2025-05-22T06:11:51.191983Z"
    }
   },
   "outputs": [
    {
     "name": "stderr",
     "output_type": "stream",
     "text": [
      "Using cache found in /users/micas/rantonio/.cache/torch/hub/chenyaofo_pytorch-cifar-models_master\n"
     ]
    }
   ],
   "source": [
    "# Override the validation function to bypass the rate limit error\n",
    "torch.hub._validate_not_a_forked_repo = lambda a, b, c: True\n",
    "\n",
    "# Load the pretrained ResNet-20 model for CIFAR-10\n",
    "model = torch.hub.load('chenyaofo/pytorch-cifar-models', 'cifar10_resnet20', pretrained=True)"
   ]
  },
  {
   "cell_type": "markdown",
   "id": "3ed2c629-2f53-415c-90d2-b3d4dadb9df3",
   "metadata": {},
   "source": [
    "## Normalization of Input Data\n",
    "- Note, that these normalize values come from the training set of CIFAR10\n",
    "- This normalization is a necessity since the CIFAR10 was trained with the normalization in place\n",
    "- The first set of 3 tuples is for the mean, while the 2nd is for the std. dev."
   ]
  },
  {
   "cell_type": "code",
   "execution_count": 3,
   "id": "972ed95e-a087-4202-a696-6b80e9e3e971",
   "metadata": {
    "execution": {
     "iopub.execute_input": "2025-05-22T06:11:51.708671Z",
     "iopub.status.busy": "2025-05-22T06:11:51.707942Z",
     "iopub.status.idle": "2025-05-22T06:11:51.716678Z",
     "shell.execute_reply": "2025-05-22T06:11:51.715683Z",
     "shell.execute_reply.started": "2025-05-22T06:11:51.708607Z"
    }
   },
   "outputs": [],
   "source": [
    "# Define the transformation\n",
    "transform = transforms.Compose([\n",
    "    transforms.ToTensor(),\n",
    "    transforms.Normalize((0.4914, 0.4822, 0.4465), \n",
    "                         (0.2023, 0.1994, 0.2010))\n",
    "])"
   ]
  },
  {
   "cell_type": "markdown",
   "id": "4089941e-cdc8-4a41-9d18-6602eb969c0b",
   "metadata": {},
   "source": [
    "## Downloading CIFAR-10 dataset"
   ]
  },
  {
   "cell_type": "code",
   "execution_count": 4,
   "id": "e7a8be2b-d441-49cb-9d9f-31be3f61bcda",
   "metadata": {
    "execution": {
     "iopub.execute_input": "2025-05-22T06:11:57.333977Z",
     "iopub.status.busy": "2025-05-22T06:11:57.333425Z",
     "iopub.status.idle": "2025-05-22T06:11:58.073642Z",
     "shell.execute_reply": "2025-05-22T06:11:58.072233Z",
     "shell.execute_reply.started": "2025-05-22T06:11:57.333928Z"
    },
    "scrolled": true
   },
   "outputs": [],
   "source": [
    "# Load the CIFAR-10 test dataset\n",
    "test_dataset = torchvision.datasets.CIFAR10(root='./data', train=False, download=True, transform=transform)\n",
    "test_loader = torch.utils.data.DataLoader(test_dataset, batch_size=128, shuffle=False)"
   ]
  },
  {
   "cell_type": "markdown",
   "id": "0b56602f-e2f8-483b-8ca2-e3734a5e688d",
   "metadata": {},
   "source": [
    "## Set Model for Evaluation\n",
    "- You can also see here the details of the model"
   ]
  },
  {
   "cell_type": "code",
   "execution_count": 5,
   "id": "5c10a0cd-1c99-49bd-b729-f269744f3bea",
   "metadata": {
    "execution": {
     "iopub.execute_input": "2025-05-22T06:12:05.768420Z",
     "iopub.status.busy": "2025-05-22T06:12:05.766372Z",
     "iopub.status.idle": "2025-05-22T06:12:05.783367Z",
     "shell.execute_reply": "2025-05-22T06:12:05.782096Z",
     "shell.execute_reply.started": "2025-05-22T06:12:05.768348Z"
    },
    "scrolled": true
   },
   "outputs": [
    {
     "data": {
      "text/plain": [
       "CifarResNet(\n",
       "  (conv1): Conv2d(3, 16, kernel_size=(3, 3), stride=(1, 1), padding=(1, 1), bias=False)\n",
       "  (bn1): BatchNorm2d(16, eps=1e-05, momentum=0.1, affine=True, track_running_stats=True)\n",
       "  (relu): ReLU(inplace=True)\n",
       "  (layer1): Sequential(\n",
       "    (0): BasicBlock(\n",
       "      (conv1): Conv2d(16, 16, kernel_size=(3, 3), stride=(1, 1), padding=(1, 1), bias=False)\n",
       "      (bn1): BatchNorm2d(16, eps=1e-05, momentum=0.1, affine=True, track_running_stats=True)\n",
       "      (relu): ReLU(inplace=True)\n",
       "      (conv2): Conv2d(16, 16, kernel_size=(3, 3), stride=(1, 1), padding=(1, 1), bias=False)\n",
       "      (bn2): BatchNorm2d(16, eps=1e-05, momentum=0.1, affine=True, track_running_stats=True)\n",
       "    )\n",
       "    (1): BasicBlock(\n",
       "      (conv1): Conv2d(16, 16, kernel_size=(3, 3), stride=(1, 1), padding=(1, 1), bias=False)\n",
       "      (bn1): BatchNorm2d(16, eps=1e-05, momentum=0.1, affine=True, track_running_stats=True)\n",
       "      (relu): ReLU(inplace=True)\n",
       "      (conv2): Conv2d(16, 16, kernel_size=(3, 3), stride=(1, 1), padding=(1, 1), bias=False)\n",
       "      (bn2): BatchNorm2d(16, eps=1e-05, momentum=0.1, affine=True, track_running_stats=True)\n",
       "    )\n",
       "    (2): BasicBlock(\n",
       "      (conv1): Conv2d(16, 16, kernel_size=(3, 3), stride=(1, 1), padding=(1, 1), bias=False)\n",
       "      (bn1): BatchNorm2d(16, eps=1e-05, momentum=0.1, affine=True, track_running_stats=True)\n",
       "      (relu): ReLU(inplace=True)\n",
       "      (conv2): Conv2d(16, 16, kernel_size=(3, 3), stride=(1, 1), padding=(1, 1), bias=False)\n",
       "      (bn2): BatchNorm2d(16, eps=1e-05, momentum=0.1, affine=True, track_running_stats=True)\n",
       "    )\n",
       "  )\n",
       "  (layer2): Sequential(\n",
       "    (0): BasicBlock(\n",
       "      (conv1): Conv2d(16, 32, kernel_size=(3, 3), stride=(2, 2), padding=(1, 1), bias=False)\n",
       "      (bn1): BatchNorm2d(32, eps=1e-05, momentum=0.1, affine=True, track_running_stats=True)\n",
       "      (relu): ReLU(inplace=True)\n",
       "      (conv2): Conv2d(32, 32, kernel_size=(3, 3), stride=(1, 1), padding=(1, 1), bias=False)\n",
       "      (bn2): BatchNorm2d(32, eps=1e-05, momentum=0.1, affine=True, track_running_stats=True)\n",
       "      (downsample): Sequential(\n",
       "        (0): Conv2d(16, 32, kernel_size=(1, 1), stride=(2, 2), bias=False)\n",
       "        (1): BatchNorm2d(32, eps=1e-05, momentum=0.1, affine=True, track_running_stats=True)\n",
       "      )\n",
       "    )\n",
       "    (1): BasicBlock(\n",
       "      (conv1): Conv2d(32, 32, kernel_size=(3, 3), stride=(1, 1), padding=(1, 1), bias=False)\n",
       "      (bn1): BatchNorm2d(32, eps=1e-05, momentum=0.1, affine=True, track_running_stats=True)\n",
       "      (relu): ReLU(inplace=True)\n",
       "      (conv2): Conv2d(32, 32, kernel_size=(3, 3), stride=(1, 1), padding=(1, 1), bias=False)\n",
       "      (bn2): BatchNorm2d(32, eps=1e-05, momentum=0.1, affine=True, track_running_stats=True)\n",
       "    )\n",
       "    (2): BasicBlock(\n",
       "      (conv1): Conv2d(32, 32, kernel_size=(3, 3), stride=(1, 1), padding=(1, 1), bias=False)\n",
       "      (bn1): BatchNorm2d(32, eps=1e-05, momentum=0.1, affine=True, track_running_stats=True)\n",
       "      (relu): ReLU(inplace=True)\n",
       "      (conv2): Conv2d(32, 32, kernel_size=(3, 3), stride=(1, 1), padding=(1, 1), bias=False)\n",
       "      (bn2): BatchNorm2d(32, eps=1e-05, momentum=0.1, affine=True, track_running_stats=True)\n",
       "    )\n",
       "  )\n",
       "  (layer3): Sequential(\n",
       "    (0): BasicBlock(\n",
       "      (conv1): Conv2d(32, 64, kernel_size=(3, 3), stride=(2, 2), padding=(1, 1), bias=False)\n",
       "      (bn1): BatchNorm2d(64, eps=1e-05, momentum=0.1, affine=True, track_running_stats=True)\n",
       "      (relu): ReLU(inplace=True)\n",
       "      (conv2): Conv2d(64, 64, kernel_size=(3, 3), stride=(1, 1), padding=(1, 1), bias=False)\n",
       "      (bn2): BatchNorm2d(64, eps=1e-05, momentum=0.1, affine=True, track_running_stats=True)\n",
       "      (downsample): Sequential(\n",
       "        (0): Conv2d(32, 64, kernel_size=(1, 1), stride=(2, 2), bias=False)\n",
       "        (1): BatchNorm2d(64, eps=1e-05, momentum=0.1, affine=True, track_running_stats=True)\n",
       "      )\n",
       "    )\n",
       "    (1): BasicBlock(\n",
       "      (conv1): Conv2d(64, 64, kernel_size=(3, 3), stride=(1, 1), padding=(1, 1), bias=False)\n",
       "      (bn1): BatchNorm2d(64, eps=1e-05, momentum=0.1, affine=True, track_running_stats=True)\n",
       "      (relu): ReLU(inplace=True)\n",
       "      (conv2): Conv2d(64, 64, kernel_size=(3, 3), stride=(1, 1), padding=(1, 1), bias=False)\n",
       "      (bn2): BatchNorm2d(64, eps=1e-05, momentum=0.1, affine=True, track_running_stats=True)\n",
       "    )\n",
       "    (2): BasicBlock(\n",
       "      (conv1): Conv2d(64, 64, kernel_size=(3, 3), stride=(1, 1), padding=(1, 1), bias=False)\n",
       "      (bn1): BatchNorm2d(64, eps=1e-05, momentum=0.1, affine=True, track_running_stats=True)\n",
       "      (relu): ReLU(inplace=True)\n",
       "      (conv2): Conv2d(64, 64, kernel_size=(3, 3), stride=(1, 1), padding=(1, 1), bias=False)\n",
       "      (bn2): BatchNorm2d(64, eps=1e-05, momentum=0.1, affine=True, track_running_stats=True)\n",
       "    )\n",
       "  )\n",
       "  (avgpool): AdaptiveAvgPool2d(output_size=(1, 1))\n",
       "  (fc): Linear(in_features=64, out_features=10, bias=True)\n",
       ")"
      ]
     },
     "execution_count": 5,
     "metadata": {},
     "output_type": "execute_result"
    }
   ],
   "source": [
    "# Set the model to evaluation mode\n",
    "model.eval()"
   ]
  },
  {
   "cell_type": "markdown",
   "id": "4e33e8f4-4d2f-410c-a75c-edcfef4169af",
   "metadata": {},
   "source": [
    "- The code below shows the model better "
   ]
  },
  {
   "cell_type": "code",
   "execution_count": 22,
   "id": "4aa3cbb7-430a-4fe5-9ef0-ae55592c55e8",
   "metadata": {
    "execution": {
     "iopub.execute_input": "2025-05-22T06:31:31.842796Z",
     "iopub.status.busy": "2025-05-22T06:31:31.841753Z",
     "iopub.status.idle": "2025-05-22T06:31:31.853730Z",
     "shell.execute_reply": "2025-05-22T06:31:31.851958Z",
     "shell.execute_reply.started": "2025-05-22T06:31:31.842710Z"
    },
    "scrolled": true
   },
   "outputs": [
    {
     "name": "stdout",
     "output_type": "stream",
     "text": [
      "\n",
      "conv1\n",
      "bn1\n",
      "relu\n",
      "layer1\n",
      "layer1.0\n",
      "layer1.0.conv1\n",
      "layer1.0.bn1\n",
      "layer1.0.relu\n",
      "layer1.0.conv2\n",
      "layer1.0.bn2\n",
      "layer1.1\n",
      "layer1.1.conv1\n",
      "layer1.1.bn1\n",
      "layer1.1.relu\n",
      "layer1.1.conv2\n",
      "layer1.1.bn2\n",
      "layer1.2\n",
      "layer1.2.conv1\n",
      "layer1.2.bn1\n",
      "layer1.2.relu\n",
      "layer1.2.conv2\n",
      "layer1.2.bn2\n",
      "layer2\n",
      "layer2.0\n",
      "layer2.0.conv1\n",
      "layer2.0.bn1\n",
      "layer2.0.relu\n",
      "layer2.0.conv2\n",
      "layer2.0.bn2\n",
      "layer2.0.downsample\n",
      "layer2.0.downsample.0\n",
      "layer2.0.downsample.1\n",
      "layer2.1\n",
      "layer2.1.conv1\n",
      "layer2.1.bn1\n",
      "layer2.1.relu\n",
      "layer2.1.conv2\n",
      "layer2.1.bn2\n",
      "layer2.2\n",
      "layer2.2.conv1\n",
      "layer2.2.bn1\n",
      "layer2.2.relu\n",
      "layer2.2.conv2\n",
      "layer2.2.bn2\n",
      "layer3\n",
      "layer3.0\n",
      "layer3.0.conv1\n",
      "layer3.0.bn1\n",
      "layer3.0.relu\n",
      "layer3.0.conv2\n",
      "layer3.0.bn2\n",
      "layer3.0.downsample\n",
      "layer3.0.downsample.0\n",
      "layer3.0.downsample.1\n",
      "layer3.1\n",
      "layer3.1.conv1\n",
      "layer3.1.bn1\n",
      "layer3.1.relu\n",
      "layer3.1.conv2\n",
      "layer3.1.bn2\n",
      "layer3.2\n",
      "layer3.2.conv1\n",
      "layer3.2.bn1\n",
      "layer3.2.relu\n",
      "layer3.2.conv2\n",
      "layer3.2.bn2\n",
      "avgpool\n",
      "fc\n"
     ]
    }
   ],
   "source": [
    "for name, module in model.named_modules():\n",
    "   print(name)"
   ]
  },
  {
   "cell_type": "markdown",
   "id": "c21c40f2-51cf-4fbb-94eb-d1fc8337c7e9",
   "metadata": {},
   "source": [
    "## Running the model to check for accuracy!"
   ]
  },
  {
   "cell_type": "code",
   "execution_count": 6,
   "id": "82369c6e-ad94-461d-a102-a0b7d4ba2389",
   "metadata": {
    "execution": {
     "iopub.execute_input": "2025-05-22T06:12:10.230125Z",
     "iopub.status.busy": "2025-05-22T06:12:10.228659Z",
     "iopub.status.idle": "2025-05-22T06:12:14.970640Z",
     "shell.execute_reply": "2025-05-22T06:12:14.969907Z",
     "shell.execute_reply.started": "2025-05-22T06:12:10.230057Z"
    }
   },
   "outputs": [
    {
     "name": "stdout",
     "output_type": "stream",
     "text": [
      "Test Accuracy: 92.60%\n"
     ]
    }
   ],
   "source": [
    "correct = 0\n",
    "total = 0\n",
    "with torch.no_grad():\n",
    "    for images, labels in test_loader:\n",
    "        outputs = model(images)\n",
    "        _, predicted = outputs.max(1)\n",
    "        total += labels.size(0)\n",
    "        correct += predicted.eq(labels).sum().item()\n",
    "\n",
    "print(f'Test Accuracy: {100 * correct / total:.2f}%')"
   ]
  },
  {
   "cell_type": "markdown",
   "id": "9b7a9f18-4816-4b50-9ca5-fb97fbe05363",
   "metadata": {},
   "source": [
    "# Model Details\n",
    "\n",
    "The general structure of the ResNet20 is as follows:\n",
    "\n",
    "1. **Initial Convolution**:\n",
    "\n",
    "- Conv2D: 16 filters, 3×3 kernel, stride 1, padding 1\n",
    "\n",
    "2. **Residual Blocks**:\n",
    "\n",
    "- ResNet-20 is structured with 3 stages, each containing 3 residual blocks (totaling 9 blocks). Each block consists of two 3×3 convolutional layers.\n",
    "\n",
    "- **Stage 1**:\n",
    "  - 3 Residual Blocks, each with:\n",
    "    - Conv2D: 16 filters, 3×3 kernel, stride 1, padding 1\n",
    "    - BatchNorm + ReLU\n",
    "    - Conv2D: 16 filters, 3×3 kernel, stride 1, padding 1\n",
    "    - BatchNorm\n",
    "    - Skip connection (identity)\n",
    "    - ReLU\n",
    "\n",
    "- **Stage 2**:\n",
    "  - 3 Residual Blocks, each with:\n",
    "    - Conv2D: 32 filters, 3×3 kernel, stride 2 (first block), stride 1 (others), padding 1\n",
    "    - BatchNorm + ReLU\n",
    "    - Conv2D: 32 filters, 3×3 kernel, stride 1, padding 1\n",
    "    - BatchNorm\n",
    "    - Skip connection (with 1×1 convolution for dimension matching in first block)\n",
    "    - ReLU\n",
    "\n",
    "- **Stage 3**:\n",
    "  - 3 Residual Blocks, each with:\n",
    "    - Conv2D: 64 filters, 3×3 kernel, stride 2 (first block), stride 1 (others), padding 1\n",
    "    - BatchNorm + ReLU\n",
    "    - Conv2D: 64 filters, 3×3 kernel, stride 1, padding 1\n",
    "    - BatchNorm\n",
    "    - Skip connection (with 1×1 convolution for dimension matching in first block)\n",
    "    - ReLU\n",
    "\n",
    "3. **Final Layers**:\n",
    "  - Global Average Pooling: Reduces each feature map to a single value (1×1×64)\n",
    "  - Fully Connected Layer: 10 outputs (for CIFAR-10 classes)\n",
    "  - Softmax Activation"
   ]
  },
  {
   "cell_type": "markdown",
   "id": "bd965622-d3cc-4b74-adf9-90b335f00aa6",
   "metadata": {},
   "source": [
    "## Input Size\n",
    "- The model description can be seen from the `model.eval()`\n",
    "- Note that the input is of size `[3,32,32]` $\\rightarrow$ `channels, height, width`"
   ]
  },
  {
   "cell_type": "code",
   "execution_count": 7,
   "id": "468b93e1-6a87-41df-a6cc-2c65286701b7",
   "metadata": {
    "execution": {
     "iopub.execute_input": "2025-05-22T06:12:15.661982Z",
     "iopub.status.busy": "2025-05-22T06:12:15.661219Z",
     "iopub.status.idle": "2025-05-22T06:12:15.672799Z",
     "shell.execute_reply": "2025-05-22T06:12:15.670965Z",
     "shell.execute_reply.started": "2025-05-22T06:12:15.661918Z"
    }
   },
   "outputs": [
    {
     "name": "stdout",
     "output_type": "stream",
     "text": [
      "torch.Size([3, 32, 32])\n"
     ]
    }
   ],
   "source": [
    "img, label = test_dataset[214]\n",
    "print(img.shape)"
   ]
  },
  {
   "cell_type": "markdown",
   "id": "1b3d557e-b4e2-45b0-86e2-ac38dd0fbe3a",
   "metadata": {},
   "source": [
    "- We can display the image but we first we convert the shape to (H,W,C)"
   ]
  },
  {
   "cell_type": "code",
   "execution_count": 8,
   "id": "8e8bbcfe-3a13-43a9-92b2-9cd0f5e783fc",
   "metadata": {
    "execution": {
     "iopub.execute_input": "2025-05-22T06:12:20.883193Z",
     "iopub.status.busy": "2025-05-22T06:12:20.882443Z",
     "iopub.status.idle": "2025-05-22T06:12:20.891812Z",
     "shell.execute_reply": "2025-05-22T06:12:20.889928Z",
     "shell.execute_reply.started": "2025-05-22T06:12:20.883130Z"
    }
   },
   "outputs": [],
   "source": [
    "# Convert tensor to NumPy and permute dimensions from (C, H, W) to (H, W, C)\n",
    "img = img.permute(1, 2, 0).numpy()"
   ]
  },
  {
   "cell_type": "code",
   "execution_count": 9,
   "id": "ccc016a7-a9b3-4213-8d22-6e46cec6752f",
   "metadata": {
    "execution": {
     "iopub.execute_input": "2025-05-22T06:12:21.231975Z",
     "iopub.status.busy": "2025-05-22T06:12:21.230425Z",
     "iopub.status.idle": "2025-05-22T06:12:21.354290Z",
     "shell.execute_reply": "2025-05-22T06:12:21.353213Z",
     "shell.execute_reply.started": "2025-05-22T06:12:21.231905Z"
    },
    "scrolled": true
   },
   "outputs": [
    {
     "name": "stderr",
     "output_type": "stream",
     "text": [
      "Clipping input data to the valid range for imshow with RGB data ([0..1] for floats or [0..255] for integers). Got range [-2.3002539..2.4415667].\n"
     ]
    },
    {
     "data": {
      "image/png": "[encoded data removed]",
      "text/plain": [
       "<Figure size 640x480 with 1 Axes>"
      ]
     },
     "metadata": {},
     "output_type": "display_data"
    }
   ],
   "source": [
    "# Display the image\n",
    "plt.imshow(img)\n",
    "plt.title(f\"Label: {label}\")\n",
    "plt.axis('off')\n",
    "plt.show()"
   ]
  },
  {
   "cell_type": "markdown",
   "id": "40361b45-9894-4be6-b1e1-f8eeb2b0c7c8",
   "metadata": {},
   "source": [
    "## Details of Convolution Layers\n",
    "- We can dump the weights and the shape of all the convolution layers\n",
    "- You can also see the weight shapes of all convolution layers\n",
    "- The output shapes are of `[out_ch, in_ch, kernel_h, kernel_w]`"
   ]
  },
  {
   "cell_type": "code",
   "execution_count": 10,
   "id": "88c03035-11ce-4aea-8a2b-41c7342b3002",
   "metadata": {
    "execution": {
     "iopub.execute_input": "2025-05-22T06:13:23.524961Z",
     "iopub.status.busy": "2025-05-22T06:13:23.524129Z",
     "iopub.status.idle": "2025-05-22T06:13:23.536411Z",
     "shell.execute_reply": "2025-05-22T06:13:23.534436Z",
     "shell.execute_reply.started": "2025-05-22T06:13:23.524898Z"
    },
    "scrolled": true
   },
   "outputs": [
    {
     "name": "stdout",
     "output_type": "stream",
     "text": [
      "conv1: torch.Size([16, 3, 3, 3])\n",
      "layer1.0.conv1: torch.Size([16, 16, 3, 3])\n",
      "layer1.0.conv2: torch.Size([16, 16, 3, 3])\n",
      "layer1.1.conv1: torch.Size([16, 16, 3, 3])\n",
      "layer1.1.conv2: torch.Size([16, 16, 3, 3])\n",
      "layer1.2.conv1: torch.Size([16, 16, 3, 3])\n",
      "layer1.2.conv2: torch.Size([16, 16, 3, 3])\n",
      "layer2.0.conv1: torch.Size([32, 16, 3, 3])\n",
      "layer2.0.conv2: torch.Size([32, 32, 3, 3])\n",
      "layer2.0.downsample.0: torch.Size([32, 16, 1, 1])\n",
      "layer2.1.conv1: torch.Size([32, 32, 3, 3])\n",
      "layer2.1.conv2: torch.Size([32, 32, 3, 3])\n",
      "layer2.2.conv1: torch.Size([32, 32, 3, 3])\n",
      "layer2.2.conv2: torch.Size([32, 32, 3, 3])\n",
      "layer3.0.conv1: torch.Size([64, 32, 3, 3])\n",
      "layer3.0.conv2: torch.Size([64, 64, 3, 3])\n",
      "layer3.0.downsample.0: torch.Size([64, 32, 1, 1])\n",
      "layer3.1.conv1: torch.Size([64, 64, 3, 3])\n",
      "layer3.1.conv2: torch.Size([64, 64, 3, 3])\n",
      "layer3.2.conv1: torch.Size([64, 64, 3, 3])\n",
      "layer3.2.conv2: torch.Size([64, 64, 3, 3])\n"
     ]
    }
   ],
   "source": [
    "for name, module in model.named_modules():\n",
    "    if isinstance(module, torch.nn.Conv2d):\n",
    "        print(f\"{name}: {module.weight.shape}\")"
   ]
  },
  {
   "cell_type": "markdown",
   "id": "769a3941-2e23-4359-9a83-e6793bd12076",
   "metadata": {},
   "source": [
    "- The code below is to extract the output sizes\n",
    "- The important part is to see how the output sizes change as we go deeper into the layers\n",
    "  - That is the H,W get smaller but the C gets larger"
   ]
  },
  {
   "cell_type": "code",
   "execution_count": 11,
   "id": "0de4c99e-0ff4-46bb-805f-5ed50f9ff436",
   "metadata": {
    "execution": {
     "iopub.execute_input": "2025-05-22T06:14:17.348694Z",
     "iopub.status.busy": "2025-05-22T06:14:17.347916Z",
     "iopub.status.idle": "2025-05-22T06:14:17.485406Z",
     "shell.execute_reply": "2025-05-22T06:14:17.484532Z",
     "shell.execute_reply.started": "2025-05-22T06:14:17.348631Z"
    },
    "scrolled": true
   },
   "outputs": [
    {
     "name": "stdout",
     "output_type": "stream",
     "text": [
      "conv1: output shape torch.Size([1, 16, 32, 32])\n",
      "bn1: output shape torch.Size([1, 16, 32, 32])\n",
      "layer1.0.conv1: output shape torch.Size([1, 16, 32, 32])\n",
      "layer1.0.bn1: output shape torch.Size([1, 16, 32, 32])\n",
      "layer1.0.conv2: output shape torch.Size([1, 16, 32, 32])\n",
      "layer1.0.bn2: output shape torch.Size([1, 16, 32, 32])\n",
      "layer1.1.conv1: output shape torch.Size([1, 16, 32, 32])\n",
      "layer1.1.bn1: output shape torch.Size([1, 16, 32, 32])\n",
      "layer1.1.conv2: output shape torch.Size([1, 16, 32, 32])\n",
      "layer1.1.bn2: output shape torch.Size([1, 16, 32, 32])\n",
      "layer1.2.conv1: output shape torch.Size([1, 16, 32, 32])\n",
      "layer1.2.bn1: output shape torch.Size([1, 16, 32, 32])\n",
      "layer1.2.conv2: output shape torch.Size([1, 16, 32, 32])\n",
      "layer1.2.bn2: output shape torch.Size([1, 16, 32, 32])\n",
      "layer2.0.conv1: output shape torch.Size([1, 32, 16, 16])\n",
      "layer2.0.bn1: output shape torch.Size([1, 32, 16, 16])\n",
      "layer2.0.conv2: output shape torch.Size([1, 32, 16, 16])\n",
      "layer2.0.bn2: output shape torch.Size([1, 32, 16, 16])\n",
      "layer2.0.downsample.0: output shape torch.Size([1, 32, 16, 16])\n",
      "layer2.0.downsample.1: output shape torch.Size([1, 32, 16, 16])\n",
      "layer2.1.conv1: output shape torch.Size([1, 32, 16, 16])\n",
      "layer2.1.bn1: output shape torch.Size([1, 32, 16, 16])\n",
      "layer2.1.conv2: output shape torch.Size([1, 32, 16, 16])\n",
      "layer2.1.bn2: output shape torch.Size([1, 32, 16, 16])\n",
      "layer2.2.conv1: output shape torch.Size([1, 32, 16, 16])\n",
      "layer2.2.bn1: output shape torch.Size([1, 32, 16, 16])\n",
      "layer2.2.conv2: output shape torch.Size([1, 32, 16, 16])\n",
      "layer2.2.bn2: output shape torch.Size([1, 32, 16, 16])\n",
      "layer3.0.conv1: output shape torch.Size([1, 64, 8, 8])\n",
      "layer3.0.bn1: output shape torch.Size([1, 64, 8, 8])\n",
      "layer3.0.conv2: output shape torch.Size([1, 64, 8, 8])\n",
      "layer3.0.bn2: output shape torch.Size([1, 64, 8, 8])\n",
      "layer3.0.downsample.0: output shape torch.Size([1, 64, 8, 8])\n",
      "layer3.0.downsample.1: output shape torch.Size([1, 64, 8, 8])\n",
      "layer3.1.conv1: output shape torch.Size([1, 64, 8, 8])\n",
      "layer3.1.bn1: output shape torch.Size([1, 64, 8, 8])\n",
      "layer3.1.conv2: output shape torch.Size([1, 64, 8, 8])\n",
      "layer3.1.bn2: output shape torch.Size([1, 64, 8, 8])\n",
      "layer3.2.conv1: output shape torch.Size([1, 64, 8, 8])\n",
      "layer3.2.bn1: output shape torch.Size([1, 64, 8, 8])\n",
      "layer3.2.conv2: output shape torch.Size([1, 64, 8, 8])\n",
      "layer3.2.bn2: output shape torch.Size([1, 64, 8, 8])\n"
     ]
    }
   ],
   "source": [
    "def hook_fn(module, input, output):\n",
    "    # The module object doesn't have the name directly here,\n",
    "    # so we capture name via a closure below\n",
    "    print(f\"{module_name}: output shape {output.shape}\")\n",
    "\n",
    "# To pass names, register hooks with closures:\n",
    "hooks = []\n",
    "for name, layer in model.named_modules():\n",
    "    if isinstance(layer, (torch.nn.Conv2d, torch.nn.BatchNorm2d)):\n",
    "        module_name = name  # Capture name in closure\n",
    "\n",
    "        # Use a lambda to keep the name bound correctly:\n",
    "        hooks.append(layer.register_forward_hook(\n",
    "            lambda module, input, output, module_name=module_name: \n",
    "                print(f\"{module_name}: output shape {output.shape}\")\n",
    "        ))\n",
    "\n",
    "# Dummy input for forward pass\n",
    "dummy_input = torch.randn(1, 3, 32, 32)\n",
    "with torch.no_grad():\n",
    "    model(dummy_input)\n",
    "\n",
    "# Remove hooks after use (good practice)\n",
    "for h in hooks:\n",
    "    h.remove()"
   ]
  },
  {
   "cell_type": "markdown",
   "id": "b15674ec-546d-4946-89e2-3a8d85788f23",
   "metadata": {},
   "source": [
    "## Details of BatchNorm Layers\n",
    "- This is to get the batchnorm's tuning parameters as well.\n",
    "- Take note that the batchnorm is applied channel-wise that's why you see 16, 32, and 64 elements for gamma and beta and the mean and variance normalization\n",
    "- Equation wise we have:\n",
    "$$ \\hat{x}_c = \\frac{x_c - \\mu_c}{\\sqrt{\\sigma^2_c + \\epsilon}}$$\n",
    "\n",
    "$$ y_c = \\gamma_c \\cdot \\hat{x}_c + \\beta_c $$\n",
    "- Note that after batchnorm the output shapes don't change"
   ]
  },
  {
   "cell_type": "code",
   "execution_count": 12,
   "id": "9e36d1b1-ade4-408d-bc91-97c1a76d7359",
   "metadata": {
    "execution": {
     "iopub.execute_input": "2025-05-22T06:14:22.831377Z",
     "iopub.status.busy": "2025-05-22T06:14:22.829861Z",
     "iopub.status.idle": "2025-05-22T06:14:22.841606Z",
     "shell.execute_reply": "2025-05-22T06:14:22.839737Z",
     "shell.execute_reply.started": "2025-05-22T06:14:22.831300Z"
    }
   },
   "outputs": [
    {
     "name": "stdout",
     "output_type": "stream",
     "text": [
      "bn1: gamma=torch.Size([16]), beta=torch.Size([16])\n",
      "layer1.0.bn1: gamma=torch.Size([16]), beta=torch.Size([16])\n",
      "layer1.0.bn2: gamma=torch.Size([16]), beta=torch.Size([16])\n",
      "layer1.1.bn1: gamma=torch.Size([16]), beta=torch.Size([16])\n",
      "layer1.1.bn2: gamma=torch.Size([16]), beta=torch.Size([16])\n",
      "layer1.2.bn1: gamma=torch.Size([16]), beta=torch.Size([16])\n",
      "layer1.2.bn2: gamma=torch.Size([16]), beta=torch.Size([16])\n",
      "layer2.0.bn1: gamma=torch.Size([32]), beta=torch.Size([32])\n",
      "layer2.0.bn2: gamma=torch.Size([32]), beta=torch.Size([32])\n",
      "layer2.0.downsample.1: gamma=torch.Size([32]), beta=torch.Size([32])\n",
      "layer2.1.bn1: gamma=torch.Size([32]), beta=torch.Size([32])\n",
      "layer2.1.bn2: gamma=torch.Size([32]), beta=torch.Size([32])\n",
      "layer2.2.bn1: gamma=torch.Size([32]), beta=torch.Size([32])\n",
      "layer2.2.bn2: gamma=torch.Size([32]), beta=torch.Size([32])\n",
      "layer3.0.bn1: gamma=torch.Size([64]), beta=torch.Size([64])\n",
      "layer3.0.bn2: gamma=torch.Size([64]), beta=torch.Size([64])\n",
      "layer3.0.downsample.1: gamma=torch.Size([64]), beta=torch.Size([64])\n",
      "layer3.1.bn1: gamma=torch.Size([64]), beta=torch.Size([64])\n",
      "layer3.1.bn2: gamma=torch.Size([64]), beta=torch.Size([64])\n",
      "layer3.2.bn1: gamma=torch.Size([64]), beta=torch.Size([64])\n",
      "layer3.2.bn2: gamma=torch.Size([64]), beta=torch.Size([64])\n"
     ]
    }
   ],
   "source": [
    "for name, module in model.named_modules():\n",
    "    if isinstance(module, torch.nn.BatchNorm2d):\n",
    "        print(f\"{name}: gamma={module.weight.shape}, beta={module.bias.shape}\")"
   ]
  },
  {
   "cell_type": "code",
   "execution_count": null,
   "id": "b035a3bb-5c4b-4461-8eb7-366438767f78",
   "metadata": {
    "scrolled": true
   },
   "outputs": [],
   "source": [
    "# Run this to get the weight parameters\n",
    "# No need to run for the sake of documentation in github\n",
    "for name, module in model.named_modules():\n",
    "    if isinstance(module, torch.nn.BatchNorm2d):\n",
    "        gamma = module.weight.detach().cpu().numpy()  # scaling factors\n",
    "        beta = module.bias.detach().cpu().numpy()     # shifting factors\n",
    "        running_mean = module.running_mean.detach().cpu().numpy()  # BN running mean\n",
    "        running_var = module.running_var.detach().cpu().numpy()    # BN running variance\n",
    "        \n",
    "        print(f\"{name}:\")\n",
    "        print(f\"  gamma (weight): {gamma}\")\n",
    "        print(f\"  beta (bias): {beta}\")\n",
    "        print(f\"  running_mean: {running_mean}\")\n",
    "        print(f\"  running_var: {running_var}\")"
   ]
  },
  {
   "cell_type": "markdown",
   "id": "92169690-39da-401a-bbdf-fbdc9a5791da",
   "metadata": {},
   "source": [
    "## Final layer\n",
    "\n",
    "- The code below extracts the details of the avgpool and FC layer"
   ]
  },
  {
   "cell_type": "code",
   "execution_count": 23,
   "id": "e38c2c74-9045-474a-bf3e-90259683efe3",
   "metadata": {
    "execution": {
     "iopub.execute_input": "2025-05-22T06:49:38.900338Z",
     "iopub.status.busy": "2025-05-22T06:49:38.898444Z",
     "iopub.status.idle": "2025-05-22T06:49:38.913443Z",
     "shell.execute_reply": "2025-05-22T06:49:38.912170Z",
     "shell.execute_reply.started": "2025-05-22T06:49:38.900258Z"
    }
   },
   "outputs": [
    {
     "name": "stdout",
     "output_type": "stream",
     "text": [
      "Avgpool detail: AdaptiveAvgPool2d(output_size=(1, 1))\n",
      "FC layer weight shape: torch.Size([10, 64])\n",
      "FC layer bias shape: torch.Size([10])\n"
     ]
    }
   ],
   "source": [
    "avgpool_layer = model.avgpool\n",
    "fc_layer = model.fc  # In this model, it's named 'linear'\n",
    "\n",
    "print(\"Avgpool detail:\", avgpool_layer)\n",
    "print(\"FC layer weight shape:\", fc_layer.weight.shape)\n",
    "print(\"FC layer bias shape:\", fc_layer.bias.shape)"
   ]
  }
 ],
 "metadata": {
  "kernelspec": {
   "display_name": "Python 3 (ipykernel)",
   "language": "python",
   "name": "python3"
  },
  "language_info": {
   "codemirror_mode": {
    "name": "ipython",
    "version": 3
   },
   "file_extension": ".py",
   "mimetype": "text/x-python",
   "name": "python",
   "nbconvert_exporter": "python",
   "pygments_lexer": "ipython3",
   "version": "3.9.21"
  }
 },
 "nbformat": 4,
 "nbformat_minor": 5
}

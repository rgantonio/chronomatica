{
 "cells": [
  {
   "cell_type": "markdown",
   "id": "c1a850a1-7c20-47ef-91a7-e5bab7c92bae",
   "metadata": {},
   "source": [
    "# Circular Random Projection\n",
    "- This is a software experiment to check out how to do circular random projection\n",
    "- The idea is that instead of randomizing a huge matrix, we can make a smaller seed matrix and populate the larger matrix with smaller circular permutations of the larger matrix"
   ]
  },
  {
   "cell_type": "code",
   "execution_count": 1,
   "id": "5b7b273c-ef15-4e2a-b98f-091abeb7624a",
   "metadata": {},
   "outputs": [],
   "source": [
    "import numpy as np\n",
    "import matplotlib.pyplot as plt"
   ]
  },
  {
   "cell_type": "markdown",
   "id": "7e7f1e8a",
   "metadata": {},
   "source": [
    "# Useful Functions"
   ]
  },
  {
   "cell_type": "code",
   "execution_count": 2,
   "id": "2cb62d9c",
   "metadata": {},
   "outputs": [],
   "source": [
    "# Random indexing function to make an NxM matrix\n",
    "def random_indexing(N, M):\n",
    "    # Create aranged indices\n",
    "    matrix = np.arange(N * M)\n",
    "    # Shuffle the matrix\n",
    "    np.random.shuffle(matrix)\n",
    "    matrix = matrix.reshape(N, M)\n",
    "    # Create the bipolar matrix\n",
    "    matrix[matrix < (N * M) // 2] = -1\n",
    "    matrix[matrix >= (N * M) // 2] = 1\n",
    "    return matrix"
   ]
  },
  {
   "cell_type": "code",
   "execution_count": 3,
   "id": "41393270",
   "metadata": {},
   "outputs": [],
   "source": [
    "def numbered_indexing(N, M):\n",
    "    # Create an NxM matrix with numbers from 0 to N*M-1\n",
    "    matrix = np.arange(N * M).reshape(N, M)\n",
    "    return matrix"
   ]
  },
  {
   "cell_type": "code",
   "execution_count": 4,
   "id": "3cb6464a",
   "metadata": {},
   "outputs": [],
   "source": [
    "def circular_block(seed_matrix):\n",
    "    return np.roll(seed_matrix.flatten(), shift=1).reshape(seed_matrix.shape)"
   ]
  },
  {
   "cell_type": "code",
   "execution_count": 5,
   "id": "ea5fe75a",
   "metadata": {},
   "outputs": [],
   "source": [
    "def matrix_expansion(sub_matrix, X, Y):\n",
    "    # Copy sub matrix\n",
    "    base_matrix = sub_matrix\n",
    "\n",
    "    # Stitching the bigger matrix\n",
    "    blocks = []\n",
    "\n",
    "    # Horizontal expansion\n",
    "    for i in range(Y):\n",
    "        row_blocks = []\n",
    "        # Vertical expansion\n",
    "        for j in range(X):\n",
    "            base_matrix = circular_block(base_matrix)\n",
    "            row_blocks.append(base_matrix)\n",
    "        \n",
    "        # Stack vertically\n",
    "        blocks.append(np.vstack(row_blocks))\n",
    "\n",
    "    # Stack horizontally\n",
    "    final_matrix = np.hstack(blocks)\n",
    "\n",
    "    return final_matrix"
   ]
  },
  {
   "cell_type": "markdown",
   "id": "971c4276-1806-4d83-b4fb-8b28bc826ee2",
   "metadata": {},
   "source": [
    "# Creating a Simple Test Case\n",
    "- Let's try for now a simple input vector of $1 \\times 16$ multiplied to a matrix $16 \\times 16$ elements.\n",
    "- However the matrix $16 \\times 16$ is created using sub $4 \\times 4$ matrices that were pre-generated with 1s and -1s\n",
    "- There is a random indexing function to ensure the number of 1s and -1s are equal"
   ]
  },
  {
   "cell_type": "code",
   "execution_count": 6,
   "id": "7b4ce94d",
   "metadata": {},
   "outputs": [
    {
     "name": "stdout",
     "output_type": "stream",
     "text": [
      "Base vector: [[ 0  1  2  3  4  5  6  7  8  9 10 11 12 13 14 15]]\n",
      "Sub-matrix:\n",
      "[[ 0  1  2  3]\n",
      " [ 4  5  6  7]\n",
      " [ 8  9 10 11]\n",
      " [12 13 14 15]]\n"
     ]
    }
   ],
   "source": [
    "# Create base vector\n",
    "vector = numbered_indexing(1, 16)\n",
    "print(f\"Base vector: {vector}\")\n",
    "\n",
    "# Create sub-matrix\n",
    "sub_matrix = numbered_indexing(4, 4)\n",
    "print(f\"Sub-matrix:\\n{sub_matrix}\")"
   ]
  },
  {
   "cell_type": "markdown",
   "id": "a3c72adb",
   "metadata": {},
   "source": [
    "- The example below shows how the indices change per sub-matrix that is permuted"
   ]
  },
  {
   "cell_type": "code",
   "execution_count": 7,
   "id": "2dc3567e",
   "metadata": {},
   "outputs": [
    {
     "name": "stdout",
     "output_type": "stream",
     "text": [
      "Sub-matrix iter 0:\n",
      "[[ 0  1  2  3]\n",
      " [ 4  5  6  7]\n",
      " [ 8  9 10 11]\n",
      " [12 13 14 15]]\n",
      "Sub-matrix iter 1:\n",
      "[[15  0  1  2]\n",
      " [ 3  4  5  6]\n",
      " [ 7  8  9 10]\n",
      " [11 12 13 14]]\n",
      "Sub-matrix iter 2:\n",
      "[[14 15  0  1]\n",
      " [ 2  3  4  5]\n",
      " [ 6  7  8  9]\n",
      " [10 11 12 13]]\n",
      "Sub-matrix iter 3:\n",
      "[[13 14 15  0]\n",
      " [ 1  2  3  4]\n",
      " [ 5  6  7  8]\n",
      " [ 9 10 11 12]]\n"
     ]
    }
   ],
   "source": [
    "print(f\"Sub-matrix iter 0:\\n{sub_matrix}\")\n",
    "\n",
    "permute_sub_matrix = circular_block(sub_matrix)\n",
    "print(f\"Sub-matrix iter 1:\\n{permute_sub_matrix}\")\n",
    "\n",
    "permute_sub_matrix = circular_block(permute_sub_matrix)\n",
    "print(f\"Sub-matrix iter 2:\\n{permute_sub_matrix}\")\n",
    "\n",
    "permute_sub_matrix = circular_block(permute_sub_matrix)\n",
    "print(f\"Sub-matrix iter 3:\\n{permute_sub_matrix}\")"
   ]
  },
  {
   "cell_type": "markdown",
   "id": "77ca5ea2",
   "metadata": {},
   "source": [
    "- The matrix below shows the indices of how those permutations are stitched together.\n",
    "- So the sub-matrices from the larger block needs to be permutated vertically first before moving horizontally.\n",
    "- The pattern of the indices should be sufficient to show how the permutations work."
   ]
  },
  {
   "cell_type": "code",
   "execution_count": 8,
   "id": "31b5571a",
   "metadata": {},
   "outputs": [
    {
     "data": {
      "text/plain": [
       "array([[15,  0,  1,  2, 11, 12, 13, 14,  7,  8,  9, 10,  3,  4,  5,  6],\n",
       "       [ 3,  4,  5,  6, 15,  0,  1,  2, 11, 12, 13, 14,  7,  8,  9, 10],\n",
       "       [ 7,  8,  9, 10,  3,  4,  5,  6, 15,  0,  1,  2, 11, 12, 13, 14],\n",
       "       [11, 12, 13, 14,  7,  8,  9, 10,  3,  4,  5,  6, 15,  0,  1,  2],\n",
       "       [14, 15,  0,  1, 10, 11, 12, 13,  6,  7,  8,  9,  2,  3,  4,  5],\n",
       "       [ 2,  3,  4,  5, 14, 15,  0,  1, 10, 11, 12, 13,  6,  7,  8,  9],\n",
       "       [ 6,  7,  8,  9,  2,  3,  4,  5, 14, 15,  0,  1, 10, 11, 12, 13],\n",
       "       [10, 11, 12, 13,  6,  7,  8,  9,  2,  3,  4,  5, 14, 15,  0,  1],\n",
       "       [13, 14, 15,  0,  9, 10, 11, 12,  5,  6,  7,  8,  1,  2,  3,  4],\n",
       "       [ 1,  2,  3,  4, 13, 14, 15,  0,  9, 10, 11, 12,  5,  6,  7,  8],\n",
       "       [ 5,  6,  7,  8,  1,  2,  3,  4, 13, 14, 15,  0,  9, 10, 11, 12],\n",
       "       [ 9, 10, 11, 12,  5,  6,  7,  8,  1,  2,  3,  4, 13, 14, 15,  0],\n",
       "       [12, 13, 14, 15,  8,  9, 10, 11,  4,  5,  6,  7,  0,  1,  2,  3],\n",
       "       [ 0,  1,  2,  3, 12, 13, 14, 15,  8,  9, 10, 11,  4,  5,  6,  7],\n",
       "       [ 4,  5,  6,  7,  0,  1,  2,  3, 12, 13, 14, 15,  8,  9, 10, 11],\n",
       "       [ 8,  9, 10, 11,  4,  5,  6,  7,  0,  1,  2,  3, 12, 13, 14, 15]])"
      ]
     },
     "execution_count": 8,
     "metadata": {},
     "output_type": "execute_result"
    }
   ],
   "source": [
    "expanded_matrix = matrix_expansion(sub_matrix, 4, 4)\n",
    "expanded_matrix"
   ]
  },
  {
   "cell_type": "markdown",
   "id": "de5f4972",
   "metadata": {},
   "source": [
    "# Ideal Matrix Multiplication\n",
    "- In the ideal matrix multiplication, it's simply the vector multiplied by the matrix"
   ]
  },
  {
   "cell_type": "code",
   "execution_count": 9,
   "id": "e859059f",
   "metadata": {},
   "outputs": [
    {
     "data": {
      "text/plain": [
       "array([[804, 924, 980, 972, 772, 876, 916, 892, 804, 892, 916, 876, 900,\n",
       "        972, 980, 924]])"
      ]
     },
     "execution_count": 9,
     "metadata": {},
     "output_type": "execute_result"
    }
   ],
   "source": [
    "ideal_matmul = np.matmul(vector, expanded_matrix)\n",
    "ideal_matmul"
   ]
  },
  {
   "cell_type": "markdown",
   "id": "fb67b698",
   "metadata": {},
   "source": [
    "# Tiled Circular Matrix Projection\n",
    "- So the idea of the tiled circular matrix projection is that we don't need to store the entire permuted matrices but start only from a seed matrix, multiply things one by one.\n",
    "- In this case suppose we have an input vector of size $1 \\times 16$\n",
    "- Then we have a sub-matrices of size $4 \\times 4$ and the thing is we want to slide and circular permute this unto the input vector as if we did the multiplication of the vector and the expanded $16 \\times 16$ matrix.\n",
    "- Since we have $4 \\times 4$ sub-matrices, then it's sufficient to say to cut the vector into four $1 \\times 4$ sub-vectors.\n",
    "- Then we multiply the sub-vectors to the column-wise sub-matrices first as it produces $1 \\times 4$ sub-vectors for the output and we eventually concatenate them to make the desired $1 \\times 16$ output vector."
   ]
  },
  {
   "cell_type": "markdown",
   "id": "a21f83e9",
   "metadata": {},
   "source": [
    "## First, cut input vector into sub-vectors\n",
    "- Technically easier done to just reshape the vector into $4 \\times 4$ where each row is one sub-vector."
   ]
  },
  {
   "cell_type": "code",
   "execution_count": 10,
   "id": "0fdbb5a9",
   "metadata": {},
   "outputs": [
    {
     "name": "stdout",
     "output_type": "stream",
     "text": [
      "Orig vector:\n",
      "[[ 0  1  2  3  4  5  6  7  8  9 10 11 12 13 14 15]]\n",
      "Split vector:\n",
      "[[ 0  1  2  3]\n",
      " [ 4  5  6  7]\n",
      " [ 8  9 10 11]\n",
      " [12 13 14 15]]\n"
     ]
    }
   ],
   "source": [
    "print(f\"Orig vector:\\n{vector}\")\n",
    "\n",
    "split_vector = vector.reshape(4, 4)\n",
    "print(f\"Split vector:\\n{split_vector}\")"
   ]
  },
  {
   "cell_type": "markdown",
   "id": "d9a90255",
   "metadata": {},
   "source": [
    "# Iterative Circular Projections\n",
    "- Since we only, supposedly, store the seed sub-matrix, then we need to iterate through the permutations one by one.\n",
    "- In this example we need to iterate 16 times."
   ]
  },
  {
   "cell_type": "code",
   "execution_count": 11,
   "id": "cd135822",
   "metadata": {},
   "outputs": [
    {
     "name": "stdout",
     "output_type": "stream",
     "text": [
      "Expected output after permuted sub-matrices:\n",
      "[[804 924 980 972 772 876 916 892 804 892 916 876 900 972 980 924]]\n",
      "[[ True  True  True  True  True  True  True  True  True  True  True  True\n",
      "   True  True  True  True]]\n"
     ]
    }
   ],
   "source": [
    "# Initialize expected output\n",
    "expected_output = np.zeros((4, 4), dtype=int)\n",
    "\n",
    "# Iterate through the permuted sub-matrices\n",
    "permuted_sub_matrix = sub_matrix.copy()\n",
    "\n",
    "for i in range(4):\n",
    "    for j in range(4):\n",
    "        # Get the permuted sub-matrix\n",
    "        permuted_sub_matrix = circular_block(permuted_sub_matrix)\n",
    "        \n",
    "        # Perform matrix multiplication only on the sub-matrix and sub-vector\n",
    "        result = np.matmul(split_vector[j, :], permuted_sub_matrix)\n",
    "        \n",
    "        # Store the result in the expected output location\n",
    "        # Technically it is an output sub-vector\n",
    "        expected_output[i] = expected_output[i] + result\n",
    "\n",
    "expected_output = expected_output.reshape(1, 16)\n",
    "print(f\"Expected output after permuted sub-matrices:\\n{expected_output}\")\n",
    "\n",
    "# Compare the ideal matrix multiplication with the expected output\n",
    "print(expected_output == ideal_matmul)"
   ]
  }
 ],
 "metadata": {
  "kernelspec": {
   "display_name": "tensorflow",
   "language": "python",
   "name": "python3"
  },
  "language_info": {
   "codemirror_mode": {
    "name": "ipython",
    "version": 3
   },
   "file_extension": ".py",
   "mimetype": "text/x-python",
   "name": "python",
   "nbconvert_exporter": "python",
   "pygments_lexer": "ipython3",
   "version": "3.9.18"
  }
 },
 "nbformat": 4,
 "nbformat_minor": 5
}

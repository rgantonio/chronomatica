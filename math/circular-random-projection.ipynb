{
 "cells": [
  {
   "cell_type": "markdown",
   "id": "c1a850a1-7c20-47ef-91a7-e5bab7c92bae",
   "metadata": {},
   "source": [
    "# Circular Random Projection\n",
    "- This is a software experiment to check out how to do circular random projection\n",
    "- The idea is that instead of randomizing a huge matrix, we can make a smaller seed matrix and populate the larger matrix with smaller circular permutations of the larger matrix"
   ]
  },
  {
   "cell_type": "code",
   "execution_count": 1,
   "id": "5b7b273c-ef15-4e2a-b98f-091abeb7624a",
   "metadata": {},
   "outputs": [
    {
     "name": "stdout",
     "output_type": "stream",
     "text": [
      "VSA Library: /home/rantonio/chronomatica/math/../lib/\n"
     ]
    }
   ],
   "source": [
    "import numpy as np\n",
    "import matplotlib.pyplot as plt\n",
    "from math import comb\n",
    "import itertools\n",
    "\n",
    "# Import library\n",
    "import os\n",
    "import sys\n",
    "\n",
    "# Gets directory where script was launched from\n",
    "script_dir = os.getcwd()  \n",
    "script_dir = script_dir + \"/../lib/\"\n",
    "print(f\"VSA Library: {script_dir}\")\n",
    "\n",
    "# Add the directory to Python's search path\n",
    "sys.path.append(script_dir)  \n",
    "\n",
    "import vsa"
   ]
  },
  {
   "cell_type": "markdown",
   "id": "7e7f1e8a",
   "metadata": {},
   "source": [
    "# Useful Functions"
   ]
  },
  {
   "cell_type": "code",
   "execution_count": 2,
   "id": "2cb62d9c",
   "metadata": {},
   "outputs": [],
   "source": [
    "# Random indexing function to make an NxM matrix\n",
    "def random_indexing(N, M):\n",
    "    # Create aranged indices\n",
    "    matrix = np.arange(N * M)\n",
    "    # Shuffle the matrix\n",
    "    np.random.shuffle(matrix)\n",
    "    matrix = matrix.reshape(N, M)\n",
    "    # Create the bipolar matrix\n",
    "    matrix[matrix < (N * M) // 2] = -1\n",
    "    matrix[matrix >= (N * M) // 2] = 1\n",
    "    return matrix"
   ]
  },
  {
   "cell_type": "code",
   "execution_count": 3,
   "id": "41393270",
   "metadata": {},
   "outputs": [],
   "source": [
    "def numbered_indexing(N, M):\n",
    "    # Create an NxM matrix with numbers from 0 to N*M-1\n",
    "    matrix = np.arange(N * M).reshape(N, M)\n",
    "    return matrix"
   ]
  },
  {
   "cell_type": "code",
   "execution_count": 4,
   "id": "3cb6464a",
   "metadata": {},
   "outputs": [],
   "source": [
    "def circular_block(seed_matrix):\n",
    "    return np.roll(seed_matrix.flatten(), shift=1).reshape(seed_matrix.shape)"
   ]
  },
  {
   "cell_type": "code",
   "execution_count": 5,
   "id": "ea5fe75a",
   "metadata": {},
   "outputs": [],
   "source": [
    "def matrix_expansion(sub_matrix, X, Y):\n",
    "    # Copy sub matrix\n",
    "    base_matrix = sub_matrix\n",
    "\n",
    "    # Stitching the bigger matrix\n",
    "    blocks = []\n",
    "\n",
    "    # Horizontal expansion\n",
    "    for i in range(Y):\n",
    "        row_blocks = []\n",
    "        # Vertical expansion\n",
    "        for j in range(X):\n",
    "            base_matrix = circular_block(base_matrix)\n",
    "            row_blocks.append(base_matrix)\n",
    "        \n",
    "        # Stack vertically\n",
    "        blocks.append(np.vstack(row_blocks))\n",
    "\n",
    "    # Stack horizontally\n",
    "    final_matrix = np.hstack(blocks)\n",
    "\n",
    "    return final_matrix"
   ]
  },
  {
   "cell_type": "markdown",
   "id": "971c4276-1806-4d83-b4fb-8b28bc826ee2",
   "metadata": {},
   "source": [
    "# Creating a Simple Test Case\n",
    "- Let's try for now a simple input vector of $1 \\times 16$ multiplied to a matrix $16 \\times 16$ elements.\n",
    "- However the matrix $16 \\times 16$ is created using sub $4 \\times 4$ matrices that were pre-generated with 1s and -1s\n",
    "- There is a random indexing function to ensure the number of 1s and -1s are equal"
   ]
  },
  {
   "cell_type": "code",
   "execution_count": 6,
   "id": "7b4ce94d",
   "metadata": {},
   "outputs": [
    {
     "name": "stdout",
     "output_type": "stream",
     "text": [
      "Base vector: [[ 0  1  2  3  4  5  6  7  8  9 10 11 12 13 14 15]]\n",
      "Sub-matrix:\n",
      "[[ 0  1  2  3]\n",
      " [ 4  5  6  7]\n",
      " [ 8  9 10 11]\n",
      " [12 13 14 15]]\n"
     ]
    }
   ],
   "source": [
    "# Create base vector\n",
    "vector = numbered_indexing(1, 16)\n",
    "print(f\"Base vector: {vector}\")\n",
    "\n",
    "# Create sub-matrix\n",
    "sub_matrix = numbered_indexing(4, 4)\n",
    "print(f\"Sub-matrix:\\n{sub_matrix}\")"
   ]
  },
  {
   "cell_type": "markdown",
   "id": "a3c72adb",
   "metadata": {},
   "source": [
    "- The example below shows how the indices change per sub-matrix that is permuted"
   ]
  },
  {
   "cell_type": "code",
   "execution_count": 7,
   "id": "2dc3567e",
   "metadata": {},
   "outputs": [
    {
     "name": "stdout",
     "output_type": "stream",
     "text": [
      "Sub-matrix iter 0:\n",
      "[[ 0  1  2  3]\n",
      " [ 4  5  6  7]\n",
      " [ 8  9 10 11]\n",
      " [12 13 14 15]]\n",
      "Sub-matrix iter 1:\n",
      "[[15  0  1  2]\n",
      " [ 3  4  5  6]\n",
      " [ 7  8  9 10]\n",
      " [11 12 13 14]]\n",
      "Sub-matrix iter 2:\n",
      "[[14 15  0  1]\n",
      " [ 2  3  4  5]\n",
      " [ 6  7  8  9]\n",
      " [10 11 12 13]]\n",
      "Sub-matrix iter 3:\n",
      "[[13 14 15  0]\n",
      " [ 1  2  3  4]\n",
      " [ 5  6  7  8]\n",
      " [ 9 10 11 12]]\n"
     ]
    }
   ],
   "source": [
    "print(f\"Sub-matrix iter 0:\\n{sub_matrix}\")\n",
    "\n",
    "permute_sub_matrix = circular_block(sub_matrix)\n",
    "print(f\"Sub-matrix iter 1:\\n{permute_sub_matrix}\")\n",
    "\n",
    "permute_sub_matrix = circular_block(permute_sub_matrix)\n",
    "print(f\"Sub-matrix iter 2:\\n{permute_sub_matrix}\")\n",
    "\n",
    "permute_sub_matrix = circular_block(permute_sub_matrix)\n",
    "print(f\"Sub-matrix iter 3:\\n{permute_sub_matrix}\")"
   ]
  },
  {
   "cell_type": "markdown",
   "id": "77ca5ea2",
   "metadata": {},
   "source": [
    "- The matrix below shows the indices of how those permutations are stitched together.\n",
    "- So the sub-matrices from the larger block needs to be permutated vertically first before moving horizontally.\n",
    "- The pattern of the indices should be sufficient to show how the permutations work."
   ]
  },
  {
   "cell_type": "code",
   "execution_count": 8,
   "id": "31b5571a",
   "metadata": {},
   "outputs": [
    {
     "data": {
      "text/plain": [
       "array([[15,  0,  1,  2, 11, 12, 13, 14,  7,  8,  9, 10,  3,  4,  5,  6],\n",
       "       [ 3,  4,  5,  6, 15,  0,  1,  2, 11, 12, 13, 14,  7,  8,  9, 10],\n",
       "       [ 7,  8,  9, 10,  3,  4,  5,  6, 15,  0,  1,  2, 11, 12, 13, 14],\n",
       "       [11, 12, 13, 14,  7,  8,  9, 10,  3,  4,  5,  6, 15,  0,  1,  2],\n",
       "       [14, 15,  0,  1, 10, 11, 12, 13,  6,  7,  8,  9,  2,  3,  4,  5],\n",
       "       [ 2,  3,  4,  5, 14, 15,  0,  1, 10, 11, 12, 13,  6,  7,  8,  9],\n",
       "       [ 6,  7,  8,  9,  2,  3,  4,  5, 14, 15,  0,  1, 10, 11, 12, 13],\n",
       "       [10, 11, 12, 13,  6,  7,  8,  9,  2,  3,  4,  5, 14, 15,  0,  1],\n",
       "       [13, 14, 15,  0,  9, 10, 11, 12,  5,  6,  7,  8,  1,  2,  3,  4],\n",
       "       [ 1,  2,  3,  4, 13, 14, 15,  0,  9, 10, 11, 12,  5,  6,  7,  8],\n",
       "       [ 5,  6,  7,  8,  1,  2,  3,  4, 13, 14, 15,  0,  9, 10, 11, 12],\n",
       "       [ 9, 10, 11, 12,  5,  6,  7,  8,  1,  2,  3,  4, 13, 14, 15,  0],\n",
       "       [12, 13, 14, 15,  8,  9, 10, 11,  4,  5,  6,  7,  0,  1,  2,  3],\n",
       "       [ 0,  1,  2,  3, 12, 13, 14, 15,  8,  9, 10, 11,  4,  5,  6,  7],\n",
       "       [ 4,  5,  6,  7,  0,  1,  2,  3, 12, 13, 14, 15,  8,  9, 10, 11],\n",
       "       [ 8,  9, 10, 11,  4,  5,  6,  7,  0,  1,  2,  3, 12, 13, 14, 15]])"
      ]
     },
     "execution_count": 8,
     "metadata": {},
     "output_type": "execute_result"
    }
   ],
   "source": [
    "expanded_matrix = matrix_expansion(sub_matrix, 4, 4)\n",
    "expanded_matrix"
   ]
  },
  {
   "cell_type": "markdown",
   "id": "de5f4972",
   "metadata": {},
   "source": [
    "# Ideal Matrix Multiplication\n",
    "- In the ideal matrix multiplication, it's simply the vector multiplied by the matrix"
   ]
  },
  {
   "cell_type": "code",
   "execution_count": 9,
   "id": "e859059f",
   "metadata": {},
   "outputs": [
    {
     "data": {
      "text/plain": [
       "array([[804, 924, 980, 972, 772, 876, 916, 892, 804, 892, 916, 876, 900,\n",
       "        972, 980, 924]])"
      ]
     },
     "execution_count": 9,
     "metadata": {},
     "output_type": "execute_result"
    }
   ],
   "source": [
    "ideal_matmul = np.matmul(vector, expanded_matrix)\n",
    "ideal_matmul"
   ]
  },
  {
   "cell_type": "markdown",
   "id": "fb67b698",
   "metadata": {},
   "source": [
    "# Tiled Circular Matrix Projection\n",
    "- So the idea of the tiled circular matrix projection is that we don't need to store the entire permuted matrices but start only from a seed matrix, multiply things one by one.\n",
    "- In this case suppose we have an input vector of size $1 \\times 16$\n",
    "- Then we have a sub-matrices of size $4 \\times 4$ and the thing is we want to slide and circular permute this unto the input vector as if we did the multiplication of the vector and the expanded $16 \\times 16$ matrix.\n",
    "- Since we have $4 \\times 4$ sub-matrices, then it's sufficient to say to cut the vector into four $1 \\times 4$ sub-vectors.\n",
    "- Then we multiply the sub-vectors to the column-wise sub-matrices first as it produces $1 \\times 4$ sub-vectors for the output and we eventually concatenate them to make the desired $1 \\times 16$ output vector."
   ]
  },
  {
   "cell_type": "markdown",
   "id": "a21f83e9",
   "metadata": {},
   "source": [
    "## First, cut input vector into sub-vectors\n",
    "- Technically easier done to just reshape the vector into $4 \\times 4$ where each row is one sub-vector."
   ]
  },
  {
   "cell_type": "code",
   "execution_count": 10,
   "id": "0fdbb5a9",
   "metadata": {},
   "outputs": [
    {
     "name": "stdout",
     "output_type": "stream",
     "text": [
      "Orig vector:\n",
      "[[ 0  1  2  3  4  5  6  7  8  9 10 11 12 13 14 15]]\n",
      "Split vector:\n",
      "[[ 0  1  2  3]\n",
      " [ 4  5  6  7]\n",
      " [ 8  9 10 11]\n",
      " [12 13 14 15]]\n"
     ]
    }
   ],
   "source": [
    "print(f\"Orig vector:\\n{vector}\")\n",
    "\n",
    "split_vector = vector.reshape(4, 4)\n",
    "print(f\"Split vector:\\n{split_vector}\")"
   ]
  },
  {
   "cell_type": "markdown",
   "id": "d9a90255",
   "metadata": {},
   "source": [
    "# Iterative Circular Projections\n",
    "- Since we only, supposedly, store the seed sub-matrix, then we need to iterate through the permutations one by one.\n",
    "- In this example we need to iterate 16 times."
   ]
  },
  {
   "cell_type": "code",
   "execution_count": 12,
   "id": "cd135822",
   "metadata": {},
   "outputs": [
    {
     "name": "stdout",
     "output_type": "stream",
     "text": [
      "Expected output after permuted sub-matrices:\n",
      "[[804 924 980 972 772 876 916 892 804 892 916 876 900 972 980 924]]\n",
      "[[ True  True  True  True  True  True  True  True  True  True  True  True\n",
      "   True  True  True  True]]\n"
     ]
    }
   ],
   "source": [
    "# Initialize expected output\n",
    "expected_output = np.zeros((4, 4), dtype=int)\n",
    "\n",
    "# Iterate through the permuted sub-matrices\n",
    "permuted_sub_matrix = sub_matrix.copy()\n",
    "\n",
    "for i in range(4):\n",
    "    for j in range(4):\n",
    "        # Get the permuted sub-matrix\n",
    "        permuted_sub_matrix = circular_block(permuted_sub_matrix)\n",
    "        \n",
    "        # Perform matrix multiplication only on the sub-matrix and sub-vector\n",
    "        result = np.matmul(split_vector[j, :], permuted_sub_matrix)\n",
    "        \n",
    "        # Store the result in the expected output location\n",
    "        # Technically it is an output sub-vector\n",
    "        expected_output[i] = expected_output[i] + result\n",
    "\n",
    "expected_output = expected_output.reshape(1, 16)\n",
    "print(f\"Expected output after permuted sub-matrices:\\n{expected_output}\")\n",
    "\n",
    "# Compare the ideal matrix multiplication with the expected output\n",
    "print(expected_output == ideal_matmul)"
   ]
  },
  {
   "cell_type": "markdown",
   "id": "1f3b8d54",
   "metadata": {},
   "source": [
    "## Conclusion\n",
    "- The circular random projection does multiple matrices instead but this time we only need to store a single seed sub matrix $4 \\times 4$ instead of storing a larger $16 \\times 16$ matrix."
   ]
  },
  {
   "cell_type": "markdown",
   "id": "e715bb37-8fe1-4743-a28b-50aef54e7f90",
   "metadata": {},
   "source": [
    "# Checking for Matrix Viability\n",
    "- Some random matrices that are bipolar $\\{+1,-1\\}^D$ may not be viable at times if the permutations, by chance become the same.\n",
    "- For example, a small vector $[+1,-1,+1,-1,+1,-1,+1,-1]$ when permuted twice you get the same vector.\n",
    "- Therefore, to make sure we get the proper random matrix projection, it is necessary that the matrix needs to have column vectors as linearly independent. We can check linear independence by checking the rank of the matrix.\n",
    "- Take note that linear independence means that a set of vectors $\\{v_1, v_2, ... v_n\\} \\in \\mathbb{R}^{D}$ is linearly independent if and only if for a given set of scalars $\\{a_1, a_2, ... a_n\\}$:\n",
    "$$a_1v_1 + a_2v_2 + ... + a_nv_n = 0 $$\n",
    "- Has only one trivial solution when $a_1 = a_2 = ... = a_n = 0$.\n",
    "- Therefore if there is by chance there is a vector dependency, then that's not good.\n"
   ]
  },
  {
   "cell_type": "code",
   "execution_count": 13,
   "id": "860e70c4-25b8-4ad9-840b-f81a70b1b46f",
   "metadata": {},
   "outputs": [
    {
     "data": {
      "text/plain": [
       "np.True_"
      ]
     },
     "execution_count": 13,
     "metadata": {},
     "output_type": "execute_result"
    }
   ],
   "source": [
    "# Sample of a linearly independent matrix\n",
    "# Observe that these are circularly permuted\n",
    "# row-vectors but we will tranpose it\n",
    "matA = np.array([\n",
    "    [1,-1,1,-1,1,1,-1,-1],\n",
    "    [-1,1,-1,1,-1,1,1,-1],\n",
    "    [-1,-1,1,-1,1,-1,1,1],\n",
    "])\n",
    "\n",
    "matA = matA.T\n",
    "rankmatA = np.linalg.matrix_rank(matA)\n",
    "\n",
    "# The rank of the matrix needs to be\n",
    "# the same size of the columns\n",
    "rankmatA == matA.shape[1]"
   ]
  },
  {
   "cell_type": "code",
   "execution_count": 14,
   "id": "56f64694-3bfd-4b23-90b1-1baee92c6948",
   "metadata": {},
   "outputs": [
    {
     "data": {
      "text/plain": [
       "np.False_"
      ]
     },
     "execution_count": 14,
     "metadata": {},
     "output_type": "execute_result"
    }
   ],
   "source": [
    "# Sample of a not linearly independent matrix\n",
    "\n",
    "matA = np.array([\n",
    "    [1,-1,1,-1,1,-1,1,-1],\n",
    "    [-1,1,-1,1,-1,1,-1,1],\n",
    "    [1,-1,1,-1,1,-1,1,-1],\n",
    "])\n",
    "\n",
    "matA = matA.T\n",
    "rankmatA = np.linalg.matrix_rank(matA)\n",
    "\n",
    "# The rank of the matrix needs to be\n",
    "# the same size of the columns\n",
    "rankmatA == matA.shape[1]"
   ]
  },
  {
   "cell_type": "markdown",
   "id": "3bb59c5f-86f0-4e94-b1a9-da86afd7042b",
   "metadata": {},
   "source": [
    "- So from the above examples, indeed if there are permutations that eventually lead to linearly dependent vectors are not viable, and it can happen if we are not careful.\n",
    "- We can approach this in two ways: (1) we sample a vector and see if the maximum expanded matrix would still be linearly dependent, or (2) we list all possibilities and list the viable ones only.\n",
    "- This might be highly dependent on whether vector is short or long. If it's short enough, then there's a good posibility to list all. For example, if the vector (or submatrix) is like 16 elements long, then 16 taken 8 permutations to 12870 combinations."
   ]
  },
  {
   "cell_type": "code",
   "execution_count": 15,
   "id": "8489daf7-2b0e-4db1-890f-7ea286c9f6e3",
   "metadata": {},
   "outputs": [
    {
     "data": {
      "text/plain": [
       "12870"
      ]
     },
     "execution_count": 15,
     "metadata": {},
     "output_type": "execute_result"
    }
   ],
   "source": [
    "n_permutations = comb(16, 8)\n",
    "n_permutations"
   ]
  },
  {
   "cell_type": "markdown",
   "id": "00a8f2a9-18d5-4328-b920-c2672f03ea24",
   "metadata": {},
   "source": [
    "- This means there is probability some number out of the total 12,870 that may cause a combination that is limited.\n",
    "- In the following experiment let's try to generate bigger matrices of 16 vectors that were randomly generated.\n",
    "- Take note, the vectors have equal $+1$ and $-1$ (i.e., 8 times each)."
   ]
  },
  {
   "cell_type": "code",
   "execution_count": 16,
   "id": "07766fdb-9f06-4490-9b2b-748548f060af",
   "metadata": {},
   "outputs": [],
   "source": [
    "def measure_correct_rank(N, vsize):\n",
    "    # Iterate N times to track if the rank changes\n",
    "    match_score = 0\n",
    "    \n",
    "    for n in range(N):\n",
    "        # Initialize matrix\n",
    "        matrix = np.zeros((vsize,vsize))\n",
    "        \n",
    "        # Generate vector seed\n",
    "        vector_seed = vsa.gen_hv(vsize, type='bipolar')\n",
    "        \n",
    "        # Make permutations into vector seed\n",
    "        for i in range(len(matrix)):\n",
    "            matrix[i] = np.roll(vector_seed,i)\n",
    "        \n",
    "        # Transpose to make the vectors columns\n",
    "        matrix = matrix.T\n",
    "        \n",
    "        # Check the rank\n",
    "        rank_matrix = np.linalg.matrix_rank(matrix)\n",
    "        if(rank_matrix == vsize):\n",
    "            match_score += 1\n",
    "\n",
    "    match_score_percent = (match_score / N)*100\n",
    "    print(f\"Percentage of matches: {match_score_percent:.2f}\")\n",
    "    return\n"
   ]
  },
  {
   "cell_type": "code",
   "execution_count": 17,
   "id": "b2393645-6982-47ea-bd57-c4c43efbd90e",
   "metadata": {},
   "outputs": [
    {
     "name": "stdout",
     "output_type": "stream",
     "text": [
      "Percentage of matches: 62.00\n"
     ]
    }
   ],
   "source": [
    "measure_correct_rank(100, 16)"
   ]
  },
  {
   "cell_type": "markdown",
   "id": "10ce0af1-d315-4981-9ece-69db5d057d28",
   "metadata": {},
   "source": [
    "- Clearly, this just shows that there are some combinations that give proper matrices or not\n",
    "- Let's check out the of it happening if the vector size was larger"
   ]
  },
  {
   "cell_type": "code",
   "execution_count": 18,
   "id": "466b5f27-fea3-4ca4-a072-800badabf2b0",
   "metadata": {},
   "outputs": [
    {
     "name": "stdout",
     "output_type": "stream",
     "text": [
      "Percentage of matches: 88.00\n"
     ]
    }
   ],
   "source": [
    "measure_correct_rank(100, 128)"
   ]
  },
  {
   "cell_type": "code",
   "execution_count": 20,
   "id": "92942bfb-a25d-4ea3-a33f-58b1e823532c",
   "metadata": {},
   "outputs": [
    {
     "name": "stdout",
     "output_type": "stream",
     "text": [
      "Percentage of matches: 90.00\n"
     ]
    }
   ],
   "source": [
    "measure_correct_rank(100, 512)"
   ]
  },
  {
   "cell_type": "markdown",
   "id": "f134fbba-aa04-4a7c-b5b2-96b55c0b3fef",
   "metadata": {},
   "source": [
    "- So if the seed vectors or matrices are larger, there is a higher chance that we get more linearly independent components.\n",
    "- The thing is, in our ResNet + HDC requirement, we need a $4,096 \\times 512$ projection matrix which implies we need 512 $4,096 \\times 1$ vectors that are linearly independent.\n",
    "- To generate a $4,096 \\times 1$ vector with a single $16 \\times 1$ vector, we need $\\frac{4,096}{16}= 256$ seed vectors of $16 \\times 1$ to create one $4,096 \\times 1$ vector.\n",
    "- The problem is we can only permute $16$ times and if we need $512$ of those $4,096 \\times 1$ vectors then for a single set of $256$ seed-vectors we can only make $4,096 \\times 16$ out of the $16$ permutations.\n",
    "- To encompass up to 512 $4,096 \\times 1$ vectors, we need $\\frac{512}{16} = 32$ more seed sets then in total we need $256 \\times 32 = 8,192$ seed vectors.\n",
    "- **This makes the $16\\times 1$ vectors not applicable because we need to generate $8,192$ seed vectors but sadly we can only have $12,870$ combinations from the $16 \\times 1$ vectors with equal $+1$ and $-1$ elements. Take note that not all of the $12,870$ combinations are also valid since some of them generate matrices with linear dependencies.** "
   ]
  },
  {
   "cell_type": "markdown",
   "id": "a76430cd-5a95-4412-9e12-0d46e1fe5ca4",
   "metadata": {},
   "source": [
    "- The safest way to do so is to use 8 $512 \\times 1$ seed vectors to generate one $4,096 \\times 1$\n",
    "- Because we can permute at the maximum $512$ times too, then we literally only need 8 seed vectors to cover all $4,096 \\times 512$ matrix projection.\n",
    "- Moreover, since there is a high probability of making a fully linearly independent matrix, then we definitely would have a gazillion choices of an appropriate set! "
   ]
  }
 ],
 "metadata": {
  "kernelspec": {
   "display_name": "Python 3 (ipykernel)",
   "language": "python",
   "name": "python3"
  },
  "language_info": {
   "codemirror_mode": {
    "name": "ipython",
    "version": 3
   },
   "file_extension": ".py",
   "mimetype": "text/x-python",
   "name": "python",
   "nbconvert_exporter": "python",
   "pygments_lexer": "ipython3",
   "version": "3.10.16"
  }
 },
 "nbformat": 4,
 "nbformat_minor": 5
}
